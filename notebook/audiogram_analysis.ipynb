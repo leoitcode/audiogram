{
 "cells": [
  {
   "cell_type": "markdown",
   "id": "19db382a",
   "metadata": {},
   "source": [
    "# AUDIOGRAM PREDICT"
   ]
  },
  {
   "cell_type": "markdown",
   "id": "0326a15a",
   "metadata": {},
   "source": [
    "This is a project to predict audiogram values"
   ]
  },
  {
   "cell_type": "markdown",
   "id": "35548727",
   "metadata": {},
   "source": [
    "### Part One: Analysis"
   ]
  },
  {
   "cell_type": "markdown",
   "id": "f2dc8375",
   "metadata": {},
   "source": [
    " "
   ]
  },
  {
   "cell_type": "markdown",
   "id": "61e55e83",
   "metadata": {},
   "source": [
    "## Settings"
   ]
  },
  {
   "cell_type": "markdown",
   "id": "999a2d87",
   "metadata": {},
   "source": [
    "#### Path"
   ]
  },
  {
   "cell_type": "code",
   "execution_count": 4,
   "id": "b4d15db4",
   "metadata": {
    "ExecuteTime": {
     "end_time": "2022-07-31T12:33:19.113475Z",
     "start_time": "2022-07-31T12:33:18.995702Z"
    },
    "scrolled": true
   },
   "outputs": [
    {
     "name": "stdout",
     "output_type": "stream",
     "text": [
      "dataset  notebook\t README.md\t\t      scripts\r\n",
      "model\t pyproject.toml  requirements_experiment.txt  src\r\n"
     ]
    }
   ],
   "source": [
    "from pathlib import Path\n",
    "import os\n",
    "\n",
    "# Sets base path\n",
    "b_path = Path.home() / 'Development' / 'audiogram'\n",
    "os.chdir(b_path)\n",
    "!ls\n",
    "\n",
    "d_path = b_path / 'dataset'\n",
    "n_path = b_path / 'notebook'\n",
    "s_path = b_path / 'scripts'"
   ]
  },
  {
   "cell_type": "markdown",
   "id": "2414e68c",
   "metadata": {},
   "source": [
    "#### Install"
   ]
  },
  {
   "cell_type": "code",
   "execution_count": 29,
   "id": "8f827459",
   "metadata": {
    "ExecuteTime": {
     "end_time": "2022-07-31T13:54:39.490658Z",
     "start_time": "2022-07-31T13:54:05.923302Z"
    },
    "collapsed": true
   },
   "outputs": [
    {
     "name": "stdout",
     "output_type": "stream",
     "text": [
      "Collecting autoviz\n",
      "  Downloading autoviz-0.1.42-py3-none-any.whl (62 kB)\n",
      "\u001b[2K     \u001b[38;2;114;156;31m━━━━━━━━━━━━━━━━━━━━━━━━━━━━━━━━━━━━━━━━\u001b[0m \u001b[32m62.3/62.3 kB\u001b[0m \u001b[31m1.2 MB/s\u001b[0m eta \u001b[36m0:00:00\u001b[0m31m929.9 kB/s\u001b[0m eta \u001b[36m0:00:01\u001b[0m\n",
      "\u001b[?25hCollecting hvplot>=0.7.3\n",
      "  Downloading hvplot-0.8.0-py2.py3-none-any.whl (3.1 MB)\n",
      "\u001b[2K     \u001b[38;2;114;156;31m━━━━━━━━━━━━━━━━━━━━━━━━━━━━━━━━━━━━━━━━\u001b[0m \u001b[32m3.1/3.1 MB\u001b[0m \u001b[31m5.6 MB/s\u001b[0m eta \u001b[36m0:00:00\u001b[0m MB/s\u001b[0m eta \u001b[36m0:00:01\u001b[0m:01\u001b[0m\n",
      "\u001b[?25hCollecting xgboost>=0.82\n",
      "  Downloading xgboost-1.6.1-py3-none-manylinux2014_x86_64.whl (192.9 MB)\n",
      "\u001b[2K     \u001b[38;2;114;156;31m━━━━━━━━━━━━━━━━━━━━━━━━━━━━━━━━━━━━━━\u001b[0m \u001b[32m192.9/192.9 MB\u001b[0m \u001b[31m14.7 MB/s\u001b[0m eta \u001b[36m0:00:00\u001b[0mm eta \u001b[36m0:00:01\u001b[0m[36m0:00:01\u001b[0m\n",
      "\u001b[?25hCollecting bokeh>=2.4.2\n",
      "  Downloading bokeh-2.4.3-py3-none-any.whl (18.5 MB)\n",
      "\u001b[2K     \u001b[38;2;114;156;31m━━━━━━━━━━━━━━━━━━━━━━━━━━━━━━━━━━━━━━━━\u001b[0m \u001b[32m18.5/18.5 MB\u001b[0m \u001b[31m44.2 MB/s\u001b[0m eta \u001b[36m0:00:00\u001b[0mm eta \u001b[36m0:00:01\u001b[0m[36m0:00:01\u001b[0m\n",
      "\u001b[?25hCollecting pyamg\n",
      "  Downloading pyamg-4.2.3-cp310-cp310-manylinux_2_12_x86_64.manylinux2010_x86_64.whl (1.7 MB)\n",
      "\u001b[2K     \u001b[38;2;114;156;31m━━━━━━━━━━━━━━━━━━━━━━━━━━━━━━━━━━━━━━━━\u001b[0m \u001b[32m1.7/1.7 MB\u001b[0m \u001b[31m71.2 MB/s\u001b[0m eta \u001b[36m0:00:00\u001b[0m\n",
      "\u001b[?25hRequirement already satisfied: emoji in /home/leobit/.local/lib/python3.10/site-packages (from autoviz) (1.7.0)\n",
      "Collecting nltk\n",
      "  Using cached nltk-3.7-py3-none-any.whl (1.5 MB)\n",
      "Collecting textblob\n",
      "  Downloading textblob-0.17.1-py2.py3-none-any.whl (636 kB)\n",
      "\u001b[2K     \u001b[38;2;114;156;31m━━━━━━━━━━━━━━━━━━━━━━━━━━━━━━━━━━━━━━\u001b[0m \u001b[32m636.8/636.8 kB\u001b[0m \u001b[31m25.7 MB/s\u001b[0m eta \u001b[36m0:00:00\u001b[0m\n",
      "\u001b[?25hCollecting panel~=0.12.6\n",
      "  Downloading panel-0.12.7-py2.py3-none-any.whl (12.9 MB)\n",
      "\u001b[2K     \u001b[38;2;114;156;31m━━━━━━━━━━━━━━━━━━━━━━━━━━━━━━━━━━━━━━━━\u001b[0m \u001b[32m12.9/12.9 MB\u001b[0m \u001b[31m39.5 MB/s\u001b[0m eta \u001b[36m0:00:00\u001b[0m[36m0:00:01\u001b[0mm eta \u001b[36m0:00:01\u001b[0m\n",
      "\u001b[?25hCollecting matplotlib>=3.3.3\n",
      "  Downloading matplotlib-3.5.2-cp310-cp310-manylinux_2_17_x86_64.manylinux2014_x86_64.whl (11.9 MB)\n",
      "\u001b[2K     \u001b[38;2;114;156;31m━━━━━━━━━━━━━━━━━━━━━━━━━━━━━━━━━━━━━━━━\u001b[0m \u001b[32m11.9/11.9 MB\u001b[0m \u001b[31m55.1 MB/s\u001b[0m eta \u001b[36m0:00:00\u001b[0m MB/s\u001b[0m eta \u001b[36m0:00:01\u001b[0m01\u001b[0m\n",
      "\u001b[?25hCollecting holoviews>=1.14.6\n",
      "  Downloading holoviews-1.15.0-py2.py3-none-any.whl (4.3 MB)\n",
      "\u001b[2K     \u001b[38;2;114;156;31m━━━━━━━━━━━━━━━━━━━━━━━━━━━━━━━━━━━━━━━━\u001b[0m \u001b[32m4.3/4.3 MB\u001b[0m \u001b[31m52.9 MB/s\u001b[0m eta \u001b[36m0:00:00\u001b[0m[36m0:00:01\u001b[0mm eta \u001b[36m0:00:01\u001b[0m\n",
      "\u001b[?25hRequirement already satisfied: numpy in /home/leobit/.local/lib/python3.10/site-packages (from autoviz) (1.22.3)\n",
      "Requirement already satisfied: ipython in /home/leobit/Development/software/anaconda3/envs/cond_audio_env/lib/python3.10/site-packages (from autoviz) (8.4.0)\n",
      "Requirement already satisfied: typing-extensions>=4.1.1 in /home/leobit/.local/lib/python3.10/site-packages (from autoviz) (4.2.0)\n",
      "Collecting seaborn>=0.11.1\n",
      "  Using cached seaborn-0.11.2-py3-none-any.whl (292 kB)\n",
      "Collecting scikit-learn\n",
      "  Downloading scikit_learn-1.1.1-cp310-cp310-manylinux_2_17_x86_64.manylinux2014_x86_64.whl (30.4 MB)\n",
      "\u001b[2K     \u001b[38;2;114;156;31m━━━━━━━━━━━━━━━━━━━━━━━━━━━━━━━━━━━━━━━━\u001b[0m \u001b[32m30.4/30.4 MB\u001b[0m \u001b[31m36.4 MB/s\u001b[0m eta \u001b[36m0:00:00\u001b[0mm eta \u001b[36m0:00:01\u001b[0m[36m0:00:01\u001b[0m\n",
      "\u001b[?25hCollecting wordcloud\n",
      "  Downloading wordcloud-1.8.2.2-cp310-cp310-manylinux_2_17_x86_64.manylinux2014_x86_64.whl (458 kB)\n",
      "\u001b[2K     \u001b[38;2;114;156;31m━━━━━━━━━━━━━━━━━━━━━━━━━━━━━━━━━━━━━━\u001b[0m \u001b[32m458.9/458.9 kB\u001b[0m \u001b[31m52.9 MB/s\u001b[0m eta \u001b[36m0:00:00\u001b[0m\n",
      "\u001b[?25hRequirement already satisfied: jupyter in /home/leobit/Development/software/anaconda3/envs/cond_audio_env/lib/python3.10/site-packages (from autoviz) (1.0.0)\n",
      "Requirement already satisfied: pandas in /home/leobit/.local/lib/python3.10/site-packages (from autoviz) (1.4.2)\n",
      "Collecting xlrd\n",
      "  Using cached xlrd-2.0.1-py2.py3-none-any.whl (96 kB)\n",
      "Requirement already satisfied: fsspec>=0.8.3 in /home/leobit/.local/lib/python3.10/site-packages (from autoviz) (2022.7.1)\n",
      "Collecting statsmodels\n",
      "  Downloading statsmodels-0.13.2-cp310-cp310-manylinux_2_17_x86_64.manylinux2014_x86_64.whl (10.0 MB)\n",
      "\u001b[2K     \u001b[38;2;114;156;31m━━━━━━━━━━━━━━━━━━━━━━━━━━━━━━━━━━━━━━━━\u001b[0m \u001b[32m10.0/10.0 MB\u001b[0m \u001b[31m54.7 MB/s\u001b[0m eta \u001b[36m0:00:00\u001b[0mm eta \u001b[36m0:00:01\u001b[0m36m0:00:01\u001b[0m\n",
      "\u001b[?25hRequirement already satisfied: packaging>=16.8 in /home/leobit/Development/software/anaconda3/envs/cond_audio_env/lib/python3.10/site-packages (from bokeh>=2.4.2->autoviz) (21.3)\n",
      "Requirement already satisfied: Jinja2>=2.9 in /home/leobit/.local/lib/python3.10/site-packages (from bokeh>=2.4.2->autoviz) (3.1.2)\n",
      "Requirement already satisfied: tornado>=5.1 in /home/leobit/Development/software/anaconda3/envs/cond_audio_env/lib/python3.10/site-packages (from bokeh>=2.4.2->autoviz) (6.1)\n",
      "Collecting PyYAML>=3.10\n",
      "  Using cached PyYAML-6.0-cp310-cp310-manylinux_2_5_x86_64.manylinux1_x86_64.manylinux_2_12_x86_64.manylinux2010_x86_64.whl (682 kB)\n",
      "Collecting pillow>=7.1.0\n",
      "  Downloading Pillow-9.2.0-cp310-cp310-manylinux_2_28_x86_64.whl (3.2 MB)\n",
      "\u001b[2K     \u001b[38;2;114;156;31m━━━━━━━━━━━━━━━━━━━━━━━━━━━━━━━━━━━━━━━━\u001b[0m \u001b[32m3.2/3.2 MB\u001b[0m \u001b[31m65.6 MB/s\u001b[0m eta \u001b[36m0:00:00\u001b[0m MB/s\u001b[0m eta \u001b[36m0:00:01\u001b[0m\n",
      "\u001b[?25hCollecting pyviz-comms>=0.7.4\n",
      "  Downloading pyviz_comms-2.2.0-py2.py3-none-any.whl (42 kB)\n",
      "\u001b[2K     \u001b[38;2;114;156;31m━━━━━━━━━━━━━━━━━━━━━━━━━━━━━━━━━━━━━━━━\u001b[0m \u001b[32m42.8/42.8 kB\u001b[0m \u001b[31m11.7 MB/s\u001b[0m eta \u001b[36m0:00:00\u001b[0m\n",
      "\u001b[?25hCollecting colorcet\n",
      "  Downloading colorcet-3.0.0-py2.py3-none-any.whl (1.6 MB)\n",
      "\u001b[2K     \u001b[38;2;114;156;31m━━━━━━━━━━━━━━━━━━━━━━━━━━━━━━━━━━━━━━━━\u001b[0m \u001b[32m1.6/1.6 MB\u001b[0m \u001b[31m56.5 MB/s\u001b[0m eta \u001b[36m0:00:00\u001b[0m\n",
      "\u001b[?25hCollecting holoviews>=1.14.6\n",
      "  Downloading holoviews-1.14.9-py2.py3-none-any.whl (4.3 MB)\n",
      "\u001b[2K     \u001b[38;2;114;156;31m━━━━━━━━━━━━━━━━━━━━━━━━━━━━━━━━━━━━━━━━\u001b[0m \u001b[32m4.3/4.3 MB\u001b[0m \u001b[31m55.7 MB/s\u001b[0m eta \u001b[36m0:00:00\u001b[0m[36m0:00:01\u001b[0m[36m0:00:01\u001b[0m\n",
      "\u001b[?25hCollecting param<2.0,>=1.9.3\n",
      "  Downloading param-1.12.2-py2.py3-none-any.whl (86 kB)\n",
      "\u001b[2K     \u001b[38;2;114;156;31m━━━━━━━━━━━━━━━━━━━━━━━━━━━━━━━━━━━━━━━━\u001b[0m \u001b[32m86.8/86.8 kB\u001b[0m \u001b[31m30.3 MB/s\u001b[0m eta \u001b[36m0:00:00\u001b[0m\n",
      "\u001b[?25hRequirement already satisfied: pyparsing>=2.2.1 in /home/leobit/Development/software/anaconda3/envs/cond_audio_env/lib/python3.10/site-packages (from matplotlib>=3.3.3->autoviz) (3.0.4)\n",
      "Collecting fonttools>=4.22.0\n",
      "  Downloading fonttools-4.34.4-py3-none-any.whl (944 kB)\n",
      "\u001b[2K     \u001b[38;2;114;156;31m━━━━━━━━━━━━━━━━━━━━━━━━━━━━━━━━━━━━━━\u001b[0m \u001b[32m944.1/944.1 kB\u001b[0m \u001b[31m57.9 MB/s\u001b[0m eta \u001b[36m0:00:00\u001b[0m\n",
      "\u001b[?25hCollecting cycler>=0.10\n",
      "  Using cached cycler-0.11.0-py3-none-any.whl (6.4 kB)\n",
      "Collecting kiwisolver>=1.0.1\n",
      "  Downloading kiwisolver-1.4.4-cp310-cp310-manylinux_2_12_x86_64.manylinux2010_x86_64.whl (1.6 MB)\n",
      "\u001b[2K     \u001b[38;2;114;156;31m━━━━━━━━━━━━━━━━━━━━━━━━━━━━━━━━━━━━━━━━\u001b[0m \u001b[32m1.6/1.6 MB\u001b[0m \u001b[31m62.4 MB/s\u001b[0m eta \u001b[36m0:00:00\u001b[0m\n",
      "\u001b[?25hRequirement already satisfied: python-dateutil>=2.7 in /home/leobit/Development/software/anaconda3/envs/cond_audio_env/lib/python3.10/site-packages (from matplotlib>=3.3.3->autoviz) (2.8.2)\n",
      "Requirement already satisfied: pytz>=2020.1 in /home/leobit/.local/lib/python3.10/site-packages (from pandas->autoviz) (2022.1)\n",
      "Requirement already satisfied: tqdm>=4.48.0 in /home/leobit/.local/lib/python3.10/site-packages (from panel~=0.12.6->autoviz) (4.64.0)\n",
      "Collecting setuptools<61,>=42\n",
      "  Downloading setuptools-60.10.0-py3-none-any.whl (1.1 MB)\n",
      "\u001b[2K     \u001b[38;2;114;156;31m━━━━━━━━━━━━━━━━━━━━━━━━━━━━━━━━━━━━━━━━\u001b[0m \u001b[32m1.1/1.1 MB\u001b[0m \u001b[31m58.5 MB/s\u001b[0m eta \u001b[36m0:00:00\u001b[0m\n",
      "\u001b[?25hCollecting markdown\n",
      "  Downloading Markdown-3.4.1-py3-none-any.whl (93 kB)\n",
      "\u001b[2K     \u001b[38;2;114;156;31m━━━━━━━━━━━━━━━━━━━━━━━━━━━━━━━━━━━━━━━━\u001b[0m \u001b[32m93.3/93.3 kB\u001b[0m \u001b[31m30.5 MB/s\u001b[0m eta \u001b[36m0:00:00\u001b[0m\n",
      "\u001b[?25hRequirement already satisfied: bleach in /home/leobit/Development/software/anaconda3/envs/cond_audio_env/lib/python3.10/site-packages (from panel~=0.12.6->autoviz) (4.1.0)\n",
      "Collecting requests\n",
      "  Using cached requests-2.28.1-py3-none-any.whl (62 kB)\n",
      "Collecting pyct>=0.4.4\n",
      "  Downloading pyct-0.4.8-py2.py3-none-any.whl (15 kB)\n",
      "Requirement already satisfied: scipy>=1.0 in /home/leobit/.local/lib/python3.10/site-packages (from seaborn>=0.11.1->autoviz) (1.8.1)\n"
     ]
    },
    {
     "name": "stdout",
     "output_type": "stream",
     "text": [
      "Requirement already satisfied: prompt-toolkit!=3.0.0,!=3.0.1,<3.1.0,>=2.0.0 in /home/leobit/.local/lib/python3.10/site-packages (from ipython->autoviz) (3.0.30)\n",
      "Requirement already satisfied: pickleshare in /home/leobit/Development/software/anaconda3/envs/cond_audio_env/lib/python3.10/site-packages (from ipython->autoviz) (0.7.5)\n",
      "Requirement already satisfied: jedi>=0.16 in /home/leobit/Development/software/anaconda3/envs/cond_audio_env/lib/python3.10/site-packages (from ipython->autoviz) (0.18.1)\n",
      "Requirement already satisfied: traitlets>=5 in /home/leobit/Development/software/anaconda3/envs/cond_audio_env/lib/python3.10/site-packages (from ipython->autoviz) (5.1.1)\n",
      "Requirement already satisfied: pygments>=2.4.0 in /home/leobit/Development/software/anaconda3/envs/cond_audio_env/lib/python3.10/site-packages (from ipython->autoviz) (2.11.2)\n",
      "Requirement already satisfied: backcall in /home/leobit/Development/software/anaconda3/envs/cond_audio_env/lib/python3.10/site-packages (from ipython->autoviz) (0.2.0)\n",
      "Requirement already satisfied: pexpect>4.3 in /home/leobit/Development/software/anaconda3/envs/cond_audio_env/lib/python3.10/site-packages (from ipython->autoviz) (4.8.0)\n",
      "Requirement already satisfied: decorator in /home/leobit/Development/software/anaconda3/envs/cond_audio_env/lib/python3.10/site-packages (from ipython->autoviz) (5.1.1)\n",
      "Requirement already satisfied: stack-data in /home/leobit/Development/software/anaconda3/envs/cond_audio_env/lib/python3.10/site-packages (from ipython->autoviz) (0.2.0)\n",
      "Requirement already satisfied: matplotlib-inline in /home/leobit/Development/software/anaconda3/envs/cond_audio_env/lib/python3.10/site-packages (from ipython->autoviz) (0.1.2)\n",
      "Requirement already satisfied: jupyter-console in /home/leobit/Development/software/anaconda3/envs/cond_audio_env/lib/python3.10/site-packages (from jupyter->autoviz) (6.4.3)\n",
      "Requirement already satisfied: notebook in /home/leobit/Development/software/anaconda3/envs/cond_audio_env/lib/python3.10/site-packages (from jupyter->autoviz) (6.4.12)\n",
      "Requirement already satisfied: ipykernel in /home/leobit/Development/software/anaconda3/envs/cond_audio_env/lib/python3.10/site-packages (from jupyter->autoviz) (6.9.1)\n",
      "Requirement already satisfied: nbconvert in /home/leobit/Development/software/anaconda3/envs/cond_audio_env/lib/python3.10/site-packages (from jupyter->autoviz) (6.4.4)\n",
      "Requirement already satisfied: qtconsole in /home/leobit/Development/software/anaconda3/envs/cond_audio_env/lib/python3.10/site-packages (from jupyter->autoviz) (5.3.1)\n",
      "Requirement already satisfied: ipywidgets in /home/leobit/Development/software/anaconda3/envs/cond_audio_env/lib/python3.10/site-packages (from jupyter->autoviz) (7.6.5)\n",
      "Collecting joblib\n",
      "  Using cached joblib-1.1.0-py2.py3-none-any.whl (306 kB)\n",
      "Requirement already satisfied: click in /home/leobit/.local/lib/python3.10/site-packages (from nltk->autoviz) (8.1.3)\n",
      "Requirement already satisfied: regex>=2021.8.3 in /home/leobit/.local/lib/python3.10/site-packages (from nltk->autoviz) (2022.4.24)\n",
      "Collecting threadpoolctl>=2.0.0\n",
      "  Using cached threadpoolctl-3.1.0-py3-none-any.whl (14 kB)\n",
      "Collecting patsy>=0.5.2\n",
      "  Downloading patsy-0.5.2-py2.py3-none-any.whl (233 kB)\n",
      "\u001b[2K     \u001b[38;2;114;156;31m━━━━━━━━━━━━━━━━━━━━━━━━━━━━━━━━━━━━━━\u001b[0m \u001b[32m233.7/233.7 kB\u001b[0m \u001b[31m63.4 MB/s\u001b[0m eta \u001b[36m0:00:00\u001b[0m\n",
      "\u001b[?25hRequirement already satisfied: parso<0.9.0,>=0.8.0 in /home/leobit/Development/software/anaconda3/envs/cond_audio_env/lib/python3.10/site-packages (from jedi>=0.16->ipython->autoviz) (0.8.3)\n",
      "Requirement already satisfied: MarkupSafe>=2.0 in /home/leobit/.local/lib/python3.10/site-packages (from Jinja2>=2.9->bokeh>=2.4.2->autoviz) (2.1.1)\n",
      "Requirement already satisfied: six in /home/leobit/Development/software/anaconda3/envs/cond_audio_env/lib/python3.10/site-packages (from patsy>=0.5.2->statsmodels->autoviz) (1.16.0)\n",
      "Requirement already satisfied: ptyprocess>=0.5 in /home/leobit/Development/software/anaconda3/envs/cond_audio_env/lib/python3.10/site-packages (from pexpect>4.3->ipython->autoviz) (0.7.0)\n",
      "Requirement already satisfied: wcwidth in /home/leobit/.local/lib/python3.10/site-packages (from prompt-toolkit!=3.0.0,!=3.0.1,<3.1.0,>=2.0.0->ipython->autoviz) (0.2.5)\n",
      "Requirement already satisfied: webencodings in /home/leobit/Development/software/anaconda3/envs/cond_audio_env/lib/python3.10/site-packages (from bleach->panel~=0.12.6->autoviz) (0.5.1)\n",
      "Requirement already satisfied: debugpy<2.0,>=1.0.0 in /home/leobit/Development/software/anaconda3/envs/cond_audio_env/lib/python3.10/site-packages (from ipykernel->jupyter->autoviz) (1.5.1)\n",
      "Requirement already satisfied: jupyter-client<8.0 in /home/leobit/Development/software/anaconda3/envs/cond_audio_env/lib/python3.10/site-packages (from ipykernel->jupyter->autoviz) (7.2.2)\n",
      "Requirement already satisfied: nest-asyncio in /home/leobit/Development/software/anaconda3/envs/cond_audio_env/lib/python3.10/site-packages (from ipykernel->jupyter->autoviz) (1.5.5)\n",
      "Requirement already satisfied: nbformat>=4.2.0 in /home/leobit/Development/software/anaconda3/envs/cond_audio_env/lib/python3.10/site-packages (from ipywidgets->jupyter->autoviz) (5.3.0)\n",
      "Requirement already satisfied: widgetsnbextension~=3.5.0 in /home/leobit/Development/software/anaconda3/envs/cond_audio_env/lib/python3.10/site-packages (from ipywidgets->jupyter->autoviz) (3.5.2)\n",
      "Requirement already satisfied: ipython-genutils~=0.2.0 in /home/leobit/Development/software/anaconda3/envs/cond_audio_env/lib/python3.10/site-packages (from ipywidgets->jupyter->autoviz) (0.2.0)\n",
      "Requirement already satisfied: jupyterlab-widgets>=1.0.0 in /home/leobit/Development/software/anaconda3/envs/cond_audio_env/lib/python3.10/site-packages (from ipywidgets->jupyter->autoviz) (1.0.0)\n",
      "Requirement already satisfied: beautifulsoup4 in /home/leobit/.local/lib/python3.10/site-packages (from nbconvert->jupyter->autoviz) (4.11.1)\n",
      "Requirement already satisfied: nbclient<0.6.0,>=0.5.0 in /home/leobit/Development/software/anaconda3/envs/cond_audio_env/lib/python3.10/site-packages (from nbconvert->jupyter->autoviz) (0.5.13)\n",
      "Requirement already satisfied: jupyter-core in /home/leobit/Development/software/anaconda3/envs/cond_audio_env/lib/python3.10/site-packages (from nbconvert->jupyter->autoviz) (4.10.0)\n",
      "Requirement already satisfied: pandocfilters>=1.4.1 in /home/leobit/Development/software/anaconda3/envs/cond_audio_env/lib/python3.10/site-packages (from nbconvert->jupyter->autoviz) (1.5.0)\n",
      "Requirement already satisfied: defusedxml in /home/leobit/Development/software/anaconda3/envs/cond_audio_env/lib/python3.10/site-packages (from nbconvert->jupyter->autoviz) (0.7.1)\n",
      "Requirement already satisfied: mistune<2,>=0.8.1 in /home/leobit/Development/software/anaconda3/envs/cond_audio_env/lib/python3.10/site-packages (from nbconvert->jupyter->autoviz) (0.8.4)\n",
      "Requirement already satisfied: testpath in /home/leobit/Development/software/anaconda3/envs/cond_audio_env/lib/python3.10/site-packages (from nbconvert->jupyter->autoviz) (0.6.0)\n",
      "Requirement already satisfied: jupyterlab-pygments in /home/leobit/Development/software/anaconda3/envs/cond_audio_env/lib/python3.10/site-packages (from nbconvert->jupyter->autoviz) (0.1.2)\n",
      "Requirement already satisfied: entrypoints>=0.2.2 in /home/leobit/Development/software/anaconda3/envs/cond_audio_env/lib/python3.10/site-packages (from nbconvert->jupyter->autoviz) (0.4)\n",
      "Requirement already satisfied: Send2Trash>=1.8.0 in /home/leobit/Development/software/anaconda3/envs/cond_audio_env/lib/python3.10/site-packages (from notebook->jupyter->autoviz) (1.8.0)\n",
      "Requirement already satisfied: pyzmq>=17 in /home/leobit/Development/software/anaconda3/envs/cond_audio_env/lib/python3.10/site-packages (from notebook->jupyter->autoviz) (23.2.0)\n",
      "Requirement already satisfied: terminado>=0.8.3 in /home/leobit/Development/software/anaconda3/envs/cond_audio_env/lib/python3.10/site-packages (from notebook->jupyter->autoviz) (0.13.1)\n",
      "Requirement already satisfied: prometheus-client in /home/leobit/Development/software/anaconda3/envs/cond_audio_env/lib/python3.10/site-packages (from notebook->jupyter->autoviz) (0.13.1)\n",
      "Requirement already satisfied: argon2-cffi in /home/leobit/Development/software/anaconda3/envs/cond_audio_env/lib/python3.10/site-packages (from notebook->jupyter->autoviz) (21.3.0)\n"
     ]
    },
    {
     "name": "stdout",
     "output_type": "stream",
     "text": [
      "Requirement already satisfied: qtpy>=2.0.1 in /home/leobit/Development/software/anaconda3/envs/cond_audio_env/lib/python3.10/site-packages (from qtconsole->jupyter->autoviz) (2.0.1)\n",
      "Collecting idna<4,>=2.5\n",
      "  Using cached idna-3.3-py3-none-any.whl (61 kB)\n",
      "Collecting urllib3<1.27,>=1.21.1\n",
      "  Downloading urllib3-1.26.11-py2.py3-none-any.whl (139 kB)\n",
      "\u001b[2K     \u001b[38;2;114;156;31m━━━━━━━━━━━━━━━━━━━━━━━━━━━━━━━━━━━━━\u001b[0m \u001b[32m139.9/139.9 kB\u001b[0m \u001b[31m817.3 kB/s\u001b[0m eta \u001b[36m0:00:00\u001b[0m MB/s\u001b[0m eta \u001b[36m0:00:01\u001b[0m\n",
      "\u001b[?25hRequirement already satisfied: certifi>=2017.4.17 in /home/leobit/Development/software/anaconda3/envs/cond_audio_env/lib/python3.10/site-packages (from requests->panel~=0.12.6->autoviz) (2022.6.15)\n",
      "Requirement already satisfied: charset-normalizer<3,>=2 in /home/leobit/.local/lib/python3.10/site-packages (from requests->panel~=0.12.6->autoviz) (2.1.0)\n",
      "Requirement already satisfied: executing in /home/leobit/Development/software/anaconda3/envs/cond_audio_env/lib/python3.10/site-packages (from stack-data->ipython->autoviz) (0.8.3)\n",
      "Requirement already satisfied: asttokens in /home/leobit/Development/software/anaconda3/envs/cond_audio_env/lib/python3.10/site-packages (from stack-data->ipython->autoviz) (2.0.5)\n",
      "Requirement already satisfied: pure-eval in /home/leobit/Development/software/anaconda3/envs/cond_audio_env/lib/python3.10/site-packages (from stack-data->ipython->autoviz) (0.2.2)\n",
      "Requirement already satisfied: fastjsonschema in /home/leobit/Development/software/anaconda3/envs/cond_audio_env/lib/python3.10/site-packages (from nbformat>=4.2.0->ipywidgets->jupyter->autoviz) (2.15.1)\n",
      "Requirement already satisfied: jsonschema>=2.6 in /home/leobit/Development/software/anaconda3/envs/cond_audio_env/lib/python3.10/site-packages (from nbformat>=4.2.0->ipywidgets->jupyter->autoviz) (4.4.0)\n",
      "Requirement already satisfied: argon2-cffi-bindings in /home/leobit/Development/software/anaconda3/envs/cond_audio_env/lib/python3.10/site-packages (from argon2-cffi->notebook->jupyter->autoviz) (21.2.0)\n",
      "Requirement already satisfied: soupsieve>1.2 in /home/leobit/.local/lib/python3.10/site-packages (from beautifulsoup4->nbconvert->jupyter->autoviz) (2.3.2.post1)\n",
      "Requirement already satisfied: pyrsistent!=0.17.0,!=0.17.1,!=0.17.2,>=0.14.0 in /home/leobit/Development/software/anaconda3/envs/cond_audio_env/lib/python3.10/site-packages (from jsonschema>=2.6->nbformat>=4.2.0->ipywidgets->jupyter->autoviz) (0.18.0)\n",
      "Requirement already satisfied: attrs>=17.4.0 in /home/leobit/.local/lib/python3.10/site-packages (from jsonschema>=2.6->nbformat>=4.2.0->ipywidgets->jupyter->autoviz) (22.1.0)\n",
      "Requirement already satisfied: cffi>=1.0.1 in /home/leobit/Development/software/anaconda3/envs/cond_audio_env/lib/python3.10/site-packages (from argon2-cffi-bindings->argon2-cffi->notebook->jupyter->autoviz) (1.15.0)\n",
      "Requirement already satisfied: pycparser in /home/leobit/Development/software/anaconda3/envs/cond_audio_env/lib/python3.10/site-packages (from cffi>=1.0.1->argon2-cffi-bindings->argon2-cffi->notebook->jupyter->autoviz) (2.21)\n",
      "Installing collected packages: xlrd, urllib3, threadpoolctl, setuptools, PyYAML, pillow, patsy, param, markdown, kiwisolver, joblib, idna, fonttools, cycler, xgboost, scikit-learn, requests, pyviz-comms, pyct, pyamg, nltk, matplotlib, bokeh, wordcloud, textblob, statsmodels, seaborn, panel, colorcet, holoviews, hvplot, autoviz\n",
      "  Attempting uninstall: setuptools\n",
      "    Found existing installation: setuptools 62.3.2\n",
      "    Uninstalling setuptools-62.3.2:\n",
      "      Successfully uninstalled setuptools-62.3.2\n",
      "\u001b[31mERROR: pip's dependency resolver does not currently take into account all the packages that are installed. This behaviour is the source of the following dependency conflicts.\n",
      "python-benedict 0.25.2 requires toml<1.0.0,>=0.10.2, which is not installed.\n",
      "dvc 2.15.0 requires appdirs>=1.4.3, which is not installed.\n",
      "dvc 2.15.0 requires colorama>=0.3.9, which is not installed.\n",
      "dvc 2.15.0 requires distro>=1.3.0, which is not installed.\n",
      "dvc 2.15.0 requires rich>=10.13.0, which is not installed.\n",
      "dvc 2.15.0 requires toml>=0.10.1, which is not installed.\n",
      "en-ner-bc5cdr-md 0.5.0 requires spacy<3.3.0,>=3.2.3, but you have spacy 3.3.0 which is incompatible.\n",
      "en-core-web-sm 3.2.0 requires spacy<3.3.0,>=3.2.0, but you have spacy 3.3.0 which is incompatible.\n",
      "en-core-sci-sm 0.5.0 requires spacy<3.3.0,>=3.2.3, but you have spacy 3.3.0 which is incompatible.\u001b[0m\u001b[31m\n",
      "\u001b[0mSuccessfully installed PyYAML-6.0 autoviz-0.1.42 bokeh-2.4.3 colorcet-3.0.0 cycler-0.11.0 fonttools-4.34.4 holoviews-1.14.9 hvplot-0.8.0 idna-3.3 joblib-1.1.0 kiwisolver-1.4.4 markdown-3.4.1 matplotlib-3.5.2 nltk-3.7 panel-0.12.7 param-1.12.2 patsy-0.5.2 pillow-9.2.0 pyamg-4.2.3 pyct-0.4.8 pyviz-comms-2.2.0 requests-2.28.1 scikit-learn-1.1.1 seaborn-0.11.2 setuptools-61.2.0 statsmodels-0.13.2 textblob-0.17.1 threadpoolctl-3.1.0 urllib3-1.26.11 wordcloud-1.8.2.2 xgboost-1.6.1 xlrd-2.0.1\n"
     ]
    }
   ],
   "source": [
    "!pip install autoviz"
   ]
  },
  {
   "cell_type": "markdown",
   "id": "a4e84bd7",
   "metadata": {},
   "source": [
    "#### Import"
   ]
  },
  {
   "cell_type": "code",
   "execution_count": 32,
   "id": "8f14f9c8",
   "metadata": {
    "ExecuteTime": {
     "end_time": "2022-07-31T13:57:20.597944Z",
     "start_time": "2022-07-31T13:57:20.589339Z"
    }
   },
   "outputs": [],
   "source": [
    "%matplotlib inline"
   ]
  },
  {
   "cell_type": "code",
   "execution_count": 507,
   "id": "ca04e3c7",
   "metadata": {
    "ExecuteTime": {
     "end_time": "2022-07-31T21:50:32.666292Z",
     "start_time": "2022-07-31T21:50:32.663117Z"
    }
   },
   "outputs": [],
   "source": [
    "import pandas as pd\n",
    "import numpy as np\n",
    "import matplotlib.pyplot as plt\n",
    "import seaborn as sns\n",
    "\n",
    "from autoviz.AutoViz_Class import AutoViz_Class\n",
    "from tqdm import tqdm\n",
    "from scipy import stats"
   ]
  },
  {
   "cell_type": "markdown",
   "id": "d35f92d2",
   "metadata": {},
   "source": [
    "#### Configuration"
   ]
  },
  {
   "cell_type": "code",
   "execution_count": 85,
   "id": "7f9cf55e",
   "metadata": {
    "ExecuteTime": {
     "end_time": "2022-07-31T15:06:06.253300Z",
     "start_time": "2022-07-31T15:06:06.250738Z"
    }
   },
   "outputs": [],
   "source": [
    "pd.set_option('display.max_columns', None)\n",
    "pd.set_option('display.max_rows', 500)"
   ]
  },
  {
   "cell_type": "code",
   "execution_count": 87,
   "id": "b2597793",
   "metadata": {
    "ExecuteTime": {
     "end_time": "2022-07-31T15:09:20.130490Z",
     "start_time": "2022-07-31T15:09:20.127316Z"
    }
   },
   "outputs": [],
   "source": [
    "import warnings\n",
    "warnings.filterwarnings('ignore')"
   ]
  },
  {
   "cell_type": "markdown",
   "id": "f5aeae47",
   "metadata": {},
   "source": [
    "## Data Wrangling"
   ]
  },
  {
   "cell_type": "markdown",
   "id": "efa6abc9",
   "metadata": {},
   "source": [
    "#### Overview"
   ]
  },
  {
   "cell_type": "code",
   "execution_count": 88,
   "id": "37c8229e",
   "metadata": {
    "ExecuteTime": {
     "end_time": "2022-07-31T15:09:25.986014Z",
     "start_time": "2022-07-31T15:09:22.498921Z"
    },
    "scrolled": false
   },
   "outputs": [],
   "source": [
    "df_audio = pd.read_csv(d_path / 'Paper3_WebData_Final.csv')"
   ]
  },
  {
   "cell_type": "code",
   "execution_count": 89,
   "id": "6763285f",
   "metadata": {
    "ExecuteTime": {
     "end_time": "2022-07-31T15:09:31.300323Z",
     "start_time": "2022-07-31T15:09:30.075288Z"
    },
    "scrolled": true
   },
   "outputs": [
    {
     "name": "stdout",
     "output_type": "stream",
     "text": [
      "Column: test_date / NaN Count:0\n",
      "Column: nid / NaN Count:0\n",
      "Column: L500k / NaN Count:224\n",
      "Column: L1k / NaN Count:493\n",
      "Column: L2k / NaN Count:915\n",
      "Column: L3k / NaN Count:680\n",
      "Column: L4k / NaN Count:408\n",
      "Column: L6k / NaN Count:352\n",
      "Column: L8k / NaN Count:48734\n",
      "Column: R500k / NaN Count:276\n",
      "Column: R1k / NaN Count:404\n",
      "Column: R2k / NaN Count:942\n",
      "Column: R3k / NaN Count:680\n",
      "Column: R4k / NaN Count:483\n",
      "Column: R6k / NaN Count:426\n",
      "Column: R8k / NaN Count:48995\n",
      "Column: gender / NaN Count:8211\n",
      "Column: naics / NaN Count:0\n",
      "Column: age_group / NaN Count:16720\n",
      "Column: region / NaN Count:43115\n",
      "Column: NAICS_descr / NaN Count:15275\n"
     ]
    }
   ],
   "source": [
    "# Nan Values\n",
    "for column in df_audio.columns:\n",
    "    print(f'Column: {column} / NaN Count:{df_audio[df_audio[column].isna()].shape[0]}')"
   ]
  },
  {
   "cell_type": "code",
   "execution_count": 95,
   "id": "a82eb6fc",
   "metadata": {
    "ExecuteTime": {
     "end_time": "2022-07-31T15:23:02.455948Z",
     "start_time": "2022-07-31T15:22:49.531299Z"
    },
    "collapsed": true
   },
   "outputs": [
    {
     "name": "stdout",
     "output_type": "stream",
     "text": [
      "Column: L500k\n",
      " 10    872279\n",
      " 5     825897\n",
      " 15    478735\n",
      " 0     452857\n",
      " 20    188119\n",
      " 25     68513\n",
      " 30     26555\n",
      " 35     11663\n",
      " 40      6225\n",
      " 45      3770\n",
      " 50      2277\n",
      " 55      1490\n",
      " 60      1125\n",
      "-5       1088\n",
      " 65       727\n",
      " 70       455\n",
      " 75       318\n",
      " 80       274\n",
      " 90       212\n",
      " 85       163\n",
      "-1        147\n",
      " 99        81\n",
      " 96        74\n",
      " 95        65\n",
      " 97        53\n",
      " 98        29\n",
      " 8         14\n",
      " 13         9\n",
      " 1          8\n",
      " 6          7\n",
      " 3          7\n",
      " 12         7\n",
      " 14         6\n",
      " 4          5\n",
      " 22         4\n",
      " 7          4\n",
      " 17         4\n",
      " 16         3\n",
      " 94         3\n",
      " 18         3\n",
      " 28         2\n",
      " 11         2\n",
      " 27         2\n",
      " 9          2\n",
      " 23         2\n",
      " 24         1\n",
      " 2          1\n",
      " 21         1\n",
      " 32         1\n",
      "Name: L500k, dtype: int64\n",
      "\n",
      "Column: L1k\n",
      " 5     951386\n",
      " 10    695813\n",
      " 0     643820\n",
      " 15    353967\n",
      " 20    159955\n",
      " 25     62413\n",
      " 30     28705\n",
      " 35     15277\n",
      " 40      9219\n",
      " 45      6719\n",
      " 50      4464\n",
      " 55      3088\n",
      " 60      1961\n",
      "-5       1884\n",
      " 65      1229\n",
      " 70       823\n",
      " 75       567\n",
      " 80       406\n",
      "-1        293\n",
      " 90       276\n",
      " 85       250\n",
      " 99       108\n",
      " 95        78\n",
      " 96        75\n",
      " 97        53\n",
      " 98        29\n",
      " 2          9\n",
      " 8          7\n",
      " 3          7\n",
      " 4          7\n",
      " 1          6\n",
      " 6          6\n",
      " 12         5\n",
      " 13         5\n",
      " 24         4\n",
      " 11         4\n",
      " 18         4\n",
      " 14         3\n",
      " 92         3\n",
      " 9          3\n",
      " 94         3\n",
      " 7          2\n",
      " 28         2\n",
      " 16         2\n",
      " 21         2\n",
      " 19         2\n",
      " 29         1\n",
      " 23         1\n",
      " 33         1\n",
      " 49         1\n",
      "Name: L1k, dtype: int64\n",
      "\n",
      "Column: L2k\n",
      " 5     724397\n",
      " 0     687187\n",
      " 10    585870\n",
      " 15    364018\n",
      " 20    220799\n",
      " 25    127578\n",
      " 30     73887\n",
      " 35     44335\n",
      " 40     29699\n",
      " 45     22204\n",
      " 50     17555\n",
      " 55     14947\n",
      " 60     11194\n",
      " 65      6885\n",
      " 70      3849\n",
      " 75      2245\n",
      "-5       2239\n",
      " 80      1186\n",
      " 85       627\n",
      " 90       541\n",
      "-1        422\n",
      " 99       155\n",
      " 95       129\n",
      " 96        93\n",
      " 97        58\n",
      " 98        28\n",
      " 8          9\n",
      " 2          8\n",
      " 11         7\n",
      " 6          7\n",
      " 3          6\n",
      " 17         5\n",
      " 1          5\n",
      " 92         4\n",
      " 16         4\n",
      " 94         3\n",
      " 33         3\n",
      " 9          3\n",
      " 28         3\n",
      " 22         3\n",
      " 23         3\n",
      " 4          2\n",
      " 57         1\n",
      " 53         1\n",
      " 43         1\n",
      " 7          1\n",
      " 19         1\n",
      " 38         1\n",
      " 14         1\n",
      " 18         1\n",
      " 12         1\n",
      " 21         1\n",
      " 26         1\n",
      " 49         1\n",
      " 56         1\n",
      "Name: L2k, dtype: int64\n",
      "\n",
      "Column: L3k\n",
      " 5     553508\n",
      " 0     518626\n",
      " 10    509981\n",
      " 15    367455\n",
      " 20    255394\n",
      " 25    172720\n",
      " 30    118181\n",
      " 35     86386\n",
      " 40     69937\n",
      " 45     62632\n",
      " 50     58566\n",
      " 55     55010\n",
      " 60     43338\n",
      " 65     28774\n",
      " 70     17741\n",
      " 75     10814\n",
      " 80      5781\n",
      " 85      2864\n",
      "-5       1628\n",
      " 90      1571\n",
      " 95       336\n",
      "-1        264\n",
      " 99       256\n",
      " 96       129\n",
      " 97        66\n",
      " 98        42\n",
      " 8          6\n",
      " 92         5\n",
      " 4          5\n",
      " 1          5\n",
      " 6          4\n",
      " 3          4\n",
      " 58         3\n",
      " 11         3\n",
      " 94         3\n",
      " 28         3\n",
      " 39         3\n",
      " 12         3\n",
      " 24         3\n",
      " 17         3\n",
      " 16         3\n",
      " 18         2\n",
      " 14         2\n",
      " 62         2\n",
      " 53         2\n",
      " 63         2\n",
      " 46         2\n",
      " 56         2\n",
      " 21         2\n",
      " 27         2\n",
      " 41         1\n",
      " 36         1\n",
      " 9          1\n",
      " 48         1\n",
      " 61         1\n",
      " 74         1\n",
      " 13         1\n",
      " 29         1\n",
      " 68         1\n",
      " 42         1\n",
      " 26         1\n",
      " 38         1\n",
      " 22         1\n",
      " 33         1\n",
      " 52         1\n",
      " 59         1\n",
      " 71         1\n",
      " 23         1\n",
      "Name: L3k, dtype: int64\n",
      "\n",
      "Column: L4k\n",
      " 10    453176\n",
      " 5     425979\n",
      " 0     375822\n",
      " 15    370001\n",
      " 20    283013\n",
      " 25    209974\n",
      " 30    157539\n",
      " 35    125527\n",
      " 40    105121\n",
      " 45     94330\n",
      " 50     82220\n",
      " 55     73466\n",
      " 60     58478\n",
      " 65     43275\n",
      " 70     30417\n",
      " 75     21071\n",
      " 80     14252\n",
      " 85      8631\n",
      " 90      5876\n",
      "-5       1211\n",
      " 95      1139\n",
      " 99       494\n",
      "-1        289\n",
      " 96       148\n",
      " 97        77\n",
      " 98        32\n",
      " 92         8\n",
      " 13         6\n",
      " 19         5\n",
      " 36         4\n",
      " 3          4\n",
      " 43         4\n",
      " 28         4\n",
      " 8          4\n",
      " 58         4\n",
      " 26         3\n",
      " 47         3\n",
      " 11         3\n",
      " 33         3\n",
      " 14         3\n",
      " 94         3\n",
      " 22         2\n",
      " 31         2\n",
      " 2          2\n",
      " 12         2\n",
      " 74         2\n",
      " 32         2\n",
      " 76         2\n",
      " 18         2\n",
      " 44         2\n",
      " 54         2\n",
      " 42         2\n",
      " 4          2\n",
      " 9          2\n",
      " 68         1\n",
      " 59         1\n",
      " 72         1\n",
      " 17         1\n",
      " 7          1\n",
      " 27         1\n",
      " 48         1\n",
      " 21         1\n",
      " 16         1\n",
      " 67         1\n",
      " 83         1\n",
      " 38         1\n",
      " 57         1\n",
      " 53         1\n",
      " 29         1\n",
      " 63         1\n",
      "Name: L4k, dtype: int64\n",
      "\n",
      "Column: L6k\n",
      " 15    410750\n",
      " 10    410747\n",
      " 20    362282\n",
      " 5     304838\n",
      " 25    285971\n",
      " 0     231270\n",
      " 30    210210\n",
      " 35    158259\n",
      " 40    119017\n",
      " 45     96433\n",
      " 50     75481\n",
      " 55     65693\n",
      " 60     54417\n",
      " 65     45412\n",
      " 70     34436\n",
      " 75     26595\n",
      " 80     20140\n",
      " 85     13424\n",
      " 90      9441\n",
      " 95      2568\n",
      " 99       832\n",
      "-5        609\n",
      " 97       156\n",
      "-1        145\n",
      " 96       132\n",
      " 98        65\n",
      " 92        13\n",
      " 13         7\n",
      " 16         6\n",
      " 8          4\n",
      " 34         4\n",
      " 1          4\n",
      " 11         4\n",
      " 22         4\n",
      " 64         3\n",
      " 23         3\n",
      " 94         3\n",
      " 14         3\n",
      " 28         3\n",
      " 42         3\n",
      " 7          3\n",
      " 24         3\n",
      " 6          3\n",
      " 44         2\n",
      " 78         2\n",
      " 68         2\n",
      " 17         2\n",
      " 41         2\n",
      " 2          2\n",
      " 12         2\n",
      " 33         2\n",
      " 48         2\n",
      " 69         1\n",
      " 21         1\n",
      " 4          1\n",
      " 32         1\n",
      " 26         1\n",
      " 9          1\n",
      " 52         1\n",
      " 63         1\n",
      " 3          1\n",
      " 47         1\n",
      " 38         1\n",
      " 29         1\n",
      " 79         1\n",
      " 19         1\n",
      " 57         1\n",
      " 49         1\n",
      " 76         1\n",
      "Name: L6k, dtype: int64\n",
      "\n",
      "Column: L8k\n",
      " 10    322320\n",
      " 0     295433\n",
      " 5     289255\n",
      " 15    266292\n",
      " 20    205281\n",
      " 25    149776\n",
      " 30    108148\n",
      " 98    105704\n",
      " 35     79796\n",
      " 40     62732\n",
      " 45     52192\n",
      " 50     43633\n",
      " 55     39795\n",
      " 60     34289\n",
      " 65     29423\n",
      " 70     23781\n",
      " 75     19004\n",
      " 80     12119\n",
      " 85      7481\n",
      " 90      7040\n",
      " 95      1839\n",
      "-5       1165\n",
      " 99       869\n",
      "-1        234\n",
      " 96       187\n",
      " 97        48\n",
      " 92        16\n",
      " 71         7\n",
      " 2          4\n",
      " 79         3\n",
      " 6          3\n",
      " 94         2\n",
      " 4          2\n",
      " 49         1\n",
      " 37         1\n",
      " 32         1\n",
      " 63         1\n",
      " 16         1\n",
      " 3          1\n",
      " 28         1\n",
      " 9          1\n",
      " 18         1\n",
      " 21         1\n",
      " 26         1\n",
      "Name: L8k, dtype: int64\n",
      "\n",
      "Column: R500k\n",
      " 10    870527\n",
      " 5     851850\n",
      " 15    478698\n",
      " 0     441150\n",
      " 20    180558\n",
      " 25     65163\n",
      " 30     25123\n",
      " 35     11265\n",
      " 40      6339\n",
      " 45      3869\n",
      " 50      2297\n",
      " 55      1544\n",
      "-5       1141\n",
      " 60      1066\n",
      " 65       731\n",
      " 70       478\n",
      " 75       311\n",
      " 80       272\n",
      " 90       209\n",
      "-1        156\n",
      " 85       147\n",
      " 99        85\n",
      " 96        75\n",
      " 95        63\n",
      " 97        50\n",
      " 98        28\n",
      " 8         15\n",
      " 2          8\n",
      " 1          7\n",
      " 3          7\n",
      " 7          6\n",
      " 11         6\n",
      " 12         6\n",
      " 13         5\n",
      " 4          5\n",
      " 14         5\n",
      " 9          5\n",
      " 18         3\n",
      " 6          3\n",
      " 94         3\n",
      " 23         2\n",
      " 16         2\n",
      " 28         2\n",
      " 33         1\n",
      " 22         1\n",
      " 48         1\n",
      " 21         1\n",
      " 24         1\n",
      " 32         1\n",
      " 19         1\n",
      "Name: R500k, dtype: int64\n",
      "\n",
      "Column: R1k\n",
      " 5     955156\n",
      " 10    699000\n",
      " 0     646749\n",
      " 15    352265\n",
      " 20    156863\n",
      " 25     59268\n",
      " 30     27865\n",
      " 35     15007\n",
      " 40      9068\n",
      " 45      6370\n",
      " 50      4395\n",
      " 55      2907\n",
      "-5       2015\n",
      " 60      1901\n",
      " 65      1254\n",
      " 70       806\n",
      " 75       540\n",
      " 80       374\n",
      " 90       289\n",
      "-1        251\n",
      " 85       248\n",
      " 99       107\n",
      " 95        90\n",
      " 96        78\n",
      " 97        52\n",
      " 98        29\n",
      " 9          8\n",
      " 1          7\n",
      " 3          7\n",
      " 8          7\n",
      " 18         6\n",
      " 4          5\n",
      " 11         4\n",
      " 6          4\n",
      " 2          4\n",
      " 7          4\n",
      " 92         4\n",
      " 94         3\n",
      " 24         2\n",
      " 14         2\n",
      " 19         2\n",
      " 21         2\n",
      " 13         2\n",
      " 12         2\n",
      " 54         1\n",
      " 47         1\n",
      " 23         1\n",
      " 22         1\n",
      " 31         1\n",
      " 27         1\n",
      "Name: R1k, dtype: int64\n",
      "\n",
      "Column: R2k\n",
      " 5     771180\n",
      " 0     763870\n",
      " 10    587330\n",
      " 15    331379\n",
      " 20    189456\n",
      " 25    106013\n",
      " 30     59951\n",
      " 35     36548\n",
      " 40     24872\n",
      " 45     18973\n",
      " 50     14869\n",
      " 55     12623\n",
      " 60      9099\n",
      " 65      5524\n",
      " 70      3078\n",
      "-5       2478\n",
      " 75      1844\n",
      " 80      1070\n",
      " 85       584\n",
      " 90       486\n",
      "-1        401\n",
      " 99       151\n",
      " 95       137\n",
      " 96        97\n",
      " 97        57\n",
      " 98        29\n",
      " 6          8\n",
      " 8          6\n",
      " 1          5\n",
      " 9          4\n",
      " 2          4\n",
      " 3          4\n",
      " 7          4\n",
      " 92         4\n",
      " 4          4\n",
      " 19         3\n",
      " 94         3\n",
      " 23         3\n",
      " 13         3\n",
      " 22         3\n",
      " 11         2\n",
      " 29         2\n",
      " 54         2\n",
      " 18         2\n",
      " 44         2\n",
      " 17         2\n",
      " 48         1\n",
      " 24         1\n",
      " 26         1\n",
      " 12         1\n",
      " 67         1\n",
      " 14         1\n",
      " 16         1\n",
      "Name: R2k, dtype: int64\n",
      "\n",
      "Column: R3k\n"
     ]
    },
    {
     "name": "stdout",
     "output_type": "stream",
     "text": [
      " 0     623898\n",
      " 5     618524\n",
      " 10    523200\n",
      " 15    341752\n",
      " 20    218375\n",
      " 25    142489\n",
      " 30     95987\n",
      " 35     71863\n",
      " 40     58517\n",
      " 45     54694\n",
      " 50     50504\n",
      " 55     47200\n",
      " 60     36601\n",
      " 65     24014\n",
      " 70     14342\n",
      " 75      8791\n",
      " 80      4497\n",
      " 85      2257\n",
      "-5       2016\n",
      " 90      1369\n",
      "-1        316\n",
      " 95       295\n",
      " 99       222\n",
      " 96       133\n",
      " 97        67\n",
      " 98        44\n",
      " 8          6\n",
      " 11         6\n",
      " 4          5\n",
      " 6          5\n",
      " 2          4\n",
      " 92         4\n",
      " 94         3\n",
      " 18         3\n",
      " 3          3\n",
      " 56         2\n",
      " 7          2\n",
      " 29         2\n",
      " 62         2\n",
      " 52         2\n",
      " 28         2\n",
      " 76         2\n",
      " 17         2\n",
      " 14         1\n",
      " 54         1\n",
      " 9          1\n",
      " 22         1\n",
      " 23         1\n",
      " 26         1\n",
      " 57         1\n",
      " 59         1\n",
      " 19         1\n",
      " 21         1\n",
      " 24         1\n",
      " 33         1\n",
      " 81         1\n",
      " 16         1\n",
      " 47         1\n",
      " 51         1\n",
      " 53         1\n",
      " 1          1\n",
      " 42         1\n",
      " 43         1\n",
      " 86         1\n",
      "Name: R3k, dtype: int64\n",
      "\n",
      "Column: R4k\n",
      " 5     483656\n",
      " 10    481779\n",
      " 0     455894\n",
      " 15    362732\n",
      " 20    259348\n",
      " 25    182560\n",
      " 30    133720\n",
      " 35    106022\n",
      " 40     90004\n",
      " 45     82756\n",
      " 50     72303\n",
      " 55     65658\n",
      " 60     52342\n",
      " 65     39167\n",
      " 70     26836\n",
      " 75     18842\n",
      " 80     12185\n",
      " 85      7337\n",
      " 90      4755\n",
      "-5       1591\n",
      " 95       985\n",
      " 99       443\n",
      "-1        324\n",
      " 96       170\n",
      " 97        75\n",
      " 98        33\n",
      " 92         9\n",
      " 8          8\n",
      " 6          4\n",
      " 27         4\n",
      " 11         4\n",
      " 48         4\n",
      " 18         3\n",
      " 28         3\n",
      " 1          3\n",
      " 94         3\n",
      " 2          3\n",
      " 43         3\n",
      " 7          3\n",
      " 54         2\n",
      " 13         2\n",
      " 3          2\n",
      " 23         2\n",
      " 41         2\n",
      " 51         2\n",
      " 42         2\n",
      " 57         2\n",
      " 52         2\n",
      " 16         2\n",
      " 36         2\n",
      " 39         2\n",
      " 24         2\n",
      " 9          2\n",
      " 19         2\n",
      " 26         1\n",
      " 44         1\n",
      " 38         1\n",
      " 73         1\n",
      " 4          1\n",
      " 32         1\n",
      " 34         1\n",
      " 79         1\n",
      " 62         1\n",
      " 46         1\n",
      " 83         1\n",
      " 21         1\n",
      " 17         1\n",
      " 31         1\n",
      "Name: R4k, dtype: int64\n",
      "\n",
      "Column: R6k\n",
      " 10    446446\n",
      " 15    422648\n",
      " 20    355297\n",
      " 5     345472\n",
      " 0     276587\n",
      " 25    268421\n",
      " 30    189884\n",
      " 35    137724\n",
      " 40    102241\n",
      " 45     82934\n",
      " 50     66008\n",
      " 55     57721\n",
      " 60     49036\n",
      " 65     41083\n",
      " 70     31272\n",
      " 75     24102\n",
      " 80     17955\n",
      " 85     11956\n",
      " 90      8280\n",
      " 95      2256\n",
      "-5        751\n",
      " 99       744\n",
      "-1        190\n",
      " 96       141\n",
      " 97        84\n",
      " 98        74\n",
      " 92        20\n",
      " 2          5\n",
      " 18         5\n",
      " 1          4\n",
      " 23         4\n",
      " 62         4\n",
      " 11         4\n",
      " 14         4\n",
      " 13         3\n",
      " 42         3\n",
      " 8          3\n",
      " 31         3\n",
      " 94         3\n",
      " 21         2\n",
      " 3          2\n",
      " 24         2\n",
      " 26         2\n",
      " 56         2\n",
      " 12         2\n",
      " 22         2\n",
      " 28         2\n",
      " 72         2\n",
      " 16         2\n",
      " 82         1\n",
      " 51         1\n",
      " 49         1\n",
      " 44         1\n",
      " 69         1\n",
      " 79         1\n",
      " 33         1\n",
      " 17         1\n",
      " 19         1\n",
      " 83         1\n",
      " 57         1\n",
      " 9          1\n",
      " 53         1\n",
      " 6          1\n",
      " 63         1\n",
      " 32         1\n",
      " 41         1\n",
      " 27         1\n",
      " 54         1\n",
      " 61         1\n",
      " 38         1\n",
      " 4          1\n",
      " 34         1\n",
      "Name: R6k, dtype: int64\n",
      "\n",
      "Column: R8k\n",
      " 10    330435\n",
      " 0     310184\n",
      " 5     300156\n",
      " 15    271234\n",
      " 20    205627\n",
      " 25    147535\n",
      " 98    105710\n",
      " 30    103098\n",
      " 35     75006\n",
      " 40     57217\n",
      " 45     47922\n",
      " 50     39355\n",
      " 55     36390\n",
      " 60     31613\n",
      " 65     27303\n",
      " 70     22362\n",
      " 75     17713\n",
      " 80     11269\n",
      " 85      6829\n",
      " 90      6616\n",
      " 95      1663\n",
      "-5       1086\n",
      " 99       859\n",
      "-1        195\n",
      " 96       183\n",
      " 97        42\n",
      " 92        16\n",
      " 71         7\n",
      " 3          2\n",
      " 94         2\n",
      " 79         2\n",
      " 72         1\n",
      " 12         1\n",
      " 21         1\n",
      " 7          1\n",
      " 89         1\n",
      " 67         1\n",
      " 28         1\n",
      " 53         1\n",
      " 76         1\n",
      " 32         1\n",
      "Name: R8k, dtype: int64\n",
      "\n"
     ]
    }
   ],
   "source": [
    "# Overview Value Counts\n",
    "for c in df_audio.columns:\n",
    "    if c.startswith(('R','L')):\n",
    "        print(f'Column: {c}')\n",
    "        df_s = df_audio[df_audio[c]!='**'][~df_audio[c].isna()][c].astype(\"int\")\n",
    "        print(df_s.value_counts())\n",
    "        print(\"\")"
   ]
  },
  {
   "cell_type": "code",
   "execution_count": 93,
   "id": "9bf3e94b",
   "metadata": {
    "ExecuteTime": {
     "end_time": "2022-07-31T15:21:25.972189Z",
     "start_time": "2022-07-31T15:21:24.389836Z"
    },
    "scrolled": true
   },
   "outputs": [
    {
     "name": "stdout",
     "output_type": "stream",
     "text": [
      "Column: L500k / Count: 1157\n",
      "Column: L1k / Count: 1229\n",
      "Column: L2k / Count: 1540\n",
      "Column: L3k / Count: 1898\n",
      "Column: L4k / Count: 2601\n",
      "Column: L6k / Count: 4887\n",
      "Column: L8k / Count: 738052\n",
      "Column: R500k / Count: 1102\n",
      "Column: R1k / Count: 1238\n",
      "Column: R2k / Count: 1552\n",
      "Column: R3k / Count: 1947\n",
      "Column: R4k / Count: 2572\n",
      "Column: R6k / Count: 4829\n",
      "Column: R8k / Count: 738034\n"
     ]
    }
   ],
   "source": [
    "# Overview ** values\n",
    "for c in df_audio.columns:\n",
    "    if c.startswith(('R','L')):\n",
    "        count = df_audio[df_audio[c]=='**'][c].shape[0]\n",
    "        print(f'Column: {c} / Count: {count}')"
   ]
  },
  {
   "cell_type": "code",
   "execution_count": 100,
   "id": "b90b6615",
   "metadata": {
    "ExecuteTime": {
     "end_time": "2022-07-31T15:25:07.060991Z",
     "start_time": "2022-07-31T15:25:07.042898Z"
    },
    "scrolled": false
   },
   "outputs": [
    {
     "data": {
      "text/html": [
       "<div>\n",
       "<style scoped>\n",
       "    .dataframe tbody tr th:only-of-type {\n",
       "        vertical-align: middle;\n",
       "    }\n",
       "\n",
       "    .dataframe tbody tr th {\n",
       "        vertical-align: top;\n",
       "    }\n",
       "\n",
       "    .dataframe thead th {\n",
       "        text-align: right;\n",
       "    }\n",
       "</style>\n",
       "<table border=\"1\" class=\"dataframe\">\n",
       "  <thead>\n",
       "    <tr style=\"text-align: right;\">\n",
       "      <th></th>\n",
       "      <th>test_date</th>\n",
       "      <th>nid</th>\n",
       "      <th>L500k</th>\n",
       "      <th>L1k</th>\n",
       "      <th>L2k</th>\n",
       "      <th>L3k</th>\n",
       "      <th>L4k</th>\n",
       "      <th>L6k</th>\n",
       "      <th>L8k</th>\n",
       "      <th>R500k</th>\n",
       "      <th>R1k</th>\n",
       "      <th>R2k</th>\n",
       "      <th>R3k</th>\n",
       "      <th>R4k</th>\n",
       "      <th>R6k</th>\n",
       "      <th>R8k</th>\n",
       "      <th>gender</th>\n",
       "      <th>naics</th>\n",
       "      <th>age_group</th>\n",
       "      <th>region</th>\n",
       "      <th>NAICS_descr</th>\n",
       "    </tr>\n",
       "  </thead>\n",
       "  <tbody>\n",
       "    <tr>\n",
       "      <th>0</th>\n",
       "      <td>08-FEB-2005</td>\n",
       "      <td>1</td>\n",
       "      <td>10</td>\n",
       "      <td>5</td>\n",
       "      <td>5</td>\n",
       "      <td>15</td>\n",
       "      <td>10</td>\n",
       "      <td>5</td>\n",
       "      <td>25</td>\n",
       "      <td>20</td>\n",
       "      <td>20</td>\n",
       "      <td>15</td>\n",
       "      <td>10</td>\n",
       "      <td>10</td>\n",
       "      <td>25</td>\n",
       "      <td>45</td>\n",
       "      <td>M</td>\n",
       "      <td>331512</td>\n",
       "      <td>4.0</td>\n",
       "      <td>MA</td>\n",
       "      <td>Steel Investment Foundries</td>\n",
       "    </tr>\n",
       "    <tr>\n",
       "      <th>1</th>\n",
       "      <td>17-MAR-2009</td>\n",
       "      <td>1</td>\n",
       "      <td>15</td>\n",
       "      <td>10</td>\n",
       "      <td>5</td>\n",
       "      <td>15</td>\n",
       "      <td>5</td>\n",
       "      <td>10</td>\n",
       "      <td>25</td>\n",
       "      <td>15</td>\n",
       "      <td>20</td>\n",
       "      <td>20</td>\n",
       "      <td>15</td>\n",
       "      <td>10</td>\n",
       "      <td>35</td>\n",
       "      <td>55</td>\n",
       "      <td>M</td>\n",
       "      <td>331512</td>\n",
       "      <td>5.0</td>\n",
       "      <td>MA</td>\n",
       "      <td>Steel Investment Foundries</td>\n",
       "    </tr>\n",
       "    <tr>\n",
       "      <th>2</th>\n",
       "      <td>08-FEB-2005</td>\n",
       "      <td>2</td>\n",
       "      <td>5</td>\n",
       "      <td>10</td>\n",
       "      <td>20</td>\n",
       "      <td>20</td>\n",
       "      <td>15</td>\n",
       "      <td>20</td>\n",
       "      <td>0</td>\n",
       "      <td>5</td>\n",
       "      <td>0</td>\n",
       "      <td>5</td>\n",
       "      <td>10</td>\n",
       "      <td>10</td>\n",
       "      <td>15</td>\n",
       "      <td>15</td>\n",
       "      <td>M</td>\n",
       "      <td>331512</td>\n",
       "      <td>2.0</td>\n",
       "      <td>MA</td>\n",
       "      <td>Steel Investment Foundries</td>\n",
       "    </tr>\n",
       "    <tr>\n",
       "      <th>3</th>\n",
       "      <td>29-FEB-2008</td>\n",
       "      <td>2</td>\n",
       "      <td>15</td>\n",
       "      <td>5</td>\n",
       "      <td>15</td>\n",
       "      <td>20</td>\n",
       "      <td>20</td>\n",
       "      <td>15</td>\n",
       "      <td>15</td>\n",
       "      <td>10</td>\n",
       "      <td>0</td>\n",
       "      <td>10</td>\n",
       "      <td>15</td>\n",
       "      <td>30</td>\n",
       "      <td>20</td>\n",
       "      <td>15</td>\n",
       "      <td>M</td>\n",
       "      <td>331512</td>\n",
       "      <td>3.0</td>\n",
       "      <td>MA</td>\n",
       "      <td>Steel Investment Foundries</td>\n",
       "    </tr>\n",
       "    <tr>\n",
       "      <th>4</th>\n",
       "      <td>08-FEB-2006</td>\n",
       "      <td>3</td>\n",
       "      <td>25</td>\n",
       "      <td>20</td>\n",
       "      <td>15</td>\n",
       "      <td>20</td>\n",
       "      <td>35</td>\n",
       "      <td>25</td>\n",
       "      <td>15</td>\n",
       "      <td>20</td>\n",
       "      <td>20</td>\n",
       "      <td>10</td>\n",
       "      <td>15</td>\n",
       "      <td>40</td>\n",
       "      <td>30</td>\n",
       "      <td>30</td>\n",
       "      <td>M</td>\n",
       "      <td>331512</td>\n",
       "      <td>3.0</td>\n",
       "      <td>MA</td>\n",
       "      <td>Steel Investment Foundries</td>\n",
       "    </tr>\n",
       "  </tbody>\n",
       "</table>\n",
       "</div>"
      ],
      "text/plain": [
       "     test_date  nid L500k L1k L2k L3k L4k L6k L8k R500k R1k R2k R3k R4k R6k  \\\n",
       "0  08-FEB-2005    1    10   5   5  15  10   5  25    20  20  15  10  10  25   \n",
       "1  17-MAR-2009    1    15  10   5  15   5  10  25    15  20  20  15  10  35   \n",
       "2  08-FEB-2005    2     5  10  20  20  15  20   0     5   0   5  10  10  15   \n",
       "3  29-FEB-2008    2    15   5  15  20  20  15  15    10   0  10  15  30  20   \n",
       "4  08-FEB-2006    3    25  20  15  20  35  25  15    20  20  10  15  40  30   \n",
       "\n",
       "  R8k gender   naics  age_group region                 NAICS_descr  \n",
       "0  45      M  331512        4.0     MA  Steel Investment Foundries  \n",
       "1  55      M  331512        5.0     MA  Steel Investment Foundries  \n",
       "2  15      M  331512        2.0     MA  Steel Investment Foundries  \n",
       "3  15      M  331512        3.0     MA  Steel Investment Foundries  \n",
       "4  30      M  331512        3.0     MA  Steel Investment Foundries  "
      ]
     },
     "execution_count": 100,
     "metadata": {},
     "output_type": "execute_result"
    }
   ],
   "source": [
    "df_audio.head()"
   ]
  },
  {
   "cell_type": "markdown",
   "id": "dfd87091",
   "metadata": {},
   "source": [
    "#### Cleaning and Format"
   ]
  },
  {
   "cell_type": "code",
   "execution_count": 101,
   "id": "0a6471c6",
   "metadata": {
    "ExecuteTime": {
     "end_time": "2022-07-31T15:25:46.171900Z",
     "start_time": "2022-07-31T15:25:46.009604Z"
    }
   },
   "outputs": [],
   "source": [
    "# Get only valueable columns\n",
    "df_audio = df_audio.iloc[:,2:-1]"
   ]
  },
  {
   "cell_type": "code",
   "execution_count": 103,
   "id": "1bf618ff",
   "metadata": {
    "ExecuteTime": {
     "end_time": "2022-07-31T15:26:33.503927Z",
     "start_time": "2022-07-31T15:26:30.192813Z"
    }
   },
   "outputs": [],
   "source": [
    "# Drop NaN values\n",
    "df_audio.dropna(inplace=True)"
   ]
  },
  {
   "cell_type": "code",
   "execution_count": 109,
   "id": "e61ea7cd",
   "metadata": {
    "ExecuteTime": {
     "end_time": "2022-07-31T15:35:51.353125Z",
     "start_time": "2022-07-31T15:35:51.155197Z"
    }
   },
   "outputs": [],
   "source": [
    "# Split dataset into L and R\n",
    "L_columns = [c for c in df_audio.columns if not c.startswith('R')]\n",
    "R_columns = [c for c in df_audio.columns if not c.startswith('L')]\n",
    "df_audio_l = df_audio[L_columns]\n",
    "df_audio_r = df_audio[R_columns]"
   ]
  },
  {
   "cell_type": "code",
   "execution_count": 112,
   "id": "215caa8e",
   "metadata": {
    "ExecuteTime": {
     "end_time": "2022-07-31T15:39:24.930181Z",
     "start_time": "2022-07-31T15:39:24.890007Z"
    }
   },
   "outputs": [],
   "source": [
    "# Create ear column\n",
    "df_audio_l['side'] = 'L'\n",
    "df_audio_r['side'] = 'R'"
   ]
  },
  {
   "cell_type": "code",
   "execution_count": 123,
   "id": "0bf11534",
   "metadata": {
    "ExecuteTime": {
     "end_time": "2022-07-31T15:46:20.251550Z",
     "start_time": "2022-07-31T15:46:20.099577Z"
    }
   },
   "outputs": [],
   "source": [
    "# Remove column specific name\n",
    "# Left\n",
    "for c in df_audio_l.columns:\n",
    "    if c.startswith('L'):\n",
    "        df_audio_l.rename(columns={c:c[1:]},inplace=True)\n",
    "\n",
    "# Right\n",
    "for c in df_audio_r.columns:\n",
    "    if c.startswith('R'):\n",
    "        df_audio_r.rename(columns={c:c[1:]}, inplace=True)"
   ]
  },
  {
   "cell_type": "code",
   "execution_count": null,
   "id": "73064f99",
   "metadata": {},
   "outputs": [],
   "source": [
    "# Backup df_audio\n",
    "df_audio_bak_1 = df_audio.copy()"
   ]
  },
  {
   "cell_type": "code",
   "execution_count": 149,
   "id": "04d0eb5e",
   "metadata": {
    "ExecuteTime": {
     "end_time": "2022-07-31T16:08:16.689125Z",
     "start_time": "2022-07-31T16:08:16.313623Z"
    }
   },
   "outputs": [],
   "source": [
    "# Join Datasets\n",
    "df_audio = pd.concat([df_audio_l, df_audio_r])"
   ]
  },
  {
   "cell_type": "code",
   "execution_count": 150,
   "id": "dbb33d7d",
   "metadata": {
    "ExecuteTime": {
     "end_time": "2022-07-31T16:08:25.114901Z",
     "start_time": "2022-07-31T16:08:25.112440Z"
    }
   },
   "outputs": [],
   "source": [
    "# Arrange Index\n",
    "df_audio.reset_index(inplace=True, drop=True)"
   ]
  },
  {
   "cell_type": "code",
   "execution_count": 151,
   "id": "b639526d",
   "metadata": {
    "ExecuteTime": {
     "end_time": "2022-07-31T16:08:39.632385Z",
     "start_time": "2022-07-31T16:08:28.561760Z"
    }
   },
   "outputs": [],
   "source": [
    "# 1 Checkpoint\n",
    "df_audio.to_csv(d_path / 'df_audio_check_1.csv', index=False)"
   ]
  },
  {
   "cell_type": "code",
   "execution_count": 174,
   "id": "2c27ce9c",
   "metadata": {
    "ExecuteTime": {
     "end_time": "2022-07-31T16:31:52.011485Z",
     "start_time": "2022-07-31T16:31:49.535066Z"
    }
   },
   "outputs": [],
   "source": [
    "# 1 Checkpoint\n",
    "df_audio = pd.read_csv(d_path / 'df_audio_check_1.csv')"
   ]
  },
  {
   "cell_type": "code",
   "execution_count": 177,
   "id": "f295f712",
   "metadata": {
    "ExecuteTime": {
     "end_time": "2022-07-31T16:32:04.547967Z",
     "start_time": "2022-07-31T16:32:04.534296Z"
    },
    "scrolled": false
   },
   "outputs": [
    {
     "data": {
      "text/html": [
       "<div>\n",
       "<style scoped>\n",
       "    .dataframe tbody tr th:only-of-type {\n",
       "        vertical-align: middle;\n",
       "    }\n",
       "\n",
       "    .dataframe tbody tr th {\n",
       "        vertical-align: top;\n",
       "    }\n",
       "\n",
       "    .dataframe thead th {\n",
       "        text-align: right;\n",
       "    }\n",
       "</style>\n",
       "<table border=\"1\" class=\"dataframe\">\n",
       "  <thead>\n",
       "    <tr style=\"text-align: right;\">\n",
       "      <th></th>\n",
       "      <th>500k</th>\n",
       "      <th>1k</th>\n",
       "      <th>2k</th>\n",
       "      <th>3k</th>\n",
       "      <th>4k</th>\n",
       "      <th>6k</th>\n",
       "      <th>8k</th>\n",
       "      <th>gender</th>\n",
       "      <th>naics</th>\n",
       "      <th>age_group</th>\n",
       "      <th>region</th>\n",
       "      <th>side</th>\n",
       "    </tr>\n",
       "  </thead>\n",
       "  <tbody>\n",
       "    <tr>\n",
       "      <th>0</th>\n",
       "      <td>10</td>\n",
       "      <td>5</td>\n",
       "      <td>5</td>\n",
       "      <td>15</td>\n",
       "      <td>10</td>\n",
       "      <td>5</td>\n",
       "      <td>25</td>\n",
       "      <td>M</td>\n",
       "      <td>331512</td>\n",
       "      <td>4.0</td>\n",
       "      <td>MA</td>\n",
       "      <td>L</td>\n",
       "    </tr>\n",
       "    <tr>\n",
       "      <th>1</th>\n",
       "      <td>15</td>\n",
       "      <td>10</td>\n",
       "      <td>5</td>\n",
       "      <td>15</td>\n",
       "      <td>5</td>\n",
       "      <td>10</td>\n",
       "      <td>25</td>\n",
       "      <td>M</td>\n",
       "      <td>331512</td>\n",
       "      <td>5.0</td>\n",
       "      <td>MA</td>\n",
       "      <td>L</td>\n",
       "    </tr>\n",
       "    <tr>\n",
       "      <th>2</th>\n",
       "      <td>5</td>\n",
       "      <td>10</td>\n",
       "      <td>20</td>\n",
       "      <td>20</td>\n",
       "      <td>15</td>\n",
       "      <td>20</td>\n",
       "      <td>0</td>\n",
       "      <td>M</td>\n",
       "      <td>331512</td>\n",
       "      <td>2.0</td>\n",
       "      <td>MA</td>\n",
       "      <td>L</td>\n",
       "    </tr>\n",
       "    <tr>\n",
       "      <th>3</th>\n",
       "      <td>15</td>\n",
       "      <td>5</td>\n",
       "      <td>15</td>\n",
       "      <td>20</td>\n",
       "      <td>20</td>\n",
       "      <td>15</td>\n",
       "      <td>15</td>\n",
       "      <td>M</td>\n",
       "      <td>331512</td>\n",
       "      <td>3.0</td>\n",
       "      <td>MA</td>\n",
       "      <td>L</td>\n",
       "    </tr>\n",
       "    <tr>\n",
       "      <th>4</th>\n",
       "      <td>25</td>\n",
       "      <td>20</td>\n",
       "      <td>15</td>\n",
       "      <td>20</td>\n",
       "      <td>35</td>\n",
       "      <td>25</td>\n",
       "      <td>15</td>\n",
       "      <td>M</td>\n",
       "      <td>331512</td>\n",
       "      <td>3.0</td>\n",
       "      <td>MA</td>\n",
       "      <td>L</td>\n",
       "    </tr>\n",
       "  </tbody>\n",
       "</table>\n",
       "</div>"
      ],
      "text/plain": [
       "  500k  1k  2k  3k  4k  6k  8k gender   naics  age_group region side\n",
       "0   10   5   5  15  10   5  25      M  331512        4.0     MA    L\n",
       "1   15  10   5  15   5  10  25      M  331512        5.0     MA    L\n",
       "2    5  10  20  20  15  20   0      M  331512        2.0     MA    L\n",
       "3   15   5  15  20  20  15  15      M  331512        3.0     MA    L\n",
       "4   25  20  15  20  35  25  15      M  331512        3.0     MA    L"
      ]
     },
     "execution_count": 177,
     "metadata": {},
     "output_type": "execute_result"
    }
   ],
   "source": [
    "df_audio.head()"
   ]
  },
  {
   "cell_type": "code",
   "execution_count": 178,
   "id": "fb9c5759",
   "metadata": {
    "ExecuteTime": {
     "end_time": "2022-07-31T16:32:19.158308Z",
     "start_time": "2022-07-31T16:32:18.492315Z"
    }
   },
   "outputs": [],
   "source": [
    "# Change ** to NaN\n",
    "df_audio.replace('**', np.nan, inplace=True)"
   ]
  },
  {
   "cell_type": "code",
   "execution_count": 179,
   "id": "2b7b5ebf",
   "metadata": {
    "ExecuteTime": {
     "end_time": "2022-07-31T16:32:25.154398Z",
     "start_time": "2022-07-31T16:32:23.352003Z"
    }
   },
   "outputs": [],
   "source": [
    "# Convert Frequency Columns to Float\n",
    "cols = df_audio.columns[0:7]\n",
    "for c in cols:\n",
    "    df_audio[c] = df_audio[c].astype('float16')"
   ]
  },
  {
   "cell_type": "code",
   "execution_count": 180,
   "id": "6b8b2615",
   "metadata": {
    "ExecuteTime": {
     "end_time": "2022-07-31T16:32:35.985739Z",
     "start_time": "2022-07-31T16:32:35.474834Z"
    }
   },
   "outputs": [],
   "source": [
    "# Remove NaN values from 500k to 6k\n",
    "cols = df_audio.columns[0:6]\n",
    "df_audio.dropna(subset=cols, inplace=True)"
   ]
  },
  {
   "cell_type": "code",
   "execution_count": 181,
   "id": "986fd563",
   "metadata": {
    "ExecuteTime": {
     "end_time": "2022-07-31T16:33:14.361993Z",
     "start_time": "2022-07-31T16:33:13.840134Z"
    },
    "scrolled": false
   },
   "outputs": [
    {
     "name": "stdout",
     "output_type": "stream",
     "text": [
      "Column: 500k / NaN Count:0\n",
      "Column: 1k / NaN Count:0\n",
      "Column: 2k / NaN Count:0\n",
      "Column: 3k / NaN Count:0\n",
      "Column: 4k / NaN Count:0\n",
      "Column: 6k / NaN Count:0\n",
      "Column: 8k / NaN Count:1449191\n",
      "Column: gender / NaN Count:0\n",
      "Column: naics / NaN Count:0\n",
      "Column: age_group / NaN Count:0\n",
      "Column: region / NaN Count:0\n",
      "Column: side / NaN Count:0\n"
     ]
    }
   ],
   "source": [
    "# New NaN values\n",
    "for column in df_audio.columns:\n",
    "    print(f'Column: {column} / NaN Count:{df_audio[df_audio[column].isna()].shape[0]}')"
   ]
  },
  {
   "cell_type": "code",
   "execution_count": 195,
   "id": "5b0a04ad",
   "metadata": {
    "ExecuteTime": {
     "end_time": "2022-07-31T16:57:22.631418Z",
     "start_time": "2022-07-31T16:57:22.597472Z"
    }
   },
   "outputs": [],
   "source": [
    "# Remove non 5 multiples from 500k to 6k\n",
    "cols = df_audio.columns[0:6]\n",
    "df_audio_freq = df_audio[cols]"
   ]
  },
  {
   "cell_type": "code",
   "execution_count": 196,
   "id": "44afd155",
   "metadata": {
    "ExecuteTime": {
     "end_time": "2022-07-31T16:57:36.261129Z",
     "start_time": "2022-07-31T16:57:35.401645Z"
    }
   },
   "outputs": [],
   "source": [
    "cond = df_audio_freq % 5 == 0\n",
    "df_audio_freq.where(cond, np.NaN, inplace=True)"
   ]
  },
  {
   "cell_type": "code",
   "execution_count": 207,
   "id": "9c85c556",
   "metadata": {
    "ExecuteTime": {
     "end_time": "2022-07-31T17:02:02.203229Z",
     "start_time": "2022-07-31T17:02:01.547713Z"
    }
   },
   "outputs": [],
   "source": [
    "lines = df_audio_freq.dropna().index\n",
    "df_audio = df_audio.loc[lines]"
   ]
  },
  {
   "cell_type": "code",
   "execution_count": 209,
   "id": "cffeb064",
   "metadata": {
    "ExecuteTime": {
     "end_time": "2022-07-31T17:02:24.506970Z",
     "start_time": "2022-07-31T17:02:24.503703Z"
    },
    "scrolled": false
   },
   "outputs": [],
   "source": [
    "df_audio.reset_index(inplace=True, drop=True)"
   ]
  },
  {
   "cell_type": "code",
   "execution_count": 220,
   "id": "d83c2a4f",
   "metadata": {
    "ExecuteTime": {
     "end_time": "2022-07-31T17:14:06.446068Z",
     "start_time": "2022-07-31T17:14:06.398899Z"
    },
    "scrolled": true
   },
   "outputs": [],
   "source": [
    "# Remove non 5 multiple from 8k\n",
    "df_audio['8k'] = df_audio['8k'].replace(98.0, 95.0)"
   ]
  },
  {
   "cell_type": "code",
   "execution_count": 222,
   "id": "2be2cd24",
   "metadata": {
    "ExecuteTime": {
     "end_time": "2022-07-31T17:14:36.745640Z",
     "start_time": "2022-07-31T17:14:35.200212Z"
    }
   },
   "outputs": [],
   "source": [
    "lines = df_audio.dropna()[df_audio['8k']%5!=0].index"
   ]
  },
  {
   "cell_type": "code",
   "execution_count": 224,
   "id": "5d15d28a",
   "metadata": {
    "ExecuteTime": {
     "end_time": "2022-07-31T17:15:02.078914Z",
     "start_time": "2022-07-31T17:15:01.782278Z"
    }
   },
   "outputs": [],
   "source": [
    "df_audio.drop(lines, inplace=True)"
   ]
  },
  {
   "cell_type": "code",
   "execution_count": 228,
   "id": "99b2a3ac",
   "metadata": {
    "ExecuteTime": {
     "end_time": "2022-07-31T17:18:38.213795Z",
     "start_time": "2022-07-31T17:18:38.210132Z"
    }
   },
   "outputs": [],
   "source": [
    "df_audio.reset_index(inplace=True, drop=True)"
   ]
  },
  {
   "cell_type": "code",
   "execution_count": 229,
   "id": "727665e4",
   "metadata": {
    "ExecuteTime": {
     "end_time": "2022-07-31T17:19:26.962169Z",
     "start_time": "2022-07-31T17:19:10.260892Z"
    }
   },
   "outputs": [],
   "source": [
    "# 2 Checkpoint\n",
    "df_audio.to_csv(d_path / 'df_audio_check_2.csv', index=False)"
   ]
  },
  {
   "cell_type": "code",
   "execution_count": 339,
   "id": "3d7af7bc",
   "metadata": {
    "ExecuteTime": {
     "end_time": "2022-07-31T19:06:11.955226Z",
     "start_time": "2022-07-31T19:06:09.840582Z"
    }
   },
   "outputs": [],
   "source": [
    "# 2 Checkpoint\n",
    "df_audio = pd.read_csv(d_path / 'df_audio_check_2.csv')"
   ]
  },
  {
   "cell_type": "markdown",
   "id": "ebcdf044",
   "metadata": {},
   "source": [
    "#### Fill 8k Column"
   ]
  },
  {
   "cell_type": "markdown",
   "id": "5caa9050",
   "metadata": {},
   "source": [
    "Fill 8k NaN values with the other frequencies mean"
   ]
  },
  {
   "cell_type": "code",
   "execution_count": 340,
   "id": "2b18e38b",
   "metadata": {
    "ExecuteTime": {
     "end_time": "2022-07-31T19:06:15.039139Z",
     "start_time": "2022-07-31T19:06:15.036389Z"
    }
   },
   "outputs": [],
   "source": [
    "def get_closer_5_multi(n):\n",
    "    r = n % 5\n",
    "    return n+(5-r) if r>=2.5 else n-r"
   ]
  },
  {
   "cell_type": "code",
   "execution_count": 267,
   "id": "32ad7cbd",
   "metadata": {
    "ExecuteTime": {
     "end_time": "2022-07-31T17:43:05.894515Z",
     "start_time": "2022-07-31T17:43:04.516732Z"
    }
   },
   "outputs": [],
   "source": [
    "# Fill 8k values based on mean from other columns\n",
    "df_means_8k = {}\n",
    "for c in df_audio.columns:\n",
    "    means_d = df_audio.groupby(c)['8k'].mean().to_dict()\n",
    "    df_means_8k[c] = {k:get_closer_5_multi(v) for k,v in means_d.items()}"
   ]
  },
  {
   "cell_type": "code",
   "execution_count": 285,
   "id": "37a021b4",
   "metadata": {
    "ExecuteTime": {
     "end_time": "2022-07-31T18:03:16.932419Z",
     "start_time": "2022-07-31T18:03:16.915614Z"
    },
    "collapsed": true
   },
   "outputs": [
    {
     "data": {
      "text/plain": [
       "{'500k': {-5.0: 15.0,\n",
       "  0.0: 20.0,\n",
       "  5.0: 20.0,\n",
       "  10.0: 20.0,\n",
       "  15.0: 25.0,\n",
       "  20.0: 30.0,\n",
       "  25.0: 40.0,\n",
       "  30.0: 45.0,\n",
       "  35.0: 50.0,\n",
       "  40.0: 55.0,\n",
       "  45.0: 60.0,\n",
       "  50.0: 65.0,\n",
       "  55.0: 65.0,\n",
       "  60.0: 70.0,\n",
       "  65.0: 70.0,\n",
       "  70.0: 75.0,\n",
       "  75.0: 80.0,\n",
       "  80.0: 80.0,\n",
       "  85.0: 85.0,\n",
       "  90.0: 85.0,\n",
       "  95.0: 90.0},\n",
       " '1k': {-5.0: 10.0,\n",
       "  0.0: 20.0,\n",
       "  5.0: 20.0,\n",
       "  10.0: 25.0,\n",
       "  15.0: 30.0,\n",
       "  20.0: 35.0,\n",
       "  25.0: 40.0,\n",
       "  30.0: 50.0,\n",
       "  35.0: 55.0,\n",
       "  40.0: 55.0,\n",
       "  45.0: 60.0,\n",
       "  50.0: 60.0,\n",
       "  55.0: 65.0,\n",
       "  60.0: 70.0,\n",
       "  65.0: 70.0,\n",
       "  70.0: 75.0,\n",
       "  75.0: 75.0,\n",
       "  80.0: 80.0,\n",
       "  85.0: 80.0,\n",
       "  90.0: 85.0,\n",
       "  95.0: 90.0},\n",
       " '2k': {-5.0: 10.0,\n",
       "  0.0: 15.0,\n",
       "  5.0: 20.0,\n",
       "  10.0: 20.0,\n",
       "  15.0: 25.0,\n",
       "  20.0: 30.0,\n",
       "  25.0: 35.0,\n",
       "  30.0: 40.0,\n",
       "  35.0: 45.0,\n",
       "  40.0: 50.0,\n",
       "  45.0: 55.0,\n",
       "  50.0: 55.0,\n",
       "  55.0: 60.0,\n",
       "  60.0: 65.0,\n",
       "  65.0: 70.0,\n",
       "  70.0: 70.0,\n",
       "  75.0: 75.0,\n",
       "  80.0: 75.0,\n",
       "  85.0: 80.0,\n",
       "  90.0: 85.0,\n",
       "  95.0: 90.0},\n",
       " '3k': {-5.0: 5.0,\n",
       "  0.0: 15.0,\n",
       "  5.0: 15.0,\n",
       "  10.0: 20.0,\n",
       "  15.0: 25.0,\n",
       "  20.0: 25.0,\n",
       "  25.0: 30.0,\n",
       "  30.0: 35.0,\n",
       "  35.0: 40.0,\n",
       "  40.0: 40.0,\n",
       "  45.0: 40.0,\n",
       "  50.0: 45.0,\n",
       "  55.0: 50.0,\n",
       "  60.0: 55.0,\n",
       "  65.0: 60.0,\n",
       "  70.0: 65.0,\n",
       "  75.0: 70.0,\n",
       "  80.0: 75.0,\n",
       "  85.0: 80.0,\n",
       "  90.0: 80.0,\n",
       "  95.0: 90.0},\n",
       " '4k': {-5.0: 5.0,\n",
       "  0.0: 15.0,\n",
       "  5.0: 15.0,\n",
       "  10.0: 15.0,\n",
       "  15.0: 20.0,\n",
       "  20.0: 25.0,\n",
       "  25.0: 25.0,\n",
       "  30.0: 30.0,\n",
       "  35.0: 30.0,\n",
       "  40.0: 35.0,\n",
       "  45.0: 35.0,\n",
       "  50.0: 40.0,\n",
       "  55.0: 45.0,\n",
       "  60.0: 50.0,\n",
       "  65.0: 55.0,\n",
       "  70.0: 65.0,\n",
       "  75.0: 70.0,\n",
       "  80.0: 75.0,\n",
       "  85.0: 75.0,\n",
       "  90.0: 80.0,\n",
       "  95.0: 85.0},\n",
       " '6k': {-5.0: 5.0,\n",
       "  0.0: 10.0,\n",
       "  5.0: 10.0,\n",
       "  10.0: 15.0,\n",
       "  15.0: 15.0,\n",
       "  20.0: 20.0,\n",
       "  25.0: 25.0,\n",
       "  30.0: 25.0,\n",
       "  35.0: 30.0,\n",
       "  40.0: 35.0,\n",
       "  45.0: 40.0,\n",
       "  50.0: 45.0,\n",
       "  55.0: 50.0,\n",
       "  60.0: 55.0,\n",
       "  65.0: 60.0,\n",
       "  70.0: 65.0,\n",
       "  75.0: 70.0,\n",
       "  80.0: 75.0,\n",
       "  85.0: 75.0,\n",
       "  90.0: 80.0,\n",
       "  95.0: 85.0},\n",
       " '8k': {-5.0: -5.0,\n",
       "  0.0: 0.0,\n",
       "  5.0: 5.0,\n",
       "  10.0: 10.0,\n",
       "  15.0: 15.0,\n",
       "  20.0: 20.0,\n",
       "  25.0: 25.0,\n",
       "  30.0: 30.0,\n",
       "  35.0: 35.0,\n",
       "  40.0: 40.0,\n",
       "  45.0: 45.0,\n",
       "  50.0: 50.0,\n",
       "  55.0: 55.0,\n",
       "  60.0: 60.0,\n",
       "  65.0: 65.0,\n",
       "  70.0: 70.0,\n",
       "  75.0: 75.0,\n",
       "  80.0: 80.0,\n",
       "  85.0: 85.0,\n",
       "  90.0: 90.0,\n",
       "  95.0: 95.0},\n",
       " 'gender': {'F': 20.0, 'M': 25.0},\n",
       " 'naics': {23: 20.0,\n",
       "  54: 5.0,\n",
       "  221: 25.0,\n",
       "  511: 20.0,\n",
       "  2211: 25.0,\n",
       "  3133: 15.0,\n",
       "  3211: 20.0,\n",
       "  3221: 20.0,\n",
       "  4238: 20.0,\n",
       "  22112: nan,\n",
       "  31111: 15.0,\n",
       "  31211: 20.0,\n",
       "  32311: 15.0,\n",
       "  32411: 20.0,\n",
       "  32614: 15.0,\n",
       "  33441: 15.0,\n",
       "  48811: 20.0,\n",
       "  48849: 25.0,\n",
       "  56221: 25.0,\n",
       "  111219: 15.0,\n",
       "  111422: 20.0,\n",
       "  111998: 15.0,\n",
       "  112120: 20.0,\n",
       "  112210: 15.0,\n",
       "  112310: 95.0,\n",
       "  112320: 15.0,\n",
       "  112330: 15.0,\n",
       "  112340: 20.0,\n",
       "  112390: 20.0,\n",
       "  112511: 20.0,\n",
       "  113110: 25.0,\n",
       "  113210: 25.0,\n",
       "  113310: 25.0,\n",
       "  114111: 20.0,\n",
       "  114210: 25.0,\n",
       "  115112: 20.0,\n",
       "  115114: 20.0,\n",
       "  115310: 15.0,\n",
       "  211112: 20.0,\n",
       "  212111: 25.0,\n",
       "  212210: 25.0,\n",
       "  212221: 20.0,\n",
       "  212311: 30.0,\n",
       "  212312: 25.0,\n",
       "  212313: 20.0,\n",
       "  212319: 25.0,\n",
       "  212321: 25.0,\n",
       "  212322: 20.0,\n",
       "  212399: 25.0,\n",
       "  213111: 35.0,\n",
       "  213112: 15.0,\n",
       "  213115: nan,\n",
       "  221112: 40.0,\n",
       "  221119: 25.0,\n",
       "  221121: 25.0,\n",
       "  221122: 25.0,\n",
       "  221210: 25.0,\n",
       "  221302: 35.0,\n",
       "  221310: 25.0,\n",
       "  221320: 25.0,\n",
       "  233210: 25.0,\n",
       "  233310: 20.0,\n",
       "  233320: 15.0,\n",
       "  234110: 20.0,\n",
       "  234120: 30.0,\n",
       "  234910: 20.0,\n",
       "  234990: 25.0,\n",
       "  235110: 25.0,\n",
       "  235210: 15.0,\n",
       "  235310: 25.0,\n",
       "  235410: 30.0,\n",
       "  235610: 40.0,\n",
       "  235710: 20.0,\n",
       "  235810: 15.0,\n",
       "  235910: 20.0,\n",
       "  235930: 25.0,\n",
       "  235990: 15.0,\n",
       "  236115: 20.0,\n",
       "  236118: 20.0,\n",
       "  236210: 20.0,\n",
       "  236220: 25.0,\n",
       "  237110: 20.0,\n",
       "  237120: 25.0,\n",
       "  237130: 15.0,\n",
       "  237210: 15.0,\n",
       "  237310: 25.0,\n",
       "  237990: 25.0,\n",
       "  238110: 20.0,\n",
       "  238120: 25.0,\n",
       "  238130: 15.0,\n",
       "  238140: 15.0,\n",
       "  238150: 15.0,\n",
       "  238160: 20.0,\n",
       "  238190: 20.0,\n",
       "  238210: 30.0,\n",
       "  238220: 35.0,\n",
       "  238290: 20.0,\n",
       "  238320: 20.0,\n",
       "  238330: 15.0,\n",
       "  238340: 15.0,\n",
       "  238350: 20.0,\n",
       "  238390: 20.0,\n",
       "  238910: 20.0,\n",
       "  238990: 25.0,\n",
       "  311111: 30.0,\n",
       "  311119: 20.0,\n",
       "  311211: 20.0,\n",
       "  311213: 30.0,\n",
       "  311221: 25.0,\n",
       "  311222: 25.0,\n",
       "  311225: 25.0,\n",
       "  311230: 20.0,\n",
       "  311312: 25.0,\n",
       "  311313: 25.0,\n",
       "  311320: 25.0,\n",
       "  311330: 20.0,\n",
       "  311340: 20.0,\n",
       "  311411: 35.0,\n",
       "  311412: 50.0,\n",
       "  311421: 20.0,\n",
       "  311422: 20.0,\n",
       "  311423: 25.0,\n",
       "  311511: 20.0,\n",
       "  311512: 20.0,\n",
       "  311513: 20.0,\n",
       "  311514: 25.0,\n",
       "  311520: 15.0,\n",
       "  311611: 15.0,\n",
       "  311612: 20.0,\n",
       "  311613: 20.0,\n",
       "  311615: 15.0,\n",
       "  311631: 15.0,\n",
       "  311711: 20.0,\n",
       "  311712: 20.0,\n",
       "  311811: 25.0,\n",
       "  311812: 25.0,\n",
       "  311813: 20.0,\n",
       "  311822: 20.0,\n",
       "  311823: 20.0,\n",
       "  311911: 15.0,\n",
       "  311919: 20.0,\n",
       "  311920: 20.0,\n",
       "  311930: 20.0,\n",
       "  311941: 35.0,\n",
       "  311942: 20.0,\n",
       "  311991: nan,\n",
       "  311999: 20.0,\n",
       "  312111: 35.0,\n",
       "  312112: 60.0,\n",
       "  312113: 15.0,\n",
       "  312120: 20.0,\n",
       "  312130: 20.0,\n",
       "  312140: 20.0,\n",
       "  312210: 20.0,\n",
       "  312221: 25.0,\n",
       "  312229: 20.0,\n",
       "  312310: 30.0,\n",
       "  313111: 20.0,\n",
       "  313112: 20.0,\n",
       "  313210: 20.0,\n",
       "  313221: 20.0,\n",
       "  313230: 25.0,\n",
       "  313241: 20.0,\n",
       "  313320: 20.0,\n",
       "  314110: 25.0,\n",
       "  314129: 15.0,\n",
       "  314911: 20.0,\n",
       "  314991: 25.0,\n",
       "  314992: 20.0,\n",
       "  314999: 95.0,\n",
       "  315111: 15.0,\n",
       "  315119: 25.0,\n",
       "  315191: 25.0,\n",
       "  315225: 20.0,\n",
       "  315299: 20.0,\n",
       "  315991: 20.0,\n",
       "  316110: 30.0,\n",
       "  316213: 55.0,\n",
       "  321113: 25.0,\n",
       "  321114: 20.0,\n",
       "  321211: 25.0,\n",
       "  321212: 20.0,\n",
       "  321213: 20.0,\n",
       "  321214: 20.0,\n",
       "  321219: 20.0,\n",
       "  321911: 20.0,\n",
       "  321912: 20.0,\n",
       "  321918: 25.0,\n",
       "  321920: 25.0,\n",
       "  321991: 20.0,\n",
       "  321992: 20.0,\n",
       "  321999: 30.0,\n",
       "  322110: 25.0,\n",
       "  322121: 25.0,\n",
       "  322122: 25.0,\n",
       "  322130: 20.0,\n",
       "  322211: 20.0,\n",
       "  322212: 30.0,\n",
       "  322213: 25.0,\n",
       "  322214: 25.0,\n",
       "  322215: 20.0,\n",
       "  322221: 20.0,\n",
       "  322222: 25.0,\n",
       "  322223: 30.0,\n",
       "  322224: 20.0,\n",
       "  322226: 20.0,\n",
       "  322231: 20.0,\n",
       "  322232: 20.0,\n",
       "  322233: 20.0,\n",
       "  322291: 25.0,\n",
       "  322299: 20.0,\n",
       "  323110: 20.0,\n",
       "  323111: 20.0,\n",
       "  323112: 15.0,\n",
       "  323113: 20.0,\n",
       "  323114: 20.0,\n",
       "  323115: 25.0,\n",
       "  323116: 20.0,\n",
       "  323117: 20.0,\n",
       "  323118: 20.0,\n",
       "  323119: 20.0,\n",
       "  323121: 15.0,\n",
       "  323122: 20.0,\n",
       "  324110: 25.0,\n",
       "  324121: 30.0,\n",
       "  324122: 20.0,\n",
       "  324191: 20.0,\n",
       "  324199: 25.0,\n",
       "  325110: 25.0,\n",
       "  325120: 30.0,\n",
       "  325131: 25.0,\n",
       "  325132: 25.0,\n",
       "  325181: 65.0,\n",
       "  325188: 25.0,\n",
       "  325192: 20.0,\n",
       "  325193: 20.0,\n",
       "  325199: 35.0,\n",
       "  325211: 25.0,\n",
       "  325222: 20.0,\n",
       "  325311: 25.0,\n",
       "  325314: 30.0,\n",
       "  325320: 20.0,\n",
       "  325412: 20.0,\n",
       "  325510: 25.0,\n",
       "  325520: 30.0,\n",
       "  325611: 20.0,\n",
       "  325612: 25.0,\n",
       "  325613: 20.0,\n",
       "  325620: 20.0,\n",
       "  325910: 20.0,\n",
       "  325920: 25.0,\n",
       "  325991: 95.0,\n",
       "  325998: 30.0,\n",
       "  326110: 25.0,\n",
       "  326111: 20.0,\n",
       "  326112: 20.0,\n",
       "  326113: 20.0,\n",
       "  326121: 20.0,\n",
       "  326122: 25.0,\n",
       "  326130: 25.0,\n",
       "  326140: 15.0,\n",
       "  326150: 20.0,\n",
       "  326160: 25.0,\n",
       "  326191: 25.0,\n",
       "  326199: 30.0,\n",
       "  326211: 25.0,\n",
       "  326220: 35.0,\n",
       "  326291: 40.0,\n",
       "  326299: 25.0,\n",
       "  327111: 80.0,\n",
       "  327113: 20.0,\n",
       "  327121: 20.0,\n",
       "  327122: 20.0,\n",
       "  327124: 15.0,\n",
       "  327125: 30.0,\n",
       "  327211: 20.0,\n",
       "  327212: 25.0,\n",
       "  327213: 30.0,\n",
       "  327215: 20.0,\n",
       "  327310: 20.0,\n",
       "  327311: 40.0,\n",
       "  327320: 25.0,\n",
       "  327331: 20.0,\n",
       "  327332: 25.0,\n",
       "  327390: 20.0,\n",
       "  327410: 15.0,\n",
       "  327420: 20.0,\n",
       "  327910: 25.0,\n",
       "  327991: 20.0,\n",
       "  327992: 25.0,\n",
       "  327993: 20.0,\n",
       "  327999: 25.0,\n",
       "  331111: 25.0,\n",
       "  331210: 25.0,\n",
       "  331221: 25.0,\n",
       "  331312: 40.0,\n",
       "  331314: 25.0,\n",
       "  331315: 45.0,\n",
       "  331316: 30.0,\n",
       "  331319: 30.0,\n",
       "  331411: 90.0,\n",
       "  331419: 20.0,\n",
       "  331421: 30.0,\n",
       "  331423: 25.0,\n",
       "  331491: 20.0,\n",
       "  331492: 20.0,\n",
       "  331511: 35.0,\n",
       "  331512: 25.0,\n",
       "  331513: 25.0,\n",
       "  331521: 25.0,\n",
       "  331522: 20.0,\n",
       "  331524: 30.0,\n",
       "  331525: 35.0,\n",
       "  331528: 75.0,\n",
       "  332111: 30.0,\n",
       "  332112: 25.0,\n",
       "  332115: 25.0,\n",
       "  332116: 25.0,\n",
       "  332211: 25.0,\n",
       "  332212: 25.0,\n",
       "  332311: 25.0,\n",
       "  332312: 30.0,\n",
       "  332313: 25.0,\n",
       "  332321: 20.0,\n",
       "  332322: 25.0,\n",
       "  332323: 25.0,\n",
       "  332410: 20.0,\n",
       "  332420: 25.0,\n",
       "  332431: 25.0,\n",
       "  332439: 25.0,\n",
       "  332510: 25.0,\n",
       "  332611: 25.0,\n",
       "  332612: 20.0,\n",
       "  332618: 25.0,\n",
       "  332710: 25.0,\n",
       "  332721: 25.0,\n",
       "  332722: 25.0,\n",
       "  332811: 30.0,\n",
       "  332812: 35.0,\n",
       "  332813: 25.0,\n",
       "  332911: 25.0,\n",
       "  332912: 20.0,\n",
       "  332913: 30.0,\n",
       "  332919: 25.0,\n",
       "  332991: 20.0,\n",
       "  332993: 25.0,\n",
       "  332994: 20.0,\n",
       "  332995: 20.0,\n",
       "  332996: 30.0,\n",
       "  332997: 15.0,\n",
       "  332998: 20.0,\n",
       "  332999: 25.0,\n",
       "  333111: 25.0,\n",
       "  333112: 35.0,\n",
       "  333120: 25.0,\n",
       "  333131: 40.0,\n",
       "  333210: 25.0,\n",
       "  333220: 20.0,\n",
       "  333291: 15.0,\n",
       "  333292: 20.0,\n",
       "  333293: 25.0,\n",
       "  333294: 25.0,\n",
       "  333295: 20.0,\n",
       "  333298: 25.0,\n",
       "  333311: 30.0,\n",
       "  333313: 15.0,\n",
       "  333315: 20.0,\n",
       "  333319: 25.0,\n",
       "  333411: 20.0,\n",
       "  333412: 20.0,\n",
       "  333414: 20.0,\n",
       "  333415: 25.0,\n",
       "  333511: 20.0,\n",
       "  333512: 20.0,\n",
       "  333513: 25.0,\n",
       "  333514: 25.0,\n",
       "  333515: 20.0,\n",
       "  333518: 95.0,\n",
       "  333611: 15.0,\n",
       "  333612: 35.0,\n",
       "  333613: 25.0,\n",
       "  333618: 15.0,\n",
       "  333911: 25.0,\n",
       "  333912: 20.0,\n",
       "  333913: 20.0,\n",
       "  333920: 15.0,\n",
       "  333921: 20.0,\n",
       "  333922: 35.0,\n",
       "  333923: 20.0,\n",
       "  333924: 25.0,\n",
       "  333990: 25.0,\n",
       "  333991: 35.0,\n",
       "  333992: 75.0,\n",
       "  333993: 25.0,\n",
       "  333994: 20.0,\n",
       "  333995: 30.0,\n",
       "  333996: 25.0,\n",
       "  333997: 25.0,\n",
       "  333999: 20.0,\n",
       "  334112: 20.0,\n",
       "  334119: 20.0,\n",
       "  334210: 25.0,\n",
       "  334220: 25.0,\n",
       "  334310: 20.0,\n",
       "  334412: 15.0,\n",
       "  334413: 20.0,\n",
       "  334414: 30.0,\n",
       "  334417: 25.0,\n",
       "  334418: 20.0,\n",
       "  334419: 20.0,\n",
       "  334510: 25.0,\n",
       "  334511: 20.0,\n",
       "  334512: 35.0,\n",
       "  334513: 15.0,\n",
       "  334514: 25.0,\n",
       "  334515: 15.0,\n",
       "  334516: 30.0,\n",
       "  334518: 25.0,\n",
       "  334519: 50.0,\n",
       "  334612: 15.0,\n",
       "  334613: 20.0,\n",
       "  335110: 35.0,\n",
       "  335122: 25.0,\n",
       "  335129: 20.0,\n",
       "  335211: 15.0,\n",
       "  335221: 15.0,\n",
       "  335222: 30.0,\n",
       "  335224: 55.0,\n",
       "  335311: 25.0,\n",
       "  335312: 25.0,\n",
       "  335313: 20.0,\n",
       "  335314: 35.0,\n",
       "  335524: 20.0,\n",
       "  335911: 70.0,\n",
       "  335921: 25.0,\n",
       "  335929: 35.0,\n",
       "  335931: 20.0,\n",
       "  335932: 20.0,\n",
       "  335991: 25.0,\n",
       "  335999: 25.0,\n",
       "  336111: 20.0,\n",
       "  336112: 25.0,\n",
       "  336120: 20.0,\n",
       "  336211: 25.0,\n",
       "  336212: 35.0,\n",
       "  336213: 60.0,\n",
       "  336214: 40.0,\n",
       "  336311: 25.0,\n",
       "  336312: 35.0,\n",
       "  336321: 25.0,\n",
       "  336322: 30.0,\n",
       "  336330: 30.0,\n",
       "  336340: 30.0,\n",
       "  336350: 25.0,\n",
       "  336360: 60.0,\n",
       "  336370: 30.0,\n",
       "  336399: 30.0,\n",
       "  336411: 20.0,\n",
       "  336412: 20.0,\n",
       "  336413: 25.0,\n",
       "  336414: 20.0,\n",
       "  336415: 20.0,\n",
       "  336510: 20.0,\n",
       "  336611: 25.0,\n",
       "  336612: 20.0,\n",
       "  336991: 20.0,\n",
       "  336992: 25.0,\n",
       "  336999: 20.0,\n",
       "  337100: 15.0,\n",
       "  337110: 20.0,\n",
       "  337121: 25.0,\n",
       "  337122: 20.0,\n",
       "  337124: 15.0,\n",
       "  337125: 10.0,\n",
       "  337127: 30.0,\n",
       "  337129: 40.0,\n",
       "  337211: 20.0,\n",
       "  337212: 20.0,\n",
       "  337214: 20.0,\n",
       "  337215: 25.0,\n",
       "  337910: 20.0,\n",
       "  337920: 20.0,\n",
       "  339112: 25.0,\n",
       "  339113: 20.0,\n",
       "  339114: nan,\n",
       "  339911: 20.0,\n",
       "  339914: 10.0,\n",
       "  339920: 20.0,\n",
       "  339932: 20.0,\n",
       "  339943: 15.0,\n",
       "  339950: 20.0,\n",
       "  339991: 40.0,\n",
       "  339992: 30.0,\n",
       "  339993: 20.0,\n",
       "  339994: 25.0,\n",
       "  339995: 35.0,\n",
       "  339999: 20.0,\n",
       "  421110: 25.0,\n",
       "  421120: 20.0,\n",
       "  421210: 30.0,\n",
       "  421310: 20.0,\n",
       "  421320: 15.0,\n",
       "  421430: 20.0,\n",
       "  421510: 20.0,\n",
       "  421710: 20.0,\n",
       "  421720: 15.0,\n",
       "  421730: 25.0,\n",
       "  421810: 20.0,\n",
       "  421830: 20.0,\n",
       "  421860: 20.0,\n",
       "  421930: 20.0,\n",
       "  421990: 15.0,\n",
       "  422130: 20.0,\n",
       "  422210: 20.0,\n",
       "  422310: 20.0,\n",
       "  422410: 15.0,\n",
       "  422420: 20.0,\n",
       "  422430: 15.0,\n",
       "  422470: 20.0,\n",
       "  422480: 20.0,\n",
       "  422490: 20.0,\n",
       "  422610: 15.0,\n",
       "  422690: 20.0,\n",
       "  423110: 55.0,\n",
       "  423120: 30.0,\n",
       "  423130: 20.0,\n",
       "  423140: 20.0,\n",
       "  423210: 20.0,\n",
       "  423220: 20.0,\n",
       "  423310: 25.0,\n",
       "  423320: 25.0,\n",
       "  423330: 25.0,\n",
       "  423390: 20.0,\n",
       "  423430: 30.0,\n",
       "  423440: 45.0,\n",
       "  423450: 35.0,\n",
       "  423490: 20.0,\n",
       "  423510: 30.0,\n",
       "  423520: 30.0,\n",
       "  423610: 30.0,\n",
       "  423620: 95.0,\n",
       "  423690: 10.0,\n",
       "  423710: 30.0,\n",
       "  423720: 25.0,\n",
       "  423730: 35.0,\n",
       "  423810: 20.0,\n",
       "  423820: 0.0,\n",
       "  423830: 20.0,\n",
       "  423840: 25.0,\n",
       "  423850: 15.0,\n",
       "  423920: nan,\n",
       "  423930: 40.0,\n",
       "  423990: 25.0,\n",
       "  424110: 15.0,\n",
       "  424120: 20.0,\n",
       "  424130: 30.0,\n",
       "  424210: 45.0,\n",
       "  424310: 20.0,\n",
       "  424410: 20.0,\n",
       "  424420: 20.0,\n",
       "  424430: 55.0,\n",
       "  424440: 35.0,\n",
       "  424450: 20.0,\n",
       "  424460: 15.0,\n",
       "  424470: 20.0,\n",
       "  424480: 20.0,\n",
       "  424490: 25.0,\n",
       "  424510: 20.0,\n",
       "  424590: 20.0,\n",
       "  424610: 20.0,\n",
       "  424690: 10.0,\n",
       "  424720: 20.0,\n",
       "  424910: 20.0,\n",
       "  424930: 10.0,\n",
       "  424950: 15.0,\n",
       "  424990: 20.0,\n",
       "  441110: 45.0,\n",
       "  441221: 20.0,\n",
       "  441222: 20.0,\n",
       "  441229: 30.0,\n",
       "  441310: 25.0,\n",
       "  441320: 25.0,\n",
       "  442110: 20.0,\n",
       "  442210: 15.0,\n",
       "  443111: 25.0,\n",
       "  443112: 25.0,\n",
       "  443120: 15.0,\n",
       "  444110: 25.0,\n",
       "  444120: 15.0,\n",
       "  444130: 20.0,\n",
       "  444190: 20.0,\n",
       "  444210: 35.0,\n",
       "  444220: 30.0,\n",
       "  445110: 30.0,\n",
       "  445120: 25.0,\n",
       "  445220: 25.0,\n",
       "  445230: 25.0,\n",
       "  445291: 20.0,\n",
       "  445299: 10.0,\n",
       "  445310: 15.0,\n",
       "  446110: 25.0,\n",
       "  446191: 25.0,\n",
       "  446199: 25.0,\n",
       "  447190: 25.0,\n",
       "  448110: 25.0,\n",
       "  448120: 95.0,\n",
       "  448150: 20.0,\n",
       "  448190: 15.0,\n",
       "  451110: 15.0,\n",
       "  451120: 15.0,\n",
       "  451212: 60.0,\n",
       "  451220: 20.0,\n",
       "  452990: 15.0,\n",
       "  453110: 25.0,\n",
       "  453210: 25.0,\n",
       "  453220: 20.0,\n",
       "  453310: 15.0,\n",
       "  453930: 20.0,\n",
       "  453998: 20.0,\n",
       "  454110: 15.0,\n",
       "  454113: 20.0,\n",
       "  454319: 15.0,\n",
       "  454390: 20.0,\n",
       "  481111: 15.0,\n",
       "  481112: 45.0,\n",
       "  481211: 15.0,\n",
       "  481212: 15.0,\n",
       "  481219: 15.0,\n",
       "  482111: 15.0,\n",
       "  483111: 30.0,\n",
       "  483113: 20.0,\n",
       "  484110: 25.0,\n",
       "  484121: 25.0,\n",
       "  484210: 20.0,\n",
       "  484220: 30.0,\n",
       "  484230: 20.0,\n",
       "  485111: 20.0,\n",
       "  485999: 20.0,\n",
       "  486210: 5.0,\n",
       "  486990: 25.0,\n",
       "  487110: 20.0,\n",
       "  487210: 30.0,\n",
       "  488119: 20.0,\n",
       "  488190: 20.0,\n",
       "  488210: 20.0,\n",
       "  488310: 25.0,\n",
       "  488320: 25.0,\n",
       "  488330: 25.0,\n",
       "  488410: 20.0,\n",
       "  488510: 20.0,\n",
       "  488991: 20.0,\n",
       "  488999: 15.0,\n",
       "  491110: nan,\n",
       "  492110: 20.0,\n",
       "  492210: 25.0,\n",
       "  493110: 20.0,\n",
       "  493120: 20.0,\n",
       "  493130: 20.0,\n",
       "  493190: 20.0,\n",
       "  511110: 20.0,\n",
       "  511120: 15.0,\n",
       "  511130: 20.0,\n",
       "  511191: 15.0,\n",
       "  511199: 25.0,\n",
       "  511210: 25.0,\n",
       "  512110: 10.0,\n",
       "  513120: 25.0,\n",
       "  513310: 20.0,\n",
       "  514210: 20.0,\n",
       "  515112: 15.0,\n",
       "  515210: 20.0,\n",
       "  515298: 30.0,\n",
       "  517911: 95.0,\n",
       "  517919: 20.0,\n",
       "  518210: 15.0,\n",
       "  522130: 30.0,\n",
       "  523130: 15.0,\n",
       "  524114: 20.0,\n",
       "  524127: 20.0,\n",
       "  524210: 40.0,\n",
       "  525910: 20.0,\n",
       "  531120: 70.0,\n",
       "  531210: 25.0,\n",
       "  531312: 20.0,\n",
       "  531390: 25.0,\n",
       "  532120: 50.0,\n",
       "  532230: 25.0,\n",
       "  532299: 20.0,\n",
       "  532411: 95.0,\n",
       "  532412: 20.0,\n",
       "  532490: 20.0,\n",
       "  541110: 15.0,\n",
       "  541310: 5.0,\n",
       "  541320: 15.0,\n",
       "  541330: 25.0,\n",
       "  541350: 30.0,\n",
       "  541370: 40.0,\n",
       "  541380: 25.0,\n",
       "  541410: 20.0,\n",
       "  541430: 95.0,\n",
       "  541490: 20.0,\n",
       "  541511: 35.0,\n",
       "  541512: 20.0,\n",
       "  541513: 95.0,\n",
       "  541611: 35.0,\n",
       "  541612: 15.0,\n",
       "  541613: 30.0,\n",
       "  541618: 30.0,\n",
       "  541620: 10.0,\n",
       "  541690: 20.0,\n",
       "  541711: 15.0,\n",
       "  541712: 50.0,\n",
       "  541720: 20.0,\n",
       "  541840: 25.0,\n",
       "  541860: 15.0,\n",
       "  541870: 15.0,\n",
       "  541890: 15.0,\n",
       "  541910: 20.0,\n",
       "  541940: 85.0,\n",
       "  541990: 20.0,\n",
       "  551112: 20.0,\n",
       "  561110: 20.0,\n",
       "  561210: 25.0,\n",
       "  561310: 20.0,\n",
       "  561311: 15.0,\n",
       "  561320: 15.0,\n",
       "  561410: 0.0,\n",
       "  561439: 30.0,\n",
       "  561450: 45.0,\n",
       "  561499: 40.0,\n",
       "  561520: 20.0,\n",
       "  561599: 20.0,\n",
       "  561611: 25.0,\n",
       "  561612: 30.0,\n",
       "  561613: 15.0,\n",
       "  561710: 10.0,\n",
       "  561720: 45.0,\n",
       "  561730: 20.0,\n",
       "  561740: 15.0,\n",
       "  561790: 20.0,\n",
       "  561910: 20.0,\n",
       "  561990: 35.0,\n",
       "  562111: 20.0,\n",
       "  562119: 35.0,\n",
       "  562211: 30.0,\n",
       "  562212: 25.0,\n",
       "  562213: 25.0,\n",
       "  562219: 30.0,\n",
       "  562920: 25.0,\n",
       "  611110: 25.0,\n",
       "  611210: 30.0,\n",
       "  611310: 25.0,\n",
       "  611620: 20.0,\n",
       "  611699: 20.0,\n",
       "  611710: 25.0,\n",
       "  621111: 20.0,\n",
       "  621310: 20.0,\n",
       "  621399: 25.0,\n",
       "  621491: 15.0,\n",
       "  621498: 5.0,\n",
       "  621511: 25.0,\n",
       "  621610: 20.0,\n",
       "  621910: 20.0,\n",
       "  621991: 30.0,\n",
       "  621999: 60.0,\n",
       "  622110: 30.0,\n",
       "  622310: 20.0,\n",
       "  623110: nan,\n",
       "  624190: 20.0,\n",
       "  624230: 20.0,\n",
       "  624310: 25.0,\n",
       "  624410: 20.0,\n",
       "  711130: 20.0,\n",
       "  711190: 20.0,\n",
       "  711212: 20.0,\n",
       "  711320: 15.0,\n",
       "  711410: 10.0,\n",
       "  711510: 15.0,\n",
       "  712110: 15.0,\n",
       "  712190: 25.0,\n",
       "  713110: 95.0,\n",
       "  713910: 25.0,\n",
       "  713920: 15.0,\n",
       "  713930: 20.0,\n",
       "  713940: 25.0,\n",
       "  713990: 20.0,\n",
       "  721110: 15.0,\n",
       "  721211: 15.0,\n",
       "  722110: 20.0,\n",
       "  722211: 25.0,\n",
       "  722213: 20.0,\n",
       "  722320: 25.0,\n",
       "  722410: 10.0,\n",
       "  811111: 50.0,\n",
       "  811112: 25.0,\n",
       "  811113: 15.0,\n",
       "  811118: 50.0,\n",
       "  811121: 25.0,\n",
       "  811192: 10.0,\n",
       "  811198: 20.0,\n",
       "  811219: 20.0,\n",
       "  811310: 20.0,\n",
       "  811412: 50.0,\n",
       "  811420: 20.0,\n",
       "  811490: 20.0,\n",
       "  812112: 15.0,\n",
       "  812210: 30.0,\n",
       "  812310: 20.0,\n",
       "  812320: 20.0,\n",
       "  812331: 20.0,\n",
       "  812332: 75.0,\n",
       "  812910: 15.0,\n",
       "  812921: 10.0,\n",
       "  812930: 65.0,\n",
       "  813110: 20.0,\n",
       "  813410: 20.0,\n",
       "  813930: 30.0,\n",
       "  813990: 95.0,\n",
       "  921110: 25.0,\n",
       "  921120: 40.0,\n",
       "  921140: 30.0,\n",
       "  921190: 25.0,\n",
       "  922110: 15.0,\n",
       "  922120: 25.0,\n",
       "  922140: 25.0,\n",
       "  922160: 15.0,\n",
       "  922190: 20.0,\n",
       "  923110: 25.0,\n",
       "  923120: 45.0,\n",
       "  923130: 25.0,\n",
       "  924110: 30.0,\n",
       "  924120: 20.0,\n",
       "  925120: 35.0,\n",
       "  926110: 15.0,\n",
       "  926120: 25.0,\n",
       "  926140: 25.0,\n",
       "  926150: 25.0,\n",
       "  928110: 15.0},\n",
       " 'age_group': {1.0: 15.0, 2.0: 15.0, 3.0: 20.0, 4.0: 35.0, 5.0: 45.0},\n",
       " 'region': {'MA': 20.0,\n",
       "  'MW': 30.0,\n",
       "  'NE': 25.0,\n",
       "  'SO': 20.0,\n",
       "  'SW': 20.0,\n",
       "  'WE': 20.0},\n",
       " 'side': {'L': 25.0, 'R': 25.0}}"
      ]
     },
     "execution_count": 285,
     "metadata": {},
     "output_type": "execute_result"
    }
   ],
   "source": [
    "df_means_8k"
   ]
  },
  {
   "cell_type": "code",
   "execution_count": 341,
   "id": "c3ac041d",
   "metadata": {
    "ExecuteTime": {
     "end_time": "2022-07-31T19:06:37.221124Z",
     "start_time": "2022-07-31T19:06:37.217008Z"
    }
   },
   "outputs": [],
   "source": [
    "cols = ['500k', '1k', '2k', '3k', '4k', '6k']"
   ]
  },
  {
   "cell_type": "code",
   "execution_count": 342,
   "id": "08b0f32a",
   "metadata": {
    "ExecuteTime": {
     "end_time": "2022-07-31T19:09:29.441526Z",
     "start_time": "2022-07-31T19:06:56.166341Z"
    },
    "scrolled": true
   },
   "outputs": [
    {
     "name": "stderr",
     "output_type": "stream",
     "text": [
      "5639396it [02:33, 36794.52it/s] \n"
     ]
    }
   ],
   "source": [
    "df_total_means = {}\n",
    "for line, value in tqdm(enumerate(df_audio['8k'].values)):\n",
    "    if value%5!=0:\n",
    "        total=0\n",
    "        count=0\n",
    "        ds = df_audio.loc[line]\n",
    "        for c in cols:\n",
    "            _d = df_means_8k[c]\n",
    "            _mean = _d[ds[c]]\n",
    "            if value%5!=0:\n",
    "                total += _d[ds[c]]\n",
    "                count += 1\n",
    "        \n",
    "        df_total_means[line]=get_closer_5_multi(total/count)"
   ]
  },
  {
   "cell_type": "code",
   "execution_count": 343,
   "id": "4e28a388",
   "metadata": {
    "ExecuteTime": {
     "end_time": "2022-07-31T19:09:49.132858Z",
     "start_time": "2022-07-31T19:09:49.060263Z"
    }
   },
   "outputs": [
    {
     "data": {
      "text/plain": [
       "True"
      ]
     },
     "execution_count": 343,
     "metadata": {},
     "output_type": "execute_result"
    }
   ],
   "source": [
    "len(df_total_means) == df_audio[df_audio['8k'].isna()].shape[0]"
   ]
  },
  {
   "cell_type": "code",
   "execution_count": 344,
   "id": "0c513c5c",
   "metadata": {
    "ExecuteTime": {
     "end_time": "2022-07-31T19:09:57.981203Z",
     "start_time": "2022-07-31T19:09:51.848611Z"
    },
    "scrolled": false
   },
   "outputs": [
    {
     "name": "stderr",
     "output_type": "stream",
     "text": [
      "100%|████████████████████████████████████████████████████████████████████████████████████████████████████████████████████████████████████████████████████████████████████████████████████████████████████████████████████████████████████████| 1448101/1448101 [00:06<00:00, 236335.91it/s]\n"
     ]
    }
   ],
   "source": [
    "for line, value in tqdm(df_total_means.items()):\n",
    "    df_audio.at[line, '8k'] = value"
   ]
  },
  {
   "cell_type": "code",
   "execution_count": 355,
   "id": "0fd1ca82",
   "metadata": {
    "ExecuteTime": {
     "end_time": "2022-07-31T19:14:04.579627Z",
     "start_time": "2022-07-31T19:14:04.185383Z"
    }
   },
   "outputs": [
    {
     "name": "stdout",
     "output_type": "stream",
     "text": [
      "Column: 500k / NaN Count:0\n",
      "Column: 1k / NaN Count:0\n",
      "Column: 2k / NaN Count:0\n",
      "Column: 3k / NaN Count:0\n",
      "Column: 4k / NaN Count:0\n",
      "Column: 6k / NaN Count:0\n",
      "Column: 8k / NaN Count:0\n",
      "Column: gender / NaN Count:0\n",
      "Column: naics / NaN Count:0\n",
      "Column: age_group / NaN Count:0\n",
      "Column: region / NaN Count:0\n",
      "Column: side / NaN Count:0\n"
     ]
    }
   ],
   "source": [
    "# New NaN values\n",
    "for column in df_audio.columns:\n",
    "    print(f'Column: {column} / NaN Count:{df_audio[df_audio[column].isna()].shape[0]}')"
   ]
  },
  {
   "cell_type": "code",
   "execution_count": 371,
   "id": "605208a1",
   "metadata": {
    "ExecuteTime": {
     "end_time": "2022-07-31T19:30:50.192313Z",
     "start_time": "2022-07-31T19:30:40.426901Z"
    }
   },
   "outputs": [],
   "source": [
    "# 3 Checkpoint\n",
    "df_audio.to_csv(d_path / 'df_audio_check_3.csv', index=False)"
   ]
  },
  {
   "cell_type": "code",
   "execution_count": 437,
   "id": "9a5ee63d",
   "metadata": {
    "ExecuteTime": {
     "end_time": "2022-07-31T20:08:13.248599Z",
     "start_time": "2022-07-31T20:08:11.380958Z"
    }
   },
   "outputs": [],
   "source": [
    "# 3 Checkpoint\n",
    "df_audio = pd.read_csv(d_path / 'df_audio_check_3.csv')"
   ]
  },
  {
   "cell_type": "markdown",
   "id": "1aeae7f0",
   "metadata": {},
   "source": [
    "#### Finish Formating and Visualize Dataset"
   ]
  },
  {
   "cell_type": "code",
   "execution_count": 438,
   "id": "46554a9c",
   "metadata": {
    "ExecuteTime": {
     "end_time": "2022-07-31T20:08:14.208040Z",
     "start_time": "2022-07-31T20:08:14.205132Z"
    }
   },
   "outputs": [],
   "source": [
    "# Transform Float into Int\n",
    "cols = df_audio.columns[0:7]"
   ]
  },
  {
   "cell_type": "code",
   "execution_count": 439,
   "id": "1df528a9",
   "metadata": {
    "ExecuteTime": {
     "end_time": "2022-07-31T20:08:15.639756Z",
     "start_time": "2022-07-31T20:08:15.458256Z"
    }
   },
   "outputs": [],
   "source": [
    "# Frequencies -128/127 int8\n",
    "for c in cols:\n",
    "    df_audio[c] = df_audio[c].astype('int8')"
   ]
  },
  {
   "cell_type": "code",
   "execution_count": 372,
   "id": "8a06104e",
   "metadata": {
    "ExecuteTime": {
     "end_time": "2022-07-31T19:30:58.378677Z",
     "start_time": "2022-07-31T19:30:53.581953Z"
    }
   },
   "outputs": [
    {
     "name": "stdout",
     "output_type": "stream",
     "text": [
      "    max_rows_analyzed is smaller than dataset shape 5639396...\n",
      "        randomly sampled 150000 rows from read CSV file\n",
      "Shape of your Data Set loaded: (150000, 12)\n",
      "#######################################################################################\n",
      "######################## C L A S S I F Y I N G  V A R I A B L E S  ####################\n",
      "#######################################################################################\n",
      "Classifying variables in data set...\n",
      "    12 Predictors classified...\n",
      "        No variables removed since no ID or low-information variables found in data set\n",
      "Since Number of Rows in data 150000 exceeds maximum, randomly sampling 150000 rows for EDA...\n"
     ]
    },
    {
     "data": {
      "image/png": "[encoded data removed]",
      "text/plain": [
       "<Figure size 1080x360 with 3 Axes>"
      ]
     },
     "metadata": {
      "needs_background": "light"
     },
     "output_type": "display_data"
    },
    {
     "data": {
      "image/png": "[encoded data removed]",
      "text/plain": [
       "<Figure size 1080x2160 with 1 Axes>"
      ]
     },
     "metadata": {
      "needs_background": "light"
     },
     "output_type": "display_data"
    },
    {
     "data": {
      "image/png": "[encoded data removed]",
      "text/plain": [
       "<Figure size 1080x288 with 1 Axes>"
      ]
     },
     "metadata": {
      "needs_background": "light"
     },
     "output_type": "display_data"
    },
    {
     "data": {
      "image/png": "[encoded data removed]",
      "text/plain": [
       "<Figure size 1440x1296 with 2 Axes>"
      ]
     },
     "metadata": {
      "needs_background": "light"
     },
     "output_type": "display_data"
    },
    {
     "data": {
      "image/png": "[encoded data removed]",
      "text/plain": [
       "<Figure size 1440x2160 with 11 Axes>"
      ]
     },
     "metadata": {
      "needs_background": "light"
     },
     "output_type": "display_data"
    },
    {
     "name": "stdout",
     "output_type": "stream",
     "text": [
      "Time to run AutoViz = 5 seconds \n",
      "\n",
      " ###################### AUTO VISUALIZATION Completed ########################\n"
     ]
    }
   ],
   "source": [
    "_ = AV.AutoViz(str(d_path / 'df_audio_check_3.csv'))"
   ]
  },
  {
   "cell_type": "markdown",
   "id": "a2464d0c",
   "metadata": {},
   "source": [
    "#### Data explanation\n",
    "Gender:  \n",
    "M -> 0  \n",
    "F -> 1\n",
    "\n",
    "Region:  \n",
    "MA -> 0  \n",
    "SO -> 1  \n",
    "NE -> 2  \n",
    "MW -> 3  \n",
    "WE -> 4  \n",
    "SW -> 5  \n",
    "\n",
    "Side:  \n",
    "L -> 0  \n",
    "R -> 1  "
   ]
  },
  {
   "cell_type": "code",
   "execution_count": 441,
   "id": "98e5deeb",
   "metadata": {
    "ExecuteTime": {
     "end_time": "2022-07-31T20:08:35.534006Z",
     "start_time": "2022-07-31T20:08:35.523885Z"
    }
   },
   "outputs": [],
   "source": [
    "df_audio['age_group'] = df_audio['age_group'].astype('int8')"
   ]
  },
  {
   "cell_type": "code",
   "execution_count": 442,
   "id": "196b8050",
   "metadata": {
    "ExecuteTime": {
     "end_time": "2022-07-31T20:08:39.126071Z",
     "start_time": "2022-07-31T20:08:38.073771Z"
    }
   },
   "outputs": [],
   "source": [
    "df_audio['gender'] = df_audio['gender'].apply(lambda x: 0 if x=='M' else 1).astype('int8').astype('category')"
   ]
  },
  {
   "cell_type": "code",
   "execution_count": 411,
   "id": "8b050c4c",
   "metadata": {
    "ExecuteTime": {
     "end_time": "2022-07-31T19:55:11.457444Z",
     "start_time": "2022-07-31T19:55:11.377680Z"
    }
   },
   "outputs": [],
   "source": [
    "df_audio['naics'] = df_audio['naics'].astype('category')"
   ]
  },
  {
   "cell_type": "code",
   "execution_count": 444,
   "id": "9421b384",
   "metadata": {
    "ExecuteTime": {
     "end_time": "2022-07-31T20:09:26.546673Z",
     "start_time": "2022-07-31T20:09:25.084918Z"
    }
   },
   "outputs": [],
   "source": [
    "region_d = {}\n",
    "for i, region in enumerate(df_audio['region'].unique()):\n",
    "    region_d[region] = i\n",
    "\n",
    "df_audio['region'].replace(region_d, inplace=True)"
   ]
  },
  {
   "cell_type": "code",
   "execution_count": 445,
   "id": "fa151582",
   "metadata": {
    "ExecuteTime": {
     "end_time": "2022-07-31T20:09:31.329171Z",
     "start_time": "2022-07-31T20:09:31.292356Z"
    }
   },
   "outputs": [],
   "source": [
    "df_audio['region'] = df_audio['region'].astype('category')"
   ]
  },
  {
   "cell_type": "code",
   "execution_count": 446,
   "id": "4aa459f4",
   "metadata": {
    "ExecuteTime": {
     "end_time": "2022-07-31T20:09:36.712660Z",
     "start_time": "2022-07-31T20:09:35.760400Z"
    }
   },
   "outputs": [],
   "source": [
    "df_audio['side'] = df_audio['side'].apply(lambda x: 0 if x==\"L\" else 1).astype('int8').astype('category')"
   ]
  },
  {
   "cell_type": "code",
   "execution_count": 469,
   "id": "dcd80e6e",
   "metadata": {
    "ExecuteTime": {
     "end_time": "2022-07-31T20:56:28.193105Z",
     "start_time": "2022-07-31T20:56:28.182609Z"
    }
   },
   "outputs": [
    {
     "name": "stdout",
     "output_type": "stream",
     "text": [
      "<class 'pandas.core.frame.DataFrame'>\n",
      "RangeIndex: 5639396 entries, 0 to 5639395\n",
      "Data columns (total 12 columns):\n",
      " #   Column     Dtype   \n",
      "---  ------     -----   \n",
      " 0   500k       int8    \n",
      " 1   1k         int8    \n",
      " 2   2k         int8    \n",
      " 3   3k         int8    \n",
      " 4   4k         int8    \n",
      " 5   6k         int8    \n",
      " 6   8k         int8    \n",
      " 7   gender     category\n",
      " 8   naics      category\n",
      " 9   age_group  int8    \n",
      " 10  region     category\n",
      " 11  side       category\n",
      "dtypes: category(4), int8(8)\n",
      "memory usage: 70.0 MB\n"
     ]
    }
   ],
   "source": [
    "df_audio.info()"
   ]
  },
  {
   "cell_type": "code",
   "execution_count": 470,
   "id": "3fe89840",
   "metadata": {
    "ExecuteTime": {
     "end_time": "2022-07-31T20:56:38.182742Z",
     "start_time": "2022-07-31T20:56:30.200581Z"
    }
   },
   "outputs": [],
   "source": [
    "# Final Checkpoint\n",
    "df_audio.to_csv(d_path / 'df_audio_v1.csv', index=False)"
   ]
  },
  {
   "cell_type": "markdown",
   "id": "d9eeb0b4",
   "metadata": {},
   "source": [
    " "
   ]
  },
  {
   "cell_type": "markdown",
   "id": "07fcd681",
   "metadata": {},
   "source": [
    "# Visualization & Feature Engineering"
   ]
  },
  {
   "cell_type": "code",
   "execution_count": 450,
   "id": "cf1f6183",
   "metadata": {
    "ExecuteTime": {
     "end_time": "2022-07-31T20:10:43.974302Z",
     "start_time": "2022-07-31T20:10:43.107898Z"
    }
   },
   "outputs": [
    {
     "data": {
      "text/plain": [
       "<AxesSubplot:>"
      ]
     },
     "execution_count": 450,
     "metadata": {},
     "output_type": "execute_result"
    },
    {
     "data": {
      "image/png": "[encoded data removed]",
      "text/plain": [
       "<Figure size 432x288 with 2 Axes>"
      ]
     },
     "metadata": {
      "needs_background": "light"
     },
     "output_type": "display_data"
    }
   ],
   "source": [
    "Var_Corr = df_audio.corr()\n",
    "sns.heatmap(Var_Corr, xticklabels=Var_Corr.columns, yticklabels=Var_Corr.columns, annot=True)"
   ]
  },
  {
   "cell_type": "code",
   "execution_count": 464,
   "id": "209e607b",
   "metadata": {
    "ExecuteTime": {
     "end_time": "2022-07-31T20:38:49.259988Z",
     "start_time": "2022-07-31T20:38:49.256092Z"
    }
   },
   "outputs": [],
   "source": [
    "freq_cols = df_audio.columns[0:7]"
   ]
  },
  {
   "cell_type": "code",
   "execution_count": 481,
   "id": "76c67329",
   "metadata": {
    "ExecuteTime": {
     "end_time": "2022-07-31T21:23:27.392847Z",
     "start_time": "2022-07-31T21:23:27.390653Z"
    }
   },
   "outputs": [],
   "source": [
    "freq_input_cols = ['2k','4k','6k']"
   ]
  },
  {
   "cell_type": "code",
   "execution_count": 487,
   "id": "c75a70d2",
   "metadata": {
    "ExecuteTime": {
     "end_time": "2022-07-31T21:28:19.975095Z",
     "start_time": "2022-07-31T21:28:19.971068Z"
    }
   },
   "outputs": [
    {
     "data": {
      "text/plain": [
       "['gender', 'naics', 'region', 'side']"
      ]
     },
     "execution_count": 487,
     "metadata": {},
     "output_type": "execute_result"
    }
   ],
   "source": [
    "cat_cols = list(df_audio.select_dtypes('category').columns)\n",
    "cat_cols"
   ]
  },
  {
   "cell_type": "code",
   "execution_count": 476,
   "id": "f33e3f59",
   "metadata": {
    "ExecuteTime": {
     "end_time": "2022-07-31T21:04:55.411346Z",
     "start_time": "2022-07-31T21:04:55.238932Z"
    }
   },
   "outputs": [
    {
     "data": {
      "text/html": [
       "<div>\n",
       "<style scoped>\n",
       "    .dataframe tbody tr th:only-of-type {\n",
       "        vertical-align: middle;\n",
       "    }\n",
       "\n",
       "    .dataframe tbody tr th {\n",
       "        vertical-align: top;\n",
       "    }\n",
       "\n",
       "    .dataframe thead th {\n",
       "        text-align: right;\n",
       "    }\n",
       "</style>\n",
       "<table border=\"1\" class=\"dataframe\">\n",
       "  <thead>\n",
       "    <tr style=\"text-align: right;\">\n",
       "      <th></th>\n",
       "      <th>500k</th>\n",
       "      <th>1k</th>\n",
       "      <th>2k</th>\n",
       "      <th>3k</th>\n",
       "      <th>4k</th>\n",
       "      <th>6k</th>\n",
       "      <th>8k</th>\n",
       "    </tr>\n",
       "    <tr>\n",
       "      <th>region</th>\n",
       "      <th></th>\n",
       "      <th></th>\n",
       "      <th></th>\n",
       "      <th></th>\n",
       "      <th></th>\n",
       "      <th></th>\n",
       "      <th></th>\n",
       "    </tr>\n",
       "  </thead>\n",
       "  <tbody>\n",
       "    <tr>\n",
       "      <th>0</th>\n",
       "      <td>10.318757</td>\n",
       "      <td>8.938471</td>\n",
       "      <td>10.712907</td>\n",
       "      <td>15.355074</td>\n",
       "      <td>19.688019</td>\n",
       "      <td>22.227270</td>\n",
       "      <td>21.025871</td>\n",
       "    </tr>\n",
       "    <tr>\n",
       "      <th>1</th>\n",
       "      <td>9.500541</td>\n",
       "      <td>8.434320</td>\n",
       "      <td>10.208490</td>\n",
       "      <td>14.466415</td>\n",
       "      <td>18.016736</td>\n",
       "      <td>21.140562</td>\n",
       "      <td>20.383108</td>\n",
       "    </tr>\n",
       "    <tr>\n",
       "      <th>2</th>\n",
       "      <td>9.573324</td>\n",
       "      <td>8.189524</td>\n",
       "      <td>10.004561</td>\n",
       "      <td>14.201384</td>\n",
       "      <td>18.522123</td>\n",
       "      <td>22.010605</td>\n",
       "      <td>25.634218</td>\n",
       "    </tr>\n",
       "    <tr>\n",
       "      <th>3</th>\n",
       "      <td>8.993798</td>\n",
       "      <td>8.058787</td>\n",
       "      <td>10.214224</td>\n",
       "      <td>16.134452</td>\n",
       "      <td>20.792799</td>\n",
       "      <td>23.314094</td>\n",
       "      <td>27.141873</td>\n",
       "    </tr>\n",
       "    <tr>\n",
       "      <th>4</th>\n",
       "      <td>8.637208</td>\n",
       "      <td>7.892911</td>\n",
       "      <td>9.907307</td>\n",
       "      <td>14.517318</td>\n",
       "      <td>19.432054</td>\n",
       "      <td>22.550399</td>\n",
       "      <td>20.533356</td>\n",
       "    </tr>\n",
       "    <tr>\n",
       "      <th>5</th>\n",
       "      <td>9.120077</td>\n",
       "      <td>7.735212</td>\n",
       "      <td>9.148584</td>\n",
       "      <td>13.234786</td>\n",
       "      <td>17.744657</td>\n",
       "      <td>21.048953</td>\n",
       "      <td>20.910363</td>\n",
       "    </tr>\n",
       "  </tbody>\n",
       "</table>\n",
       "</div>"
      ],
      "text/plain": [
       "             500k        1k         2k         3k         4k         6k  \\\n",
       "region                                                                    \n",
       "0       10.318757  8.938471  10.712907  15.355074  19.688019  22.227270   \n",
       "1        9.500541  8.434320  10.208490  14.466415  18.016736  21.140562   \n",
       "2        9.573324  8.189524  10.004561  14.201384  18.522123  22.010605   \n",
       "3        8.993798  8.058787  10.214224  16.134452  20.792799  23.314094   \n",
       "4        8.637208  7.892911   9.907307  14.517318  19.432054  22.550399   \n",
       "5        9.120077  7.735212   9.148584  13.234786  17.744657  21.048953   \n",
       "\n",
       "               8k  \n",
       "region             \n",
       "0       21.025871  \n",
       "1       20.383108  \n",
       "2       25.634218  \n",
       "3       27.141873  \n",
       "4       20.533356  \n",
       "5       20.910363  "
      ]
     },
     "execution_count": 476,
     "metadata": {},
     "output_type": "execute_result"
    }
   ],
   "source": [
    "df_audio.groupby('region')[freq_cols].mean()"
   ]
  },
  {
   "cell_type": "code",
   "execution_count": 479,
   "id": "464d4057",
   "metadata": {
    "ExecuteTime": {
     "end_time": "2022-07-31T21:16:19.227451Z",
     "start_time": "2022-07-31T21:16:19.047340Z"
    }
   },
   "outputs": [
    {
     "data": {
      "text/html": [
       "<div>\n",
       "<style scoped>\n",
       "    .dataframe tbody tr th:only-of-type {\n",
       "        vertical-align: middle;\n",
       "    }\n",
       "\n",
       "    .dataframe tbody tr th {\n",
       "        vertical-align: top;\n",
       "    }\n",
       "\n",
       "    .dataframe thead th {\n",
       "        text-align: right;\n",
       "    }\n",
       "</style>\n",
       "<table border=\"1\" class=\"dataframe\">\n",
       "  <thead>\n",
       "    <tr style=\"text-align: right;\">\n",
       "      <th></th>\n",
       "      <th>500k</th>\n",
       "      <th>1k</th>\n",
       "      <th>2k</th>\n",
       "      <th>3k</th>\n",
       "      <th>4k</th>\n",
       "      <th>6k</th>\n",
       "      <th>8k</th>\n",
       "    </tr>\n",
       "    <tr>\n",
       "      <th>side</th>\n",
       "      <th></th>\n",
       "      <th></th>\n",
       "      <th></th>\n",
       "      <th></th>\n",
       "      <th></th>\n",
       "      <th></th>\n",
       "      <th></th>\n",
       "    </tr>\n",
       "  </thead>\n",
       "  <tbody>\n",
       "    <tr>\n",
       "      <th>0</th>\n",
       "      <td>9.288754</td>\n",
       "      <td>8.280203</td>\n",
       "      <td>10.732522</td>\n",
       "      <td>16.261421</td>\n",
       "      <td>20.691607</td>\n",
       "      <td>23.326805</td>\n",
       "      <td>23.881538</td>\n",
       "    </tr>\n",
       "    <tr>\n",
       "      <th>1</th>\n",
       "      <td>9.228636</td>\n",
       "      <td>8.209960</td>\n",
       "      <td>9.706758</td>\n",
       "      <td>14.385288</td>\n",
       "      <td>18.793496</td>\n",
       "      <td>21.696288</td>\n",
       "      <td>23.125249</td>\n",
       "    </tr>\n",
       "  </tbody>\n",
       "</table>\n",
       "</div>"
      ],
      "text/plain": [
       "          500k        1k         2k         3k         4k         6k  \\\n",
       "side                                                                   \n",
       "0     9.288754  8.280203  10.732522  16.261421  20.691607  23.326805   \n",
       "1     9.228636  8.209960   9.706758  14.385288  18.793496  21.696288   \n",
       "\n",
       "             8k  \n",
       "side             \n",
       "0     23.881538  \n",
       "1     23.125249  "
      ]
     },
     "execution_count": 479,
     "metadata": {},
     "output_type": "execute_result"
    }
   ],
   "source": [
    "df_audio.groupby('side')[freq_cols].mean().head(60)"
   ]
  },
  {
   "cell_type": "code",
   "execution_count": 480,
   "id": "20853513",
   "metadata": {
    "ExecuteTime": {
     "end_time": "2022-07-31T21:16:47.689834Z",
     "start_time": "2022-07-31T21:16:47.531556Z"
    },
    "scrolled": true
   },
   "outputs": [
    {
     "data": {
      "text/html": [
       "<div>\n",
       "<style scoped>\n",
       "    .dataframe tbody tr th:only-of-type {\n",
       "        vertical-align: middle;\n",
       "    }\n",
       "\n",
       "    .dataframe tbody tr th {\n",
       "        vertical-align: top;\n",
       "    }\n",
       "\n",
       "    .dataframe thead th {\n",
       "        text-align: right;\n",
       "    }\n",
       "</style>\n",
       "<table border=\"1\" class=\"dataframe\">\n",
       "  <thead>\n",
       "    <tr style=\"text-align: right;\">\n",
       "      <th></th>\n",
       "      <th>500k</th>\n",
       "      <th>1k</th>\n",
       "      <th>2k</th>\n",
       "      <th>3k</th>\n",
       "      <th>4k</th>\n",
       "      <th>6k</th>\n",
       "      <th>8k</th>\n",
       "    </tr>\n",
       "    <tr>\n",
       "      <th>gender</th>\n",
       "      <th></th>\n",
       "      <th></th>\n",
       "      <th></th>\n",
       "      <th></th>\n",
       "      <th></th>\n",
       "      <th></th>\n",
       "      <th></th>\n",
       "    </tr>\n",
       "  </thead>\n",
       "  <tbody>\n",
       "    <tr>\n",
       "      <th>0</th>\n",
       "      <td>9.178182</td>\n",
       "      <td>8.338979</td>\n",
       "      <td>10.554443</td>\n",
       "      <td>16.87320</td>\n",
       "      <td>21.892072</td>\n",
       "      <td>23.828181</td>\n",
       "      <td>24.349969</td>\n",
       "    </tr>\n",
       "    <tr>\n",
       "      <th>1</th>\n",
       "      <td>9.536251</td>\n",
       "      <td>7.921378</td>\n",
       "      <td>9.065389</td>\n",
       "      <td>9.98034</td>\n",
       "      <td>12.332221</td>\n",
       "      <td>17.972512</td>\n",
       "      <td>20.584878</td>\n",
       "    </tr>\n",
       "  </tbody>\n",
       "</table>\n",
       "</div>"
      ],
      "text/plain": [
       "            500k        1k         2k        3k         4k         6k  \\\n",
       "gender                                                                  \n",
       "0       9.178182  8.338979  10.554443  16.87320  21.892072  23.828181   \n",
       "1       9.536251  7.921378   9.065389   9.98034  12.332221  17.972512   \n",
       "\n",
       "               8k  \n",
       "gender             \n",
       "0       24.349969  \n",
       "1       20.584878  "
      ]
     },
     "execution_count": 480,
     "metadata": {},
     "output_type": "execute_result"
    }
   ],
   "source": [
    "df_audio.groupby('gender')[freq_cols].mean().head(60)"
   ]
  },
  {
   "cell_type": "code",
   "execution_count": 558,
   "id": "c8e23831",
   "metadata": {
    "ExecuteTime": {
     "end_time": "2022-07-31T22:16:48.910197Z",
     "start_time": "2022-07-31T22:16:48.896428Z"
    }
   },
   "outputs": [
    {
     "data": {
      "text/html": [
       "<div>\n",
       "<style scoped>\n",
       "    .dataframe tbody tr th:only-of-type {\n",
       "        vertical-align: middle;\n",
       "    }\n",
       "\n",
       "    .dataframe tbody tr th {\n",
       "        vertical-align: top;\n",
       "    }\n",
       "\n",
       "    .dataframe thead th {\n",
       "        text-align: right;\n",
       "    }\n",
       "</style>\n",
       "<table border=\"1\" class=\"dataframe\">\n",
       "  <thead>\n",
       "    <tr style=\"text-align: right;\">\n",
       "      <th></th>\n",
       "      <th>500k</th>\n",
       "      <th>1k</th>\n",
       "      <th>2k</th>\n",
       "      <th>3k</th>\n",
       "      <th>4k</th>\n",
       "      <th>6k</th>\n",
       "      <th>8k</th>\n",
       "      <th>age_group</th>\n",
       "      <th>1pred</th>\n",
       "      <th>2pred</th>\n",
       "      <th>3pred</th>\n",
       "    </tr>\n",
       "  </thead>\n",
       "  <tbody>\n",
       "    <tr>\n",
       "      <th>500k</th>\n",
       "      <td>1.000000</td>\n",
       "      <td>0.727553</td>\n",
       "      <td>0.526395</td>\n",
       "      <td>0.360222</td>\n",
       "      <td>0.312328</td>\n",
       "      <td>0.322484</td>\n",
       "      <td>0.242599</td>\n",
       "      <td>0.168116</td>\n",
       "      <td>0.332330</td>\n",
       "      <td>0.337909</td>\n",
       "      <td>0.322024</td>\n",
       "    </tr>\n",
       "    <tr>\n",
       "      <th>1k</th>\n",
       "      <td>0.727553</td>\n",
       "      <td>1.000000</td>\n",
       "      <td>0.688072</td>\n",
       "      <td>0.471983</td>\n",
       "      <td>0.412095</td>\n",
       "      <td>0.401087</td>\n",
       "      <td>0.302514</td>\n",
       "      <td>0.243416</td>\n",
       "      <td>0.436167</td>\n",
       "      <td>0.443331</td>\n",
       "      <td>0.419861</td>\n",
       "    </tr>\n",
       "    <tr>\n",
       "      <th>2k</th>\n",
       "      <td>0.526395</td>\n",
       "      <td>0.688072</td>\n",
       "      <td>1.000000</td>\n",
       "      <td>0.685414</td>\n",
       "      <td>0.573072</td>\n",
       "      <td>0.532571</td>\n",
       "      <td>0.387856</td>\n",
       "      <td>0.329704</td>\n",
       "      <td>0.608837</td>\n",
       "      <td>0.624152</td>\n",
       "      <td>0.584769</td>\n",
       "    </tr>\n",
       "    <tr>\n",
       "      <th>3k</th>\n",
       "      <td>0.360222</td>\n",
       "      <td>0.471983</td>\n",
       "      <td>0.685414</td>\n",
       "      <td>1.000000</td>\n",
       "      <td>0.833295</td>\n",
       "      <td>0.700169</td>\n",
       "      <td>0.466620</td>\n",
       "      <td>0.431346</td>\n",
       "      <td>0.662556</td>\n",
       "      <td>0.730045</td>\n",
       "      <td>0.686141</td>\n",
       "    </tr>\n",
       "    <tr>\n",
       "      <th>4k</th>\n",
       "      <td>0.312328</td>\n",
       "      <td>0.412095</td>\n",
       "      <td>0.573072</td>\n",
       "      <td>0.833295</td>\n",
       "      <td>1.000000</td>\n",
       "      <td>0.767209</td>\n",
       "      <td>0.491247</td>\n",
       "      <td>0.477424</td>\n",
       "      <td>0.704426</td>\n",
       "      <td>0.730200</td>\n",
       "      <td>0.690375</td>\n",
       "    </tr>\n",
       "    <tr>\n",
       "      <th>6k</th>\n",
       "      <td>0.322484</td>\n",
       "      <td>0.401087</td>\n",
       "      <td>0.532571</td>\n",
       "      <td>0.700169</td>\n",
       "      <td>0.767209</td>\n",
       "      <td>1.000000</td>\n",
       "      <td>0.559946</td>\n",
       "      <td>0.458673</td>\n",
       "      <td>0.689613</td>\n",
       "      <td>0.691724</td>\n",
       "      <td>0.669761</td>\n",
       "    </tr>\n",
       "    <tr>\n",
       "      <th>8k</th>\n",
       "      <td>0.242599</td>\n",
       "      <td>0.302514</td>\n",
       "      <td>0.387856</td>\n",
       "      <td>0.466620</td>\n",
       "      <td>0.491247</td>\n",
       "      <td>0.559946</td>\n",
       "      <td>1.000000</td>\n",
       "      <td>0.361554</td>\n",
       "      <td>0.450151</td>\n",
       "      <td>0.453445</td>\n",
       "      <td>0.544537</td>\n",
       "    </tr>\n",
       "    <tr>\n",
       "      <th>age_group</th>\n",
       "      <td>0.168116</td>\n",
       "      <td>0.243416</td>\n",
       "      <td>0.329704</td>\n",
       "      <td>0.431346</td>\n",
       "      <td>0.477424</td>\n",
       "      <td>0.458673</td>\n",
       "      <td>0.361554</td>\n",
       "      <td>1.000000</td>\n",
       "      <td>0.566450</td>\n",
       "      <td>0.539429</td>\n",
       "      <td>0.509784</td>\n",
       "    </tr>\n",
       "  </tbody>\n",
       "</table>\n",
       "</div>"
      ],
      "text/plain": [
       "               500k        1k        2k        3k        4k        6k  \\\n",
       "500k       1.000000  0.727553  0.526395  0.360222  0.312328  0.322484   \n",
       "1k         0.727553  1.000000  0.688072  0.471983  0.412095  0.401087   \n",
       "2k         0.526395  0.688072  1.000000  0.685414  0.573072  0.532571   \n",
       "3k         0.360222  0.471983  0.685414  1.000000  0.833295  0.700169   \n",
       "4k         0.312328  0.412095  0.573072  0.833295  1.000000  0.767209   \n",
       "6k         0.322484  0.401087  0.532571  0.700169  0.767209  1.000000   \n",
       "8k         0.242599  0.302514  0.387856  0.466620  0.491247  0.559946   \n",
       "age_group  0.168116  0.243416  0.329704  0.431346  0.477424  0.458673   \n",
       "\n",
       "                 8k  age_group     1pred     2pred     3pred  \n",
       "500k       0.242599   0.168116  0.332330  0.337909  0.322024  \n",
       "1k         0.302514   0.243416  0.436167  0.443331  0.419861  \n",
       "2k         0.387856   0.329704  0.608837  0.624152  0.584769  \n",
       "3k         0.466620   0.431346  0.662556  0.730045  0.686141  \n",
       "4k         0.491247   0.477424  0.704426  0.730200  0.690375  \n",
       "6k         0.559946   0.458673  0.689613  0.691724  0.669761  \n",
       "8k         1.000000   0.361554  0.450151  0.453445  0.544537  \n",
       "age_group  0.361554   1.000000  0.566450  0.539429  0.509784  "
      ]
     },
     "execution_count": 558,
     "metadata": {},
     "output_type": "execute_result"
    }
   ],
   "source": [
    "df_audio_corr"
   ]
  },
  {
   "cell_type": "code",
   "execution_count": 460,
   "id": "1170446b",
   "metadata": {
    "ExecuteTime": {
     "end_time": "2022-07-31T20:21:48.893704Z",
     "start_time": "2022-07-31T20:21:48.890689Z"
    }
   },
   "outputs": [],
   "source": [
    "# 4th prediction = 8k"
   ]
  },
  {
   "cell_type": "code",
   "execution_count": 551,
   "id": "aec14941",
   "metadata": {
    "ExecuteTime": {
     "end_time": "2022-07-31T22:08:35.008416Z",
     "start_time": "2022-07-31T22:08:34.997320Z"
    }
   },
   "outputs": [
    {
     "data": {
      "text/html": [
       "<div>\n",
       "<style scoped>\n",
       "    .dataframe tbody tr th:only-of-type {\n",
       "        vertical-align: middle;\n",
       "    }\n",
       "\n",
       "    .dataframe tbody tr th {\n",
       "        vertical-align: top;\n",
       "    }\n",
       "\n",
       "    .dataframe thead th {\n",
       "        text-align: right;\n",
       "    }\n",
       "</style>\n",
       "<table border=\"1\" class=\"dataframe\">\n",
       "  <thead>\n",
       "    <tr style=\"text-align: right;\">\n",
       "      <th></th>\n",
       "      <th>500k</th>\n",
       "      <th>1k</th>\n",
       "      <th>2k</th>\n",
       "      <th>3k</th>\n",
       "      <th>4k</th>\n",
       "      <th>6k</th>\n",
       "      <th>8k</th>\n",
       "      <th>age_group</th>\n",
       "      <th>1pred</th>\n",
       "      <th>2pred</th>\n",
       "      <th>3pred</th>\n",
       "    </tr>\n",
       "  </thead>\n",
       "  <tbody>\n",
       "    <tr>\n",
       "      <th>500k</th>\n",
       "      <td>1.000000</td>\n",
       "      <td>0.727553</td>\n",
       "      <td>0.526395</td>\n",
       "      <td>0.360222</td>\n",
       "      <td>0.312328</td>\n",
       "      <td>0.322484</td>\n",
       "      <td>0.242599</td>\n",
       "      <td>0.168116</td>\n",
       "      <td>0.387069</td>\n",
       "      <td>0.380357</td>\n",
       "      <td>0.380357</td>\n",
       "    </tr>\n",
       "    <tr>\n",
       "      <th>1k</th>\n",
       "      <td>0.727553</td>\n",
       "      <td>1.000000</td>\n",
       "      <td>0.688072</td>\n",
       "      <td>0.471983</td>\n",
       "      <td>0.412095</td>\n",
       "      <td>0.401087</td>\n",
       "      <td>0.302514</td>\n",
       "      <td>0.243416</td>\n",
       "      <td>0.500418</td>\n",
       "      <td>0.493309</td>\n",
       "      <td>0.493309</td>\n",
       "    </tr>\n",
       "    <tr>\n",
       "      <th>2k</th>\n",
       "      <td>0.526395</td>\n",
       "      <td>0.688072</td>\n",
       "      <td>1.000000</td>\n",
       "      <td>0.685414</td>\n",
       "      <td>0.573072</td>\n",
       "      <td>0.532571</td>\n",
       "      <td>0.387856</td>\n",
       "      <td>0.329704</td>\n",
       "      <td>0.701881</td>\n",
       "      <td>0.697764</td>\n",
       "      <td>0.697764</td>\n",
       "    </tr>\n",
       "    <tr>\n",
       "      <th>3k</th>\n",
       "      <td>0.360222</td>\n",
       "      <td>0.471983</td>\n",
       "      <td>0.685414</td>\n",
       "      <td>1.000000</td>\n",
       "      <td>0.833295</td>\n",
       "      <td>0.700169</td>\n",
       "      <td>0.466620</td>\n",
       "      <td>0.431346</td>\n",
       "      <td>0.739626</td>\n",
       "      <td>0.804720</td>\n",
       "      <td>0.804720</td>\n",
       "    </tr>\n",
       "    <tr>\n",
       "      <th>4k</th>\n",
       "      <td>0.312328</td>\n",
       "      <td>0.412095</td>\n",
       "      <td>0.573072</td>\n",
       "      <td>0.833295</td>\n",
       "      <td>1.000000</td>\n",
       "      <td>0.767209</td>\n",
       "      <td>0.491247</td>\n",
       "      <td>0.477424</td>\n",
       "      <td>0.780094</td>\n",
       "      <td>0.793394</td>\n",
       "      <td>0.793394</td>\n",
       "    </tr>\n",
       "    <tr>\n",
       "      <th>6k</th>\n",
       "      <td>0.322484</td>\n",
       "      <td>0.401087</td>\n",
       "      <td>0.532571</td>\n",
       "      <td>0.700169</td>\n",
       "      <td>0.767209</td>\n",
       "      <td>1.000000</td>\n",
       "      <td>0.559946</td>\n",
       "      <td>0.458673</td>\n",
       "      <td>0.766593</td>\n",
       "      <td>0.749987</td>\n",
       "      <td>0.749987</td>\n",
       "    </tr>\n",
       "    <tr>\n",
       "      <th>8k</th>\n",
       "      <td>0.242599</td>\n",
       "      <td>0.302514</td>\n",
       "      <td>0.387856</td>\n",
       "      <td>0.466620</td>\n",
       "      <td>0.491247</td>\n",
       "      <td>0.559946</td>\n",
       "      <td>1.000000</td>\n",
       "      <td>0.361554</td>\n",
       "      <td>0.479683</td>\n",
       "      <td>0.476417</td>\n",
       "      <td>0.476417</td>\n",
       "    </tr>\n",
       "    <tr>\n",
       "      <th>age_group</th>\n",
       "      <td>0.168116</td>\n",
       "      <td>0.243416</td>\n",
       "      <td>0.329704</td>\n",
       "      <td>0.431346</td>\n",
       "      <td>0.477424</td>\n",
       "      <td>0.458673</td>\n",
       "      <td>0.361554</td>\n",
       "      <td>1.000000</td>\n",
       "      <td>0.421934</td>\n",
       "      <td>0.424287</td>\n",
       "      <td>0.424287</td>\n",
       "    </tr>\n",
       "  </tbody>\n",
       "</table>\n",
       "</div>"
      ],
      "text/plain": [
       "               500k        1k        2k        3k        4k        6k  \\\n",
       "500k       1.000000  0.727553  0.526395  0.360222  0.312328  0.322484   \n",
       "1k         0.727553  1.000000  0.688072  0.471983  0.412095  0.401087   \n",
       "2k         0.526395  0.688072  1.000000  0.685414  0.573072  0.532571   \n",
       "3k         0.360222  0.471983  0.685414  1.000000  0.833295  0.700169   \n",
       "4k         0.312328  0.412095  0.573072  0.833295  1.000000  0.767209   \n",
       "6k         0.322484  0.401087  0.532571  0.700169  0.767209  1.000000   \n",
       "8k         0.242599  0.302514  0.387856  0.466620  0.491247  0.559946   \n",
       "age_group  0.168116  0.243416  0.329704  0.431346  0.477424  0.458673   \n",
       "\n",
       "                 8k  age_group     1pred     2pred     3pred  \n",
       "500k       0.242599   0.168116  0.387069  0.380357  0.380357  \n",
       "1k         0.302514   0.243416  0.500418  0.493309  0.493309  \n",
       "2k         0.387856   0.329704  0.701881  0.697764  0.697764  \n",
       "3k         0.466620   0.431346  0.739626  0.804720  0.804720  \n",
       "4k         0.491247   0.477424  0.780094  0.793394  0.793394  \n",
       "6k         0.559946   0.458673  0.766593  0.749987  0.749987  \n",
       "8k         1.000000   0.361554  0.479683  0.476417  0.476417  \n",
       "age_group  0.361554   1.000000  0.421934  0.424287  0.424287  "
      ]
     },
     "execution_count": 551,
     "metadata": {},
     "output_type": "execute_result"
    }
   ],
   "source": [
    "df_audio_corr"
   ]
  },
  {
   "cell_type": "code",
   "execution_count": 492,
   "id": "7adb1d7e",
   "metadata": {
    "ExecuteTime": {
     "end_time": "2022-07-31T21:29:33.106643Z",
     "start_time": "2022-07-31T21:29:33.095039Z"
    }
   },
   "outputs": [],
   "source": [
    "df_audio_input = df_audio[freq_input_cols + ['age_group'] + cat_cols + ['3k']]"
   ]
  },
  {
   "cell_type": "markdown",
   "id": "86726171",
   "metadata": {},
   "source": [
    "#### Numerical Corr"
   ]
  },
  {
   "cell_type": "code",
   "execution_count": 504,
   "id": "289179ef",
   "metadata": {
    "ExecuteTime": {
     "end_time": "2022-07-31T21:43:05.063243Z",
     "start_time": "2022-07-31T21:43:04.695778Z"
    },
    "scrolled": false
   },
   "outputs": [
    {
     "data": {
      "text/plain": [
       "<AxesSubplot:>"
      ]
     },
     "execution_count": 504,
     "metadata": {},
     "output_type": "execute_result"
    },
    {
     "data": {
      "image/png": "[encoded data removed]",
      "text/plain": [
       "<Figure size 288x360 with 1 Axes>"
      ]
     },
     "metadata": {
      "needs_background": "light"
     },
     "output_type": "display_data"
    }
   ],
   "source": [
    "(df_audio.corr().loc['3k']\n",
    " .plot(kind='bar', figsize=(4,5)))"
   ]
  },
  {
   "cell_type": "code",
   "execution_count": 548,
   "id": "220c9625",
   "metadata": {
    "ExecuteTime": {
     "end_time": "2022-07-31T22:06:17.842172Z",
     "start_time": "2022-07-31T22:06:17.117248Z"
    }
   },
   "outputs": [
    {
     "data": {
      "text/plain": [
       "<AxesSubplot:>"
      ]
     },
     "execution_count": 548,
     "metadata": {},
     "output_type": "execute_result"
    },
    {
     "data": {
      "image/png": "[encoded data removed]",
      "text/plain": [
       "<Figure size 288x360 with 1 Axes>"
      ]
     },
     "metadata": {
      "needs_background": "light"
     },
     "output_type": "display_data"
    }
   ],
   "source": [
    "(df_audio.corr().loc['1k']\n",
    " .plot(kind='bar', figsize=(4,5)))"
   ]
  },
  {
   "cell_type": "code",
   "execution_count": 549,
   "id": "6926a6fa",
   "metadata": {
    "ExecuteTime": {
     "end_time": "2022-07-31T22:06:40.574595Z",
     "start_time": "2022-07-31T22:06:39.848339Z"
    }
   },
   "outputs": [
    {
     "data": {
      "text/plain": [
       "<AxesSubplot:>"
      ]
     },
     "execution_count": 549,
     "metadata": {},
     "output_type": "execute_result"
    },
    {
     "data": {
      "image/png": "[encoded data removed]",
      "text/plain": [
       "<Figure size 288x360 with 1 Axes>"
      ]
     },
     "metadata": {
      "needs_background": "light"
     },
     "output_type": "display_data"
    }
   ],
   "source": [
    "(df_audio.corr().loc['500k']\n",
    " .plot(kind='bar', figsize=(4,5)))"
   ]
  },
  {
   "cell_type": "code",
   "execution_count": 550,
   "id": "c057cbd8",
   "metadata": {
    "ExecuteTime": {
     "end_time": "2022-07-31T22:06:57.509962Z",
     "start_time": "2022-07-31T22:06:56.780964Z"
    }
   },
   "outputs": [
    {
     "data": {
      "text/plain": [
       "<AxesSubplot:>"
      ]
     },
     "execution_count": 550,
     "metadata": {},
     "output_type": "execute_result"
    },
    {
     "data": {
      "image/png": "[encoded data removed]",
      "text/plain": [
       "<Figure size 288x360 with 1 Axes>"
      ]
     },
     "metadata": {
      "needs_background": "light"
     },
     "output_type": "display_data"
    }
   ],
   "source": [
    "(df_audio.corr().loc['8k']\n",
    " .plot(kind='bar', figsize=(4,5)))"
   ]
  },
  {
   "cell_type": "markdown",
   "id": "a3088cab",
   "metadata": {},
   "source": [
    "#### Categorical Corr"
   ]
  },
  {
   "cell_type": "code",
   "execution_count": 539,
   "id": "85b37fa3",
   "metadata": {
    "ExecuteTime": {
     "end_time": "2022-07-31T22:02:34.737228Z",
     "start_time": "2022-07-31T22:02:34.733841Z"
    }
   },
   "outputs": [],
   "source": [
    "cat_cols_temp = ['gender', 'region']"
   ]
  },
  {
   "cell_type": "code",
   "execution_count": 562,
   "id": "7d7d9b5a",
   "metadata": {
    "ExecuteTime": {
     "end_time": "2022-07-31T22:21:26.930040Z",
     "start_time": "2022-07-31T22:21:26.065832Z"
    },
    "scrolled": true
   },
   "outputs": [
    {
     "data": {
      "image/png": "[encoded data removed]",
      "text/plain": [
       "<Figure size 720x2160 with 2 Axes>"
      ]
     },
     "metadata": {
      "needs_background": "light"
     },
     "output_type": "display_data"
    }
   ],
   "source": [
    "fig, axs = plt.subplots(nrows=2, figsize=(10,30))\n",
    "\n",
    "for i, cat_col in enumerate(cat_cols_temp):\n",
    "    sns.boxplot(y = '4k', x = cat_col, data=df_audio, ax=axs[i])"
   ]
  },
  {
   "cell_type": "code",
   "execution_count": 566,
   "id": "b4c74d0f",
   "metadata": {
    "ExecuteTime": {
     "end_time": "2022-07-31T22:25:01.413753Z",
     "start_time": "2022-07-31T22:25:00.905771Z"
    }
   },
   "outputs": [
    {
     "name": "stdout",
     "output_type": "stream",
     "text": [
      "Column: 500k\n",
      "PointbiserialrResult(correlation=0.020844100391307203, pvalue=0.0)\n",
      "Column: 1k\n",
      "PointbiserialrResult(correlation=-0.02225663260848897, pvalue=0.0)\n",
      "Column: 2k\n",
      "PointbiserialrResult(correlation=-0.05579026913206612, pvalue=0.0)\n",
      "Column: 3k\n",
      "PointbiserialrResult(correlation=-0.17753791998192328, pvalue=0.0)\n",
      "Column: 4k\n",
      "PointbiserialrResult(correlation=-0.2147597313510279, pvalue=0.0)\n",
      "Column: 6k\n",
      "PointbiserialrResult(correlation=-0.13253501427598013, pvalue=0.0)\n",
      "Column: 8k\n",
      "PointbiserialrResult(correlation=-0.0726281049740277, pvalue=0.0)\n"
     ]
    }
   ],
   "source": [
    "# Gender is only valuable on 3k prediction\n",
    "gender_corr_l = []\n",
    "\n",
    "for c in freq_cols:\n",
    "    print(f\"Column: {c}\")\n",
    "    print(stats.pointbiserialr(df_audio['gender'], df_audio[c]))"
   ]
  },
  {
   "cell_type": "code",
   "execution_count": null,
   "id": "fe01daa7",
   "metadata": {
    "ExecuteTime": {
     "end_time": "2022-07-31T22:24:41.807408Z",
     "start_time": "2022-07-31T22:24:41.773994Z"
    },
    "scrolled": true
   },
   "outputs": [],
   "source": [
    "# Side is not valuable\n",
    "for c in freq_cols:\n",
    "    print(stats.pointbiserialr(df_audio['side'], df_audio[c]))"
   ]
  },
  {
   "cell_type": "code",
   "execution_count": 537,
   "id": "05e13b46",
   "metadata": {
    "ExecuteTime": {
     "end_time": "2022-07-31T22:01:52.467247Z",
     "start_time": "2022-07-31T22:01:52.448340Z"
    }
   },
   "outputs": [],
   "source": [
    "df_audio.drop(columns=\"side\", inplace=True)"
   ]
  },
  {
   "cell_type": "code",
   "execution_count": 569,
   "id": "5c299e87",
   "metadata": {
    "ExecuteTime": {
     "end_time": "2022-07-31T22:32:04.175163Z",
     "start_time": "2022-07-31T22:32:04.156498Z"
    }
   },
   "outputs": [],
   "source": [
    "df_audio.drop(columns=\"naics\", inplace=True)"
   ]
  },
  {
   "cell_type": "code",
   "execution_count": 591,
   "id": "192ef8f3",
   "metadata": {
    "ExecuteTime": {
     "end_time": "2022-07-31T23:03:21.883949Z",
     "start_time": "2022-07-31T23:03:14.934024Z"
    }
   },
   "outputs": [],
   "source": [
    "# Final Checkpoint\n",
    "df_audio.to_csv(d_path / 'df_audio_v1.csv', index=False)"
   ]
  },
  {
   "cell_type": "code",
   "execution_count": 592,
   "id": "07747564",
   "metadata": {
    "ExecuteTime": {
     "end_time": "2022-07-31T23:03:29.245519Z",
     "start_time": "2022-07-31T23:03:29.238083Z"
    }
   },
   "outputs": [
    {
     "data": {
      "text/html": [
       "<div>\n",
       "<style scoped>\n",
       "    .dataframe tbody tr th:only-of-type {\n",
       "        vertical-align: middle;\n",
       "    }\n",
       "\n",
       "    .dataframe tbody tr th {\n",
       "        vertical-align: top;\n",
       "    }\n",
       "\n",
       "    .dataframe thead th {\n",
       "        text-align: right;\n",
       "    }\n",
       "</style>\n",
       "<table border=\"1\" class=\"dataframe\">\n",
       "  <thead>\n",
       "    <tr style=\"text-align: right;\">\n",
       "      <th></th>\n",
       "      <th>500k</th>\n",
       "      <th>1k</th>\n",
       "      <th>2k</th>\n",
       "      <th>3k</th>\n",
       "      <th>4k</th>\n",
       "      <th>6k</th>\n",
       "      <th>8k</th>\n",
       "      <th>gender</th>\n",
       "      <th>age_group</th>\n",
       "      <th>region</th>\n",
       "    </tr>\n",
       "  </thead>\n",
       "  <tbody>\n",
       "    <tr>\n",
       "      <th>0</th>\n",
       "      <td>10</td>\n",
       "      <td>5</td>\n",
       "      <td>5</td>\n",
       "      <td>15</td>\n",
       "      <td>10</td>\n",
       "      <td>5</td>\n",
       "      <td>25</td>\n",
       "      <td>0</td>\n",
       "      <td>4</td>\n",
       "      <td>0</td>\n",
       "    </tr>\n",
       "    <tr>\n",
       "      <th>1</th>\n",
       "      <td>15</td>\n",
       "      <td>10</td>\n",
       "      <td>5</td>\n",
       "      <td>15</td>\n",
       "      <td>5</td>\n",
       "      <td>10</td>\n",
       "      <td>25</td>\n",
       "      <td>0</td>\n",
       "      <td>5</td>\n",
       "      <td>0</td>\n",
       "    </tr>\n",
       "    <tr>\n",
       "      <th>2</th>\n",
       "      <td>5</td>\n",
       "      <td>10</td>\n",
       "      <td>20</td>\n",
       "      <td>20</td>\n",
       "      <td>15</td>\n",
       "      <td>20</td>\n",
       "      <td>0</td>\n",
       "      <td>0</td>\n",
       "      <td>2</td>\n",
       "      <td>0</td>\n",
       "    </tr>\n",
       "    <tr>\n",
       "      <th>3</th>\n",
       "      <td>15</td>\n",
       "      <td>5</td>\n",
       "      <td>15</td>\n",
       "      <td>20</td>\n",
       "      <td>20</td>\n",
       "      <td>15</td>\n",
       "      <td>15</td>\n",
       "      <td>0</td>\n",
       "      <td>3</td>\n",
       "      <td>0</td>\n",
       "    </tr>\n",
       "    <tr>\n",
       "      <th>4</th>\n",
       "      <td>25</td>\n",
       "      <td>20</td>\n",
       "      <td>15</td>\n",
       "      <td>20</td>\n",
       "      <td>35</td>\n",
       "      <td>25</td>\n",
       "      <td>15</td>\n",
       "      <td>0</td>\n",
       "      <td>3</td>\n",
       "      <td>0</td>\n",
       "    </tr>\n",
       "  </tbody>\n",
       "</table>\n",
       "</div>"
      ],
      "text/plain": [
       "   500k  1k  2k  3k  4k  6k  8k gender  age_group region\n",
       "0    10   5   5  15  10   5  25      0          4      0\n",
       "1    15  10   5  15   5  10  25      0          5      0\n",
       "2     5  10  20  20  15  20   0      0          2      0\n",
       "3    15   5  15  20  20  15  15      0          3      0\n",
       "4    25  20  15  20  35  25  15      0          3      0"
      ]
     },
     "execution_count": 592,
     "metadata": {},
     "output_type": "execute_result"
    }
   ],
   "source": [
    "df_audio.head()"
   ]
  },
  {
   "cell_type": "markdown",
   "id": "282e8866",
   "metadata": {},
   "source": [
    "#### Conclusions:\n",
    "* | age_group | is a important feature\n",
    "* | side   | is not valuable  \n",
    "* | gender | is valuable only for 3k prediction  \n",
    "* | region | is valuable only for 8k prediction  \n",
    "* | naics  | requires a subject, business understand and proper balance"
   ]
  },
  {
   "cell_type": "markdown",
   "id": "0a935df5",
   "metadata": {},
   "source": [
    "#### Correlation"
   ]
  },
  {
   "cell_type": "code",
   "execution_count": 573,
   "id": "28c076ce",
   "metadata": {
    "ExecuteTime": {
     "end_time": "2022-07-31T22:51:35.682293Z",
     "start_time": "2022-07-31T22:51:35.038226Z"
    }
   },
   "outputs": [],
   "source": [
    "df_audio_corr = df_audio.corr()"
   ]
  },
  {
   "cell_type": "code",
   "execution_count": 574,
   "id": "667e1029",
   "metadata": {
    "ExecuteTime": {
     "end_time": "2022-07-31T22:51:38.589781Z",
     "start_time": "2022-07-31T22:51:38.585346Z"
    }
   },
   "outputs": [],
   "source": [
    "# 1st prediction = 3k\n",
    "df_audio_corr['1pred'] = df_audio_corr.apply(lambda df: (df['2k'] + df['4k'] + df['6k'] + df['age_group']) / 4)"
   ]
  },
  {
   "cell_type": "code",
   "execution_count": 578,
   "id": "2ed5a8b8",
   "metadata": {
    "ExecuteTime": {
     "end_time": "2022-07-31T22:52:50.390284Z",
     "start_time": "2022-07-31T22:52:50.385285Z"
    }
   },
   "outputs": [
    {
     "data": {
      "text/plain": [
       "Index(['4k', '6k', '3k', '2k', 'age_group', '8k', '1k', '500k'], dtype='object')"
      ]
     },
     "execution_count": 578,
     "metadata": {},
     "output_type": "execute_result"
    }
   ],
   "source": [
    "df_audio_corr['1pred'].sort_values(ascending=False).index"
   ]
  },
  {
   "cell_type": "code",
   "execution_count": 555,
   "id": "84a9c80e",
   "metadata": {
    "ExecuteTime": {
     "end_time": "2022-07-31T22:12:41.861502Z",
     "start_time": "2022-07-31T22:12:41.855805Z"
    }
   },
   "outputs": [],
   "source": [
    "# 2nd prediction = 8k\n",
    "# 2 factors (age)\n",
    "df_audio_corr['2pred'] = df_audio_corr.apply(lambda df: (df['2k'] + df['3k'] + df['4k'] + df['6k'] + df['age_group']) / 5)"
   ]
  },
  {
   "cell_type": "code",
   "execution_count": 557,
   "id": "6c834b56",
   "metadata": {
    "ExecuteTime": {
     "end_time": "2022-07-31T22:16:45.659251Z",
     "start_time": "2022-07-31T22:16:45.652843Z"
    }
   },
   "outputs": [],
   "source": [
    "# 3rd prediction = 1k\n",
    "df_audio_corr['3pred'] = df_audio_corr.apply(lambda df: (df['2k'] + df['3k'] + df['4k'] + df['6k'] + df['8k'] + df['age_group'] ) / 6)"
   ]
  },
  {
   "cell_type": "code",
   "execution_count": null,
   "id": "c1704c8e",
   "metadata": {},
   "outputs": [],
   "source": [
    "# 4th prediction = 500k"
   ]
  },
  {
   "cell_type": "code",
   "execution_count": 586,
   "id": "9d2fceda",
   "metadata": {
    "ExecuteTime": {
     "end_time": "2022-07-31T23:00:42.821071Z",
     "start_time": "2022-07-31T23:00:42.191911Z"
    }
   },
   "outputs": [],
   "source": [
    "# Function to get correct order\n",
    "\n",
    "df_audio_corr = df_audio.corr()\n",
    "\n",
    "def add_columns(df, cols):\n",
    "    total=0\n",
    "    count=len(cols)\n",
    "    for c in cols:\n",
    "        total+=df[c]\n",
    "    \n",
    "    return total / count\n",
    "\n",
    "def get_pred_order(df, input_cols):\n",
    "    col_len = len(input_cols)\n",
    "    order_l = []\n",
    "    for i, _ in enumerate(range(col_len, 8)):\n",
    "        df[f'{i}pred'] = df.apply(add_columns, cols=input_cols)\n",
    "        col_order = df_audio_corr[f'{i}pred'].sort_values(ascending=False).index\n",
    "        for c in col_order:\n",
    "            if c not in input_cols:\n",
    "                order_l.append(c)\n",
    "                input_cols.append(c)\n",
    "                break\n",
    "    \n",
    "    return order_l"
   ]
  },
  {
   "cell_type": "code",
   "execution_count": 587,
   "id": "e2e4f728",
   "metadata": {
    "ExecuteTime": {
     "end_time": "2022-07-31T23:00:44.783177Z",
     "start_time": "2022-07-31T23:00:44.773198Z"
    }
   },
   "outputs": [
    {
     "data": {
      "text/plain": [
       "['3k', '8k', '1k', '500k']"
      ]
     },
     "execution_count": 587,
     "metadata": {},
     "output_type": "execute_result"
    }
   ],
   "source": [
    "get_pred_order(df_audio_corr, ['2k','4k', '6k', 'age_group'])"
   ]
  },
  {
   "cell_type": "code",
   "execution_count": 590,
   "id": "77abed09",
   "metadata": {
    "ExecuteTime": {
     "end_time": "2022-07-31T23:01:59.311220Z",
     "start_time": "2022-07-31T23:01:59.302608Z"
    },
    "scrolled": true
   },
   "outputs": [
    {
     "data": {
      "text/plain": [
       "['3k', '1k', '8k']"
      ]
     },
     "execution_count": 590,
     "metadata": {},
     "output_type": "execute_result"
    }
   ],
   "source": [
    "get_pred_order(df_audio_corr, ['2k','4k', '6k', '500k', 'age_group'])"
   ]
  },
  {
   "cell_type": "code",
   "execution_count": 593,
   "id": "8f2905c6",
   "metadata": {
    "ExecuteTime": {
     "end_time": "2022-07-31T23:04:25.790017Z",
     "start_time": "2022-07-31T23:04:25.785742Z"
    }
   },
   "outputs": [],
   "source": [
    "df_audio_corr.to_csv(d_path / 'df_audio_corr.csv', index=False)"
   ]
  }
 ],
 "metadata": {
  "kernelspec": {
   "display_name": "Python 3 (ipykernel)",
   "language": "python",
   "name": "python3"
  },
  "language_info": {
   "codemirror_mode": {
    "name": "ipython",
    "version": 3
   },
   "file_extension": ".py",
   "mimetype": "text/x-python",
   "name": "python",
   "nbconvert_exporter": "python",
   "pygments_lexer": "ipython3",
   "version": "3.10.4"
  }
 },
 "nbformat": 4,
 "nbformat_minor": 5
}
