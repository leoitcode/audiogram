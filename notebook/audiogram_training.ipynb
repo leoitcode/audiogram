{
 "cells": [
  {
   "cell_type": "markdown",
   "id": "955b58b4",
   "metadata": {
    "ExecuteTime": {
     "end_time": "2022-07-31T23:06:25.656608Z",
     "start_time": "2022-07-31T23:06:25.653084Z"
    }
   },
   "source": [
    "# AUDIOGRAM PREDICT"
   ]
  },
  {
   "cell_type": "markdown",
   "id": "817670cc",
   "metadata": {
    "ExecuteTime": {
     "end_time": "2022-07-31T23:06:55.914060Z",
     "start_time": "2022-07-31T23:06:55.901204Z"
    }
   },
   "source": [
    "This is a project to predict audiogram values"
   ]
  },
  {
   "cell_type": "markdown",
   "id": "c23850c4",
   "metadata": {},
   "source": [
    "### Part Two: Training Pipeline and Evaluation"
   ]
  },
  {
   "cell_type": "markdown",
   "id": "f6f9bc58",
   "metadata": {},
   "source": [
    "## Settings"
   ]
  },
  {
   "cell_type": "code",
   "execution_count": 4,
   "id": "6cde5729",
   "metadata": {
    "ExecuteTime": {
     "end_time": "2022-07-31T23:08:28.924624Z",
     "start_time": "2022-07-31T23:08:28.809992Z"
    }
   },
   "outputs": [
    {
     "name": "stdout",
     "output_type": "stream",
     "text": [
      "dataset  notebook\t README.md\t\t      scripts\r\n",
      "model\t pyproject.toml  requirements_experiment.txt  src\r\n"
     ]
    }
   ],
   "source": [
    "from pathlib import Path\n",
    "import os\n",
    "\n",
    "# Sets base path\n",
    "b_path = Path.home() / 'Development' / 'audiogram'\n",
    "os.chdir(b_path)\n",
    "!ls\n",
    "\n",
    "d_path = b_path / 'dataset'\n",
    "n_path = b_path / 'notebook'\n",
    "s_path = b_path / 'scripts'"
   ]
  },
  {
   "cell_type": "code",
   "execution_count": null,
   "id": "740d41f7",
   "metadata": {},
   "outputs": [],
   "source": []
  }
 ],
 "metadata": {
  "kernelspec": {
   "display_name": "Python 3 (ipykernel)",
   "language": "python",
   "name": "python3"
  },
  "language_info": {
   "codemirror_mode": {
    "name": "ipython",
    "version": 3
   },
   "file_extension": ".py",
   "mimetype": "text/x-python",
   "name": "python",
   "nbconvert_exporter": "python",
   "pygments_lexer": "ipython3",
   "version": "3.10.4"
  }
 },
 "nbformat": 4,
 "nbformat_minor": 5
}
