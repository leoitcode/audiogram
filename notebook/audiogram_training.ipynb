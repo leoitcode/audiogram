{
 "cells": [
  {
   "cell_type": "markdown",
   "id": "955b58b4",
   "metadata": {
    "ExecuteTime": {
     "end_time": "2022-07-31T23:06:25.656608Z",
     "start_time": "2022-07-31T23:06:25.653084Z"
    }
   },
   "source": [
    "# AUDIOGRAM PREDICT"
   ]
  },
  {
   "cell_type": "markdown",
   "id": "817670cc",
   "metadata": {
    "ExecuteTime": {
     "end_time": "2022-07-31T23:06:55.914060Z",
     "start_time": "2022-07-31T23:06:55.901204Z"
    }
   },
   "source": [
    "This is a project to predict audiogram values"
   ]
  },
  {
   "cell_type": "markdown",
   "id": "c23850c4",
   "metadata": {},
   "source": [
    "### Part Two: Training Pipeline and Evaluation"
   ]
  },
  {
   "cell_type": "markdown",
   "id": "f6f9bc58",
   "metadata": {},
   "source": [
    "## Settings"
   ]
  },
  {
   "cell_type": "markdown",
   "id": "302d4630",
   "metadata": {},
   "source": [
    "#### Path"
   ]
  },
  {
   "cell_type": "code",
   "execution_count": 158,
   "id": "6cde5729",
   "metadata": {
    "ExecuteTime": {
     "end_time": "2022-08-01T18:43:41.337949Z",
     "start_time": "2022-08-01T18:43:41.196390Z"
    }
   },
   "outputs": [
    {
     "name": "stdout",
     "output_type": "stream",
     "text": [
      "dataset  notebook\t README.md\t\t      scripts\r\n",
      "model\t pyproject.toml  requirements_experiment.txt  src\r\n"
     ]
    }
   ],
   "source": [
    "from pathlib import Path\n",
    "import os\n",
    "\n",
    "# Sets base path\n",
    "b_path = Path.home() / 'Development' / 'audiogram'\n",
    "os.chdir(b_path)\n",
    "!ls\n",
    "\n",
    "d_path = b_path / 'dataset'\n",
    "n_path = b_path / 'notebook'\n",
    "s_path = b_path / 'scripts'\n",
    "m_path = b_path / 'model'"
   ]
  },
  {
   "cell_type": "markdown",
   "id": "a66034fe",
   "metadata": {},
   "source": [
    "#### Install"
   ]
  },
  {
   "cell_type": "code",
   "execution_count": 2,
   "id": "ee60f102",
   "metadata": {
    "ExecuteTime": {
     "end_time": "2022-08-01T17:10:33.241939Z",
     "start_time": "2022-08-01T17:10:30.806307Z"
    },
    "collapsed": true
   },
   "outputs": [
    {
     "name": "stdout",
     "output_type": "stream",
     "text": [
      "Requirement already satisfied: scikit-learn in /home/leobit/Development/software/anaconda3/envs/cond_audio_env/lib/python3.10/site-packages (1.1.1)\n",
      "Requirement already satisfied: threadpoolctl>=2.0.0 in /home/leobit/Development/software/anaconda3/envs/cond_audio_env/lib/python3.10/site-packages (from scikit-learn) (3.1.0)\n",
      "Requirement already satisfied: numpy>=1.17.3 in /home/leobit/.local/lib/python3.10/site-packages (from scikit-learn) (1.22.3)\n",
      "Requirement already satisfied: joblib>=1.0.0 in /home/leobit/Development/software/anaconda3/envs/cond_audio_env/lib/python3.10/site-packages (from scikit-learn) (1.1.0)\n",
      "Requirement already satisfied: scipy>=1.3.2 in /home/leobit/.local/lib/python3.10/site-packages (from scikit-learn) (1.8.1)\n"
     ]
    }
   ],
   "source": [
    "!pip install --upgrade scikit-learn"
   ]
  },
  {
   "cell_type": "code",
   "execution_count": 89,
   "id": "20c00b86",
   "metadata": {
    "ExecuteTime": {
     "end_time": "2022-08-01T12:23:42.890876Z",
     "start_time": "2022-08-01T12:23:40.755745Z"
    },
    "collapsed": true
   },
   "outputs": [
    {
     "name": "stdout",
     "output_type": "stream",
     "text": [
      "Requirement already satisfied: xgboost in /home/leobit/Development/software/anaconda3/envs/cond_audio_env/lib/python3.10/site-packages (1.6.1)\r\n",
      "Requirement already satisfied: numpy in /home/leobit/.local/lib/python3.10/site-packages (from xgboost) (1.22.3)\r\n",
      "Requirement already satisfied: scipy in /home/leobit/.local/lib/python3.10/site-packages (from xgboost) (1.8.1)\r\n"
     ]
    }
   ],
   "source": [
    "!pip install xgboost"
   ]
  },
  {
   "cell_type": "code",
   "execution_count": 3,
   "id": "81962a94",
   "metadata": {
    "ExecuteTime": {
     "end_time": "2022-08-01T17:10:50.564572Z",
     "start_time": "2022-08-01T17:10:34.025712Z"
    },
    "collapsed": true
   },
   "outputs": [
    {
     "name": "stdout",
     "output_type": "stream",
     "text": [
      "Collecting fancyimpute\n",
      "  Downloading fancyimpute-0.7.0.tar.gz (25 kB)\n",
      "  Preparing metadata (setup.py) ... \u001b[?25ldone\n",
      "\u001b[?25hCollecting knnimpute>=0.1.0\n",
      "  Downloading knnimpute-0.1.0.tar.gz (8.3 kB)\n",
      "  Preparing metadata (setup.py) ... \u001b[?25ldone\n",
      "\u001b[?25hRequirement already satisfied: scikit-learn>=0.24.2 in /home/leobit/Development/software/anaconda3/envs/cond_audio_env/lib/python3.10/site-packages (from fancyimpute) (1.1.1)\n",
      "Collecting cvxpy\n",
      "  Downloading cvxpy-1.2.1-cp310-cp310-manylinux_2_24_x86_64.whl (2.8 MB)\n",
      "\u001b[2K     \u001b[38;2;114;156;31m━━━━━━━━━━━━━━━━━━━━━━━━━━━━━━━━━━━━━━━━\u001b[0m \u001b[32m2.8/2.8 MB\u001b[0m \u001b[31m2.9 MB/s\u001b[0m eta \u001b[36m0:00:00\u001b[0m[36m0:00:01\u001b[0m[36m0:00:01\u001b[0m:01\u001b[0m\n",
      "\u001b[?25hCollecting cvxopt\n",
      "  Downloading cvxopt-1.3.0-cp310-cp310-manylinux_2_17_x86_64.manylinux2014_x86_64.whl (12.7 MB)\n",
      "\u001b[2K     \u001b[38;2;114;156;31m━━━━━━━━━━━━━━━━━━━━━━━━━━━━━━━━━━━━━━━━\u001b[0m \u001b[32m12.7/12.7 MB\u001b[0m \u001b[31m11.3 MB/s\u001b[0m eta \u001b[36m0:00:00\u001b[0mm eta \u001b[36m0:00:01\u001b[0m[36m0:00:01\u001b[0m\n",
      "\u001b[?25hCollecting pytest\n",
      "  Downloading pytest-7.1.2-py3-none-any.whl (297 kB)\n",
      "\u001b[2K     \u001b[38;2;114;156;31m━━━━━━━━━━━━━━━━━━━━━━━━━━━━━━━━━━━━━━\u001b[0m \u001b[32m297.0/297.0 kB\u001b[0m \u001b[31m27.3 MB/s\u001b[0m eta \u001b[36m0:00:00\u001b[0m\n",
      "\u001b[?25hCollecting nose\n",
      "  Downloading nose-1.3.7-py3-none-any.whl (154 kB)\n",
      "\u001b[2K     \u001b[38;2;114;156;31m━━━━━━━━━━━━━━━━━━━━━━━━━━━━━━━━━━━━━━\u001b[0m \u001b[32m154.7/154.7 kB\u001b[0m \u001b[31m18.2 MB/s\u001b[0m eta \u001b[36m0:00:00\u001b[0m\n",
      "\u001b[?25hRequirement already satisfied: six in /home/leobit/Development/software/anaconda3/envs/cond_audio_env/lib/python3.10/site-packages (from knnimpute>=0.1.0->fancyimpute) (1.16.0)\n",
      "Requirement already satisfied: numpy>=1.10 in /home/leobit/.local/lib/python3.10/site-packages (from knnimpute>=0.1.0->fancyimpute) (1.22.3)\n",
      "Requirement already satisfied: threadpoolctl>=2.0.0 in /home/leobit/Development/software/anaconda3/envs/cond_audio_env/lib/python3.10/site-packages (from scikit-learn>=0.24.2->fancyimpute) (3.1.0)\n",
      "Requirement already satisfied: scipy>=1.3.2 in /home/leobit/.local/lib/python3.10/site-packages (from scikit-learn>=0.24.2->fancyimpute) (1.8.1)\n",
      "Requirement already satisfied: joblib>=1.0.0 in /home/leobit/Development/software/anaconda3/envs/cond_audio_env/lib/python3.10/site-packages (from scikit-learn>=0.24.2->fancyimpute) (1.1.0)\n",
      "Collecting ecos>=2\n",
      "  Downloading ecos-2.0.10-cp310-cp310-manylinux_2_17_x86_64.manylinux2014_x86_64.manylinux_2_24_x86_64.whl (190 kB)\n",
      "\u001b[2K     \u001b[38;2;114;156;31m━━━━━━━━━━━━━━━━━━━━━━━━━━━━━━━━━━━━━━\u001b[0m \u001b[32m190.1/190.1 kB\u001b[0m \u001b[31m26.7 MB/s\u001b[0m eta \u001b[36m0:00:00\u001b[0m\n",
      "\u001b[?25hCollecting osqp>=0.4.1\n",
      "  Downloading osqp-0.6.2.post5-cp310-cp310-manylinux_2_5_x86_64.manylinux1_x86_64.manylinux_2_17_x86_64.manylinux2014_x86_64.whl (298 kB)\n",
      "\u001b[2K     \u001b[38;2;114;156;31m━━━━━━━━━━━━━━━━━━━━━━━━━━━━━━━━━━━━━━\u001b[0m \u001b[32m298.1/298.1 kB\u001b[0m \u001b[31m25.1 MB/s\u001b[0m eta \u001b[36m0:00:00\u001b[0m\n",
      "\u001b[?25hCollecting scs>=1.1.6\n",
      "  Downloading scs-3.2.0-cp310-cp310-manylinux_2_17_x86_64.manylinux2014_x86_64.whl (10.7 MB)\n",
      "\u001b[2K     \u001b[38;2;114;156;31m━━━━━━━━━━━━━━━━━━━━━━━━━━━━━━━━━━━━━━━━\u001b[0m \u001b[32m10.7/10.7 MB\u001b[0m \u001b[31m20.8 MB/s\u001b[0m eta \u001b[36m0:00:00\u001b[0mm eta \u001b[36m0:00:01\u001b[0m[36m0:00:01\u001b[0m\n",
      "\u001b[?25hCollecting tomli>=1.0.0\n",
      "  Downloading tomli-2.0.1-py3-none-any.whl (12 kB)\n",
      "Collecting py>=1.8.2\n",
      "  Downloading py-1.11.0-py2.py3-none-any.whl (98 kB)\n",
      "\u001b[2K     \u001b[38;2;114;156;31m━━━━━━━━━━━━━━━━━━━━━━━━━━━━━━━━━━━━━━━━\u001b[0m \u001b[32m98.7/98.7 kB\u001b[0m \u001b[31m25.9 MB/s\u001b[0m eta \u001b[36m0:00:00\u001b[0m\n",
      "\u001b[?25hCollecting pluggy<2.0,>=0.12\n",
      "  Downloading pluggy-1.0.0-py2.py3-none-any.whl (13 kB)\n",
      "Requirement already satisfied: attrs>=19.2.0 in /home/leobit/.local/lib/python3.10/site-packages (from pytest->fancyimpute) (22.1.0)\n",
      "Requirement already satisfied: packaging in /home/leobit/Development/software/anaconda3/envs/cond_audio_env/lib/python3.10/site-packages (from pytest->fancyimpute) (21.3)\n",
      "Collecting iniconfig\n",
      "  Downloading iniconfig-1.1.1-py2.py3-none-any.whl (5.0 kB)\n",
      "Collecting qdldl\n",
      "  Downloading qdldl-0.1.5.post2-cp310-cp310-manylinux_2_17_x86_64.manylinux2014_x86_64.whl (1.0 MB)\n",
      "\u001b[2K     \u001b[38;2;114;156;31m━━━━━━━━━━━━━━━━━━━━━━━━━━━━━━━━━━━━━━━━\u001b[0m \u001b[32m1.0/1.0 MB\u001b[0m \u001b[31m38.6 MB/s\u001b[0m eta \u001b[36m0:00:00\u001b[0m\n",
      "\u001b[?25hRequirement already satisfied: pyparsing!=3.0.5,>=2.0.2 in /home/leobit/Development/software/anaconda3/envs/cond_audio_env/lib/python3.10/site-packages (from packaging->pytest->fancyimpute) (3.0.4)\n",
      "Building wheels for collected packages: fancyimpute, knnimpute\n",
      "  Building wheel for fancyimpute (setup.py) ... \u001b[?25ldone\n",
      "\u001b[?25h  Created wheel for fancyimpute: filename=fancyimpute-0.7.0-py3-none-any.whl size=29899 sha256=f55dc10b0205fe3f2c379ee187447d5af86ec8d760225a56deb28bfaafd56e3f\n",
      "  Stored in directory: /home/leobit/.cache/pip/wheels/7b/0c/d3/ee82d1fbdcc0858d96434af108608d01703505d453720c84ed\n",
      "  Building wheel for knnimpute (setup.py) ... \u001b[?25ldone\n",
      "\u001b[?25h  Created wheel for knnimpute: filename=knnimpute-0.1.0-py3-none-any.whl size=11353 sha256=0491b6d368e5d637f16e3a1ef6e9ed6a2a51b5dd581b2bcec53e854aa27b7904\n",
      "  Stored in directory: /home/leobit/.cache/pip/wheels/46/06/a5/45a724630562413c374e29c08732411d496092408b3a7bf754\n",
      "Successfully built fancyimpute knnimpute\n",
      "Installing collected packages: nose, iniconfig, tomli, py, pluggy, knnimpute, cvxopt, scs, qdldl, pytest, ecos, osqp, cvxpy, fancyimpute\n",
      "Successfully installed cvxopt-1.3.0 cvxpy-1.2.1 ecos-2.0.10 fancyimpute-0.7.0 iniconfig-1.1.1 knnimpute-0.1.0 nose-1.3.7 osqp-0.6.2.post5 pluggy-1.0.0 py-1.11.0 pytest-7.1.2 qdldl-0.1.5.post2 scs-3.2.0 tomli-2.0.1\n"
     ]
    }
   ],
   "source": [
    "!pip install fancyimpute"
   ]
  },
  {
   "cell_type": "markdown",
   "id": "1d1b4ce3",
   "metadata": {},
   "source": [
    "#### Imports"
   ]
  },
  {
   "cell_type": "code",
   "execution_count": 6,
   "id": "d4b156f5",
   "metadata": {
    "ExecuteTime": {
     "end_time": "2022-08-01T17:11:38.202842Z",
     "start_time": "2022-08-01T17:11:37.694899Z"
    }
   },
   "outputs": [],
   "source": [
    "%matplotlib inline"
   ]
  },
  {
   "cell_type": "code",
   "execution_count": 438,
   "id": "2327eec1",
   "metadata": {
    "ExecuteTime": {
     "end_time": "2022-08-02T02:03:02.334147Z",
     "start_time": "2022-08-02T02:03:02.330301Z"
    }
   },
   "outputs": [],
   "source": [
    "import numpy as np\n",
    "import pandas as pd\n",
    "import matplotlib.pyplot as plt\n",
    "import seaborn as sns\n",
    "import warnings\n",
    "import joblib\n",
    "import copy\n",
    "import pickle\n",
    "\n",
    "from fancyimpute import KNN, IterativeImputer \n",
    "from sklearn.model_selection import train_test_split\n",
    "from sklearn.linear_model import LinearRegression\n",
    "from sklearn.neighbors import KNeighborsRegressor\n",
    "from sklearn.metrics import mean_absolute_error, mean_squared_error, r2_score\n",
    "from xgboost import XGBRegressor"
   ]
  },
  {
   "cell_type": "markdown",
   "id": "cfb1cd26",
   "metadata": {},
   "source": [
    "#### Configuration"
   ]
  },
  {
   "cell_type": "code",
   "execution_count": 10,
   "id": "a49b5c9b",
   "metadata": {
    "ExecuteTime": {
     "end_time": "2022-08-01T17:11:51.448673Z",
     "start_time": "2022-08-01T17:11:51.445504Z"
    }
   },
   "outputs": [],
   "source": [
    "pd.set_option('display.max_columns', None)\n",
    "pd.set_option('display.max_rows', 500)\n",
    "warnings.filterwarnings('ignore')"
   ]
  },
  {
   "cell_type": "markdown",
   "id": "ae90d4bf",
   "metadata": {},
   "source": [
    "## Machine Learning Modeling"
   ]
  },
  {
   "cell_type": "code",
   "execution_count": 119,
   "id": "f342af93",
   "metadata": {
    "ExecuteTime": {
     "end_time": "2022-08-01T18:22:15.639126Z",
     "start_time": "2022-08-01T18:22:14.676358Z"
    }
   },
   "outputs": [],
   "source": [
    "df_audio_full = pd.read_csv(d_path / 'df_audio_v1.csv')"
   ]
  },
  {
   "cell_type": "code",
   "execution_count": 120,
   "id": "7c62a4d1",
   "metadata": {
    "ExecuteTime": {
     "end_time": "2022-08-01T18:22:17.001330Z",
     "start_time": "2022-08-01T18:22:16.945146Z"
    }
   },
   "outputs": [],
   "source": [
    "df_audio = pd.read_csv(d_path / 'df_audio_check_3.csv')"
   ]
  },
  {
   "cell_type": "code",
   "execution_count": 101,
   "id": "d704a5c7",
   "metadata": {
    "ExecuteTime": {
     "end_time": "2022-08-01T12:32:01.061371Z",
     "start_time": "2022-08-01T12:32:00.965336Z"
    }
   },
   "outputs": [],
   "source": [
    "df_audio = (df_audio + 5) / 5"
   ]
  },
  {
   "cell_type": "code",
   "execution_count": 114,
   "id": "0a968323",
   "metadata": {
    "ExecuteTime": {
     "end_time": "2022-08-01T12:33:43.800870Z",
     "start_time": "2022-08-01T12:33:43.798568Z"
    }
   },
   "outputs": [],
   "source": [
    "base_cols = ['2k','4k','6k']"
   ]
  },
  {
   "cell_type": "code",
   "execution_count": 35,
   "id": "f2a08a6c",
   "metadata": {
    "ExecuteTime": {
     "end_time": "2022-08-01T17:24:15.222951Z",
     "start_time": "2022-08-01T17:24:15.219949Z"
    }
   },
   "outputs": [],
   "source": [
    "def get_closer_5_multi(n):\n",
    "    r = n % 5\n",
    "    return n+(5-r) if r>=2.5 else n-r"
   ]
  },
  {
   "cell_type": "markdown",
   "id": "f1ba0458",
   "metadata": {},
   "source": [
    "## 1 Experiment - Regression"
   ]
  },
  {
   "cell_type": "code",
   "execution_count": 117,
   "id": "fbfc5ecb",
   "metadata": {
    "ExecuteTime": {
     "end_time": "2022-08-01T12:33:55.637885Z",
     "start_time": "2022-08-01T12:33:54.984803Z"
    }
   },
   "outputs": [],
   "source": [
    "x = df_audio[base_cols]\n",
    "y = df_audio['3k']\n",
    "x_train, x_test, y_train, y_test = train_test_split(x, y, test_size=0.33, random_state=123, shuffle=True)"
   ]
  },
  {
   "cell_type": "code",
   "execution_count": 118,
   "id": "4b2ffefe",
   "metadata": {
    "ExecuteTime": {
     "end_time": "2022-08-01T12:33:56.248312Z",
     "start_time": "2022-08-01T12:33:56.245192Z"
    }
   },
   "outputs": [],
   "source": [
    "model = LinearRegression()"
   ]
  },
  {
   "cell_type": "code",
   "execution_count": 119,
   "id": "fc086875",
   "metadata": {
    "ExecuteTime": {
     "end_time": "2022-08-01T12:33:57.301619Z",
     "start_time": "2022-08-01T12:33:56.982110Z"
    }
   },
   "outputs": [
    {
     "data": {
      "text/html": [
       "<style>#sk-container-id-8 {color: black;background-color: white;}#sk-container-id-8 pre{padding: 0;}#sk-container-id-8 div.sk-toggleable {background-color: white;}#sk-container-id-8 label.sk-toggleable__label {cursor: pointer;display: block;width: 100%;margin-bottom: 0;padding: 0.3em;box-sizing: border-box;text-align: center;}#sk-container-id-8 label.sk-toggleable__label-arrow:before {content: \"▸\";float: left;margin-right: 0.25em;color: #696969;}#sk-container-id-8 label.sk-toggleable__label-arrow:hover:before {color: black;}#sk-container-id-8 div.sk-estimator:hover label.sk-toggleable__label-arrow:before {color: black;}#sk-container-id-8 div.sk-toggleable__content {max-height: 0;max-width: 0;overflow: hidden;text-align: left;background-color: #f0f8ff;}#sk-container-id-8 div.sk-toggleable__content pre {margin: 0.2em;color: black;border-radius: 0.25em;background-color: #f0f8ff;}#sk-container-id-8 input.sk-toggleable__control:checked~div.sk-toggleable__content {max-height: 200px;max-width: 100%;overflow: auto;}#sk-container-id-8 input.sk-toggleable__control:checked~label.sk-toggleable__label-arrow:before {content: \"▾\";}#sk-container-id-8 div.sk-estimator input.sk-toggleable__control:checked~label.sk-toggleable__label {background-color: #d4ebff;}#sk-container-id-8 div.sk-label input.sk-toggleable__control:checked~label.sk-toggleable__label {background-color: #d4ebff;}#sk-container-id-8 input.sk-hidden--visually {border: 0;clip: rect(1px 1px 1px 1px);clip: rect(1px, 1px, 1px, 1px);height: 1px;margin: -1px;overflow: hidden;padding: 0;position: absolute;width: 1px;}#sk-container-id-8 div.sk-estimator {font-family: monospace;background-color: #f0f8ff;border: 1px dotted black;border-radius: 0.25em;box-sizing: border-box;margin-bottom: 0.5em;}#sk-container-id-8 div.sk-estimator:hover {background-color: #d4ebff;}#sk-container-id-8 div.sk-parallel-item::after {content: \"\";width: 100%;border-bottom: 1px solid gray;flex-grow: 1;}#sk-container-id-8 div.sk-label:hover label.sk-toggleable__label {background-color: #d4ebff;}#sk-container-id-8 div.sk-serial::before {content: \"\";position: absolute;border-left: 1px solid gray;box-sizing: border-box;top: 0;bottom: 0;left: 50%;z-index: 0;}#sk-container-id-8 div.sk-serial {display: flex;flex-direction: column;align-items: center;background-color: white;padding-right: 0.2em;padding-left: 0.2em;position: relative;}#sk-container-id-8 div.sk-item {position: relative;z-index: 1;}#sk-container-id-8 div.sk-parallel {display: flex;align-items: stretch;justify-content: center;background-color: white;position: relative;}#sk-container-id-8 div.sk-item::before, #sk-container-id-8 div.sk-parallel-item::before {content: \"\";position: absolute;border-left: 1px solid gray;box-sizing: border-box;top: 0;bottom: 0;left: 50%;z-index: -1;}#sk-container-id-8 div.sk-parallel-item {display: flex;flex-direction: column;z-index: 1;position: relative;background-color: white;}#sk-container-id-8 div.sk-parallel-item:first-child::after {align-self: flex-end;width: 50%;}#sk-container-id-8 div.sk-parallel-item:last-child::after {align-self: flex-start;width: 50%;}#sk-container-id-8 div.sk-parallel-item:only-child::after {width: 0;}#sk-container-id-8 div.sk-dashed-wrapped {border: 1px dashed gray;margin: 0 0.4em 0.5em 0.4em;box-sizing: border-box;padding-bottom: 0.4em;background-color: white;}#sk-container-id-8 div.sk-label label {font-family: monospace;font-weight: bold;display: inline-block;line-height: 1.2em;}#sk-container-id-8 div.sk-label-container {text-align: center;}#sk-container-id-8 div.sk-container {/* jupyter's `normalize.less` sets `[hidden] { display: none; }` but bootstrap.min.css set `[hidden] { display: none !important; }` so we also need the `!important` here to be able to override the default hidden behavior on the sphinx rendered scikit-learn.org. See: https://github.com/scikit-learn/scikit-learn/issues/21755 */display: inline-block !important;position: relative;}#sk-container-id-8 div.sk-text-repr-fallback {display: none;}</style><div id=\"sk-container-id-8\" class=\"sk-top-container\"><div class=\"sk-text-repr-fallback\"><pre>LinearRegression()</pre><b>In a Jupyter environment, please rerun this cell to show the HTML representation or trust the notebook. <br />On GitHub, the HTML representation is unable to render, please try loading this page with nbviewer.org.</b></div><div class=\"sk-container\" hidden><div class=\"sk-item\"><div class=\"sk-estimator sk-toggleable\"><input class=\"sk-toggleable__control sk-hidden--visually\" id=\"sk-estimator-id-8\" type=\"checkbox\" checked><label for=\"sk-estimator-id-8\" class=\"sk-toggleable__label sk-toggleable__label-arrow\">LinearRegression</label><div class=\"sk-toggleable__content\"><pre>LinearRegression()</pre></div></div></div></div></div>"
      ],
      "text/plain": [
       "LinearRegression()"
      ]
     },
     "execution_count": 119,
     "metadata": {},
     "output_type": "execute_result"
    }
   ],
   "source": [
    "model.fit(x_train, y_train)"
   ]
  },
  {
   "cell_type": "code",
   "execution_count": 120,
   "id": "62fc5964",
   "metadata": {
    "ExecuteTime": {
     "end_time": "2022-08-01T12:34:02.960027Z",
     "start_time": "2022-08-01T12:34:02.956461Z"
    }
   },
   "outputs": [],
   "source": [
    "coefficients = pd.DataFrame(model.coef_, x.columns, columns=['Coeff'])"
   ]
  },
  {
   "cell_type": "code",
   "execution_count": 121,
   "id": "a456128e",
   "metadata": {
    "ExecuteTime": {
     "end_time": "2022-08-01T12:34:03.946336Z",
     "start_time": "2022-08-01T12:34:03.935944Z"
    },
    "scrolled": true
   },
   "outputs": [
    {
     "data": {
      "text/html": [
       "<div>\n",
       "<style scoped>\n",
       "    .dataframe tbody tr th:only-of-type {\n",
       "        vertical-align: middle;\n",
       "    }\n",
       "\n",
       "    .dataframe tbody tr th {\n",
       "        vertical-align: top;\n",
       "    }\n",
       "\n",
       "    .dataframe thead th {\n",
       "        text-align: right;\n",
       "    }\n",
       "</style>\n",
       "<table border=\"1\" class=\"dataframe\">\n",
       "  <thead>\n",
       "    <tr style=\"text-align: right;\">\n",
       "      <th></th>\n",
       "      <th>Coeff</th>\n",
       "    </tr>\n",
       "  </thead>\n",
       "  <tbody>\n",
       "    <tr>\n",
       "      <th>2k</th>\n",
       "      <td>0.434244</td>\n",
       "    </tr>\n",
       "    <tr>\n",
       "      <th>4k</th>\n",
       "      <td>0.523486</td>\n",
       "    </tr>\n",
       "    <tr>\n",
       "      <th>6k</th>\n",
       "      <td>0.071230</td>\n",
       "    </tr>\n",
       "  </tbody>\n",
       "</table>\n",
       "</div>"
      ],
      "text/plain": [
       "       Coeff\n",
       "2k  0.434244\n",
       "4k  0.523486\n",
       "6k  0.071230"
      ]
     },
     "execution_count": 121,
     "metadata": {},
     "output_type": "execute_result"
    }
   ],
   "source": [
    "coefficients.head()"
   ]
  },
  {
   "cell_type": "code",
   "execution_count": 122,
   "id": "affaebb3",
   "metadata": {
    "ExecuteTime": {
     "end_time": "2022-08-01T12:34:08.930707Z",
     "start_time": "2022-08-01T12:34:08.910485Z"
    }
   },
   "outputs": [],
   "source": [
    "preds = model.predict(x_test)"
   ]
  },
  {
   "cell_type": "code",
   "execution_count": 131,
   "id": "41a02d4e",
   "metadata": {
    "ExecuteTime": {
     "end_time": "2022-08-01T12:39:14.531765Z",
     "start_time": "2022-08-01T12:39:14.246454Z"
    },
    "scrolled": true
   },
   "outputs": [],
   "source": [
    "get_5 = np.vectorize(get_closer_5_multi)\n",
    "preds = get_5(preds)"
   ]
  },
  {
   "cell_type": "code",
   "execution_count": 132,
   "id": "05e4bc66",
   "metadata": {
    "ExecuteTime": {
     "end_time": "2022-08-01T12:39:17.851383Z",
     "start_time": "2022-08-01T12:39:17.847204Z"
    }
   },
   "outputs": [
    {
     "data": {
      "text/plain": [
       "array([ 0.,  5.,  0., ..., 70.,  5., 10.])"
      ]
     },
     "execution_count": 132,
     "metadata": {},
     "output_type": "execute_result"
    }
   ],
   "source": [
    "preds"
   ]
  },
  {
   "cell_type": "code",
   "execution_count": 135,
   "id": "6a17008a",
   "metadata": {
    "ExecuteTime": {
     "end_time": "2022-08-01T12:42:55.383247Z",
     "start_time": "2022-08-01T12:42:55.349489Z"
    },
    "scrolled": true
   },
   "outputs": [
    {
     "name": "stdout",
     "output_type": "stream",
     "text": [
      "The Mean Absolute Error is 6\n",
      "The Mean Squared Error is 65\n",
      "The Root Mean Squared Error is 8\n",
      "The Adjusted R-Squared is 0.75\n"
     ]
    }
   ],
   "source": [
    "print(f\"The Mean Absolute Error is {round(mean_absolute_error(y_test,preds))}\")\n",
    "print(f\"The Mean Squared Error is {round(mean_squared_error(y_test,preds))}\")\n",
    "print(f\"The Root Mean Squared Error is {round(np.sqrt(mean_squared_error(y_test,preds)))}\")\n",
    "print(f\"The Adjusted R-Squared is {round(1 - (1 - r2_score(y_test, preds)) * (len(y) - 1) / (len(y) - x.shape[1] - 1),2)}\")"
   ]
  },
  {
   "cell_type": "code",
   "execution_count": 139,
   "id": "d3c5861d",
   "metadata": {
    "ExecuteTime": {
     "end_time": "2022-08-01T12:48:11.429628Z",
     "start_time": "2022-08-01T12:48:11.046661Z"
    }
   },
   "outputs": [],
   "source": [
    "count = 0\n",
    "for pred, gt in zip(list(preds), y_test.to_list()):\n",
    "    if pred==gt:\n",
    "        count+=1"
   ]
  },
  {
   "cell_type": "code",
   "execution_count": 142,
   "id": "1d1018db",
   "metadata": {
    "ExecuteTime": {
     "end_time": "2022-08-01T12:48:35.360340Z",
     "start_time": "2022-08-01T12:48:35.336808Z"
    }
   },
   "outputs": [
    {
     "data": {
      "text/plain": [
       "0.31958231081015004"
      ]
     },
     "execution_count": 142,
     "metadata": {},
     "output_type": "execute_result"
    }
   ],
   "source": [
    "count / len(y_test.to_list())"
   ]
  },
  {
   "cell_type": "code",
   "execution_count": null,
   "id": "2380ba1f",
   "metadata": {},
   "outputs": [],
   "source": []
  },
  {
   "cell_type": "code",
   "execution_count": 143,
   "id": "630d5449",
   "metadata": {
    "ExecuteTime": {
     "end_time": "2022-08-01T12:49:34.262548Z",
     "start_time": "2022-08-01T12:49:34.234190Z"
    }
   },
   "outputs": [],
   "source": [
    "x = df_audio[base_cols]\n",
    "y = df_audio['3k']"
   ]
  },
  {
   "cell_type": "code",
   "execution_count": 146,
   "id": "2298bdb3",
   "metadata": {
    "ExecuteTime": {
     "end_time": "2022-08-01T12:50:54.587007Z",
     "start_time": "2022-08-01T12:50:53.933009Z"
    }
   },
   "outputs": [],
   "source": [
    "x_train, x_test, y_train, y_test = train_test_split(x, y, test_size=0.33, random_state=123, shuffle=True)"
   ]
  },
  {
   "cell_type": "code",
   "execution_count": 147,
   "id": "a81e8056",
   "metadata": {
    "ExecuteTime": {
     "end_time": "2022-08-01T12:50:56.075095Z",
     "start_time": "2022-08-01T12:50:56.071759Z"
    }
   },
   "outputs": [],
   "source": [
    "model = XGBRegressor()"
   ]
  },
  {
   "cell_type": "code",
   "execution_count": 149,
   "id": "d0473bbd",
   "metadata": {
    "ExecuteTime": {
     "end_time": "2022-08-01T12:52:28.207470Z",
     "start_time": "2022-08-01T12:51:51.989279Z"
    }
   },
   "outputs": [
    {
     "data": {
      "text/html": [
       "<style>#sk-container-id-10 {color: black;background-color: white;}#sk-container-id-10 pre{padding: 0;}#sk-container-id-10 div.sk-toggleable {background-color: white;}#sk-container-id-10 label.sk-toggleable__label {cursor: pointer;display: block;width: 100%;margin-bottom: 0;padding: 0.3em;box-sizing: border-box;text-align: center;}#sk-container-id-10 label.sk-toggleable__label-arrow:before {content: \"▸\";float: left;margin-right: 0.25em;color: #696969;}#sk-container-id-10 label.sk-toggleable__label-arrow:hover:before {color: black;}#sk-container-id-10 div.sk-estimator:hover label.sk-toggleable__label-arrow:before {color: black;}#sk-container-id-10 div.sk-toggleable__content {max-height: 0;max-width: 0;overflow: hidden;text-align: left;background-color: #f0f8ff;}#sk-container-id-10 div.sk-toggleable__content pre {margin: 0.2em;color: black;border-radius: 0.25em;background-color: #f0f8ff;}#sk-container-id-10 input.sk-toggleable__control:checked~div.sk-toggleable__content {max-height: 200px;max-width: 100%;overflow: auto;}#sk-container-id-10 input.sk-toggleable__control:checked~label.sk-toggleable__label-arrow:before {content: \"▾\";}#sk-container-id-10 div.sk-estimator input.sk-toggleable__control:checked~label.sk-toggleable__label {background-color: #d4ebff;}#sk-container-id-10 div.sk-label input.sk-toggleable__control:checked~label.sk-toggleable__label {background-color: #d4ebff;}#sk-container-id-10 input.sk-hidden--visually {border: 0;clip: rect(1px 1px 1px 1px);clip: rect(1px, 1px, 1px, 1px);height: 1px;margin: -1px;overflow: hidden;padding: 0;position: absolute;width: 1px;}#sk-container-id-10 div.sk-estimator {font-family: monospace;background-color: #f0f8ff;border: 1px dotted black;border-radius: 0.25em;box-sizing: border-box;margin-bottom: 0.5em;}#sk-container-id-10 div.sk-estimator:hover {background-color: #d4ebff;}#sk-container-id-10 div.sk-parallel-item::after {content: \"\";width: 100%;border-bottom: 1px solid gray;flex-grow: 1;}#sk-container-id-10 div.sk-label:hover label.sk-toggleable__label {background-color: #d4ebff;}#sk-container-id-10 div.sk-serial::before {content: \"\";position: absolute;border-left: 1px solid gray;box-sizing: border-box;top: 0;bottom: 0;left: 50%;z-index: 0;}#sk-container-id-10 div.sk-serial {display: flex;flex-direction: column;align-items: center;background-color: white;padding-right: 0.2em;padding-left: 0.2em;position: relative;}#sk-container-id-10 div.sk-item {position: relative;z-index: 1;}#sk-container-id-10 div.sk-parallel {display: flex;align-items: stretch;justify-content: center;background-color: white;position: relative;}#sk-container-id-10 div.sk-item::before, #sk-container-id-10 div.sk-parallel-item::before {content: \"\";position: absolute;border-left: 1px solid gray;box-sizing: border-box;top: 0;bottom: 0;left: 50%;z-index: -1;}#sk-container-id-10 div.sk-parallel-item {display: flex;flex-direction: column;z-index: 1;position: relative;background-color: white;}#sk-container-id-10 div.sk-parallel-item:first-child::after {align-self: flex-end;width: 50%;}#sk-container-id-10 div.sk-parallel-item:last-child::after {align-self: flex-start;width: 50%;}#sk-container-id-10 div.sk-parallel-item:only-child::after {width: 0;}#sk-container-id-10 div.sk-dashed-wrapped {border: 1px dashed gray;margin: 0 0.4em 0.5em 0.4em;box-sizing: border-box;padding-bottom: 0.4em;background-color: white;}#sk-container-id-10 div.sk-label label {font-family: monospace;font-weight: bold;display: inline-block;line-height: 1.2em;}#sk-container-id-10 div.sk-label-container {text-align: center;}#sk-container-id-10 div.sk-container {/* jupyter's `normalize.less` sets `[hidden] { display: none; }` but bootstrap.min.css set `[hidden] { display: none !important; }` so we also need the `!important` here to be able to override the default hidden behavior on the sphinx rendered scikit-learn.org. See: https://github.com/scikit-learn/scikit-learn/issues/21755 */display: inline-block !important;position: relative;}#sk-container-id-10 div.sk-text-repr-fallback {display: none;}</style><div id=\"sk-container-id-10\" class=\"sk-top-container\"><div class=\"sk-text-repr-fallback\"><pre>XGBRegressor(base_score=0.5, booster=&#x27;gbtree&#x27;, callbacks=None,\n",
       "             colsample_bylevel=1, colsample_bynode=1, colsample_bytree=1,\n",
       "             early_stopping_rounds=None, enable_categorical=False,\n",
       "             eval_metric=None, gamma=0, gpu_id=-1, grow_policy=&#x27;depthwise&#x27;,\n",
       "             importance_type=None, interaction_constraints=&#x27;&#x27;,\n",
       "             learning_rate=0.300000012, max_bin=256, max_cat_to_onehot=4,\n",
       "             max_delta_step=0, max_depth=6, max_leaves=0, min_child_weight=1,\n",
       "             missing=nan, monotone_constraints=&#x27;()&#x27;, n_estimators=100, n_jobs=0,\n",
       "             num_parallel_tree=1, predictor=&#x27;auto&#x27;, random_state=0, reg_alpha=0,\n",
       "             reg_lambda=1, ...)</pre><b>In a Jupyter environment, please rerun this cell to show the HTML representation or trust the notebook. <br />On GitHub, the HTML representation is unable to render, please try loading this page with nbviewer.org.</b></div><div class=\"sk-container\" hidden><div class=\"sk-item\"><div class=\"sk-estimator sk-toggleable\"><input class=\"sk-toggleable__control sk-hidden--visually\" id=\"sk-estimator-id-10\" type=\"checkbox\" checked><label for=\"sk-estimator-id-10\" class=\"sk-toggleable__label sk-toggleable__label-arrow\">XGBRegressor</label><div class=\"sk-toggleable__content\"><pre>XGBRegressor(base_score=0.5, booster=&#x27;gbtree&#x27;, callbacks=None,\n",
       "             colsample_bylevel=1, colsample_bynode=1, colsample_bytree=1,\n",
       "             early_stopping_rounds=None, enable_categorical=False,\n",
       "             eval_metric=None, gamma=0, gpu_id=-1, grow_policy=&#x27;depthwise&#x27;,\n",
       "             importance_type=None, interaction_constraints=&#x27;&#x27;,\n",
       "             learning_rate=0.300000012, max_bin=256, max_cat_to_onehot=4,\n",
       "             max_delta_step=0, max_depth=6, max_leaves=0, min_child_weight=1,\n",
       "             missing=nan, monotone_constraints=&#x27;()&#x27;, n_estimators=100, n_jobs=0,\n",
       "             num_parallel_tree=1, predictor=&#x27;auto&#x27;, random_state=0, reg_alpha=0,\n",
       "             reg_lambda=1, ...)</pre></div></div></div></div></div>"
      ],
      "text/plain": [
       "XGBRegressor(base_score=0.5, booster='gbtree', callbacks=None,\n",
       "             colsample_bylevel=1, colsample_bynode=1, colsample_bytree=1,\n",
       "             early_stopping_rounds=None, enable_categorical=False,\n",
       "             eval_metric=None, gamma=0, gpu_id=-1, grow_policy='depthwise',\n",
       "             importance_type=None, interaction_constraints='',\n",
       "             learning_rate=0.300000012, max_bin=256, max_cat_to_onehot=4,\n",
       "             max_delta_step=0, max_depth=6, max_leaves=0, min_child_weight=1,\n",
       "             missing=nan, monotone_constraints='()', n_estimators=100, n_jobs=0,\n",
       "             num_parallel_tree=1, predictor='auto', random_state=0, reg_alpha=0,\n",
       "             reg_lambda=1, ...)"
      ]
     },
     "execution_count": 149,
     "metadata": {},
     "output_type": "execute_result"
    }
   ],
   "source": [
    "model.fit(x_train, y_train)"
   ]
  },
  {
   "cell_type": "code",
   "execution_count": 150,
   "id": "4cef4ef7",
   "metadata": {
    "ExecuteTime": {
     "end_time": "2022-08-01T12:52:30.899897Z",
     "start_time": "2022-08-01T12:52:30.624130Z"
    }
   },
   "outputs": [],
   "source": [
    "preds = model.predict(x_test)"
   ]
  },
  {
   "cell_type": "code",
   "execution_count": 151,
   "id": "8cc4dc20",
   "metadata": {
    "ExecuteTime": {
     "end_time": "2022-08-01T12:52:42.381261Z",
     "start_time": "2022-08-01T12:52:42.096739Z"
    }
   },
   "outputs": [],
   "source": [
    "get_5 = np.vectorize(get_closer_5_multi)\n",
    "preds = get_5(preds)"
   ]
  },
  {
   "cell_type": "code",
   "execution_count": 152,
   "id": "16426c80",
   "metadata": {
    "ExecuteTime": {
     "end_time": "2022-08-01T12:52:54.756093Z",
     "start_time": "2022-08-01T12:52:54.365903Z"
    }
   },
   "outputs": [],
   "source": [
    "count = 0\n",
    "for pred, gt in zip(list(preds), y_test.to_list()):\n",
    "    if pred==gt:\n",
    "        count+=1"
   ]
  },
  {
   "cell_type": "code",
   "execution_count": 154,
   "id": "9161f776",
   "metadata": {
    "ExecuteTime": {
     "end_time": "2022-08-01T12:53:06.890284Z",
     "start_time": "2022-08-01T12:53:06.872291Z"
    },
    "scrolled": true
   },
   "outputs": [
    {
     "data": {
      "text/plain": [
       "0.31828730881928596"
      ]
     },
     "execution_count": 154,
     "metadata": {},
     "output_type": "execute_result"
    }
   ],
   "source": [
    "count / len(y_test.to_list())"
   ]
  },
  {
   "cell_type": "code",
   "execution_count": null,
   "id": "28e235c9",
   "metadata": {},
   "outputs": [],
   "source": []
  },
  {
   "cell_type": "code",
   "execution_count": 155,
   "id": "702d0894",
   "metadata": {
    "ExecuteTime": {
     "end_time": "2022-08-01T13:02:45.243740Z",
     "start_time": "2022-08-01T13:02:45.239676Z"
    }
   },
   "outputs": [],
   "source": [
    "base_cols = ['500k','1k','2k','4k','6k','8k']"
   ]
  },
  {
   "cell_type": "code",
   "execution_count": 156,
   "id": "89a43187",
   "metadata": {
    "ExecuteTime": {
     "end_time": "2022-08-01T13:02:47.077011Z",
     "start_time": "2022-08-01T13:02:47.025579Z"
    }
   },
   "outputs": [],
   "source": [
    "x = df_audio[base_cols]\n",
    "y = df_audio['3k']"
   ]
  },
  {
   "cell_type": "code",
   "execution_count": 157,
   "id": "9afaca07",
   "metadata": {
    "ExecuteTime": {
     "end_time": "2022-08-01T13:02:57.509454Z",
     "start_time": "2022-08-01T13:02:56.762824Z"
    }
   },
   "outputs": [],
   "source": [
    "x_train, x_test, y_train, y_test = train_test_split(x, y, test_size=0.33, random_state=123, shuffle=True)"
   ]
  },
  {
   "cell_type": "code",
   "execution_count": 158,
   "id": "e9cfe917",
   "metadata": {
    "ExecuteTime": {
     "end_time": "2022-08-01T13:03:13.494640Z",
     "start_time": "2022-08-01T13:03:13.491536Z"
    }
   },
   "outputs": [],
   "source": [
    "model = LinearRegression()"
   ]
  },
  {
   "cell_type": "code",
   "execution_count": 159,
   "id": "bda9b4a4",
   "metadata": {
    "ExecuteTime": {
     "end_time": "2022-08-01T13:03:26.386821Z",
     "start_time": "2022-08-01T13:03:25.851723Z"
    }
   },
   "outputs": [
    {
     "data": {
      "text/html": [
       "<style>#sk-container-id-11 {color: black;background-color: white;}#sk-container-id-11 pre{padding: 0;}#sk-container-id-11 div.sk-toggleable {background-color: white;}#sk-container-id-11 label.sk-toggleable__label {cursor: pointer;display: block;width: 100%;margin-bottom: 0;padding: 0.3em;box-sizing: border-box;text-align: center;}#sk-container-id-11 label.sk-toggleable__label-arrow:before {content: \"▸\";float: left;margin-right: 0.25em;color: #696969;}#sk-container-id-11 label.sk-toggleable__label-arrow:hover:before {color: black;}#sk-container-id-11 div.sk-estimator:hover label.sk-toggleable__label-arrow:before {color: black;}#sk-container-id-11 div.sk-toggleable__content {max-height: 0;max-width: 0;overflow: hidden;text-align: left;background-color: #f0f8ff;}#sk-container-id-11 div.sk-toggleable__content pre {margin: 0.2em;color: black;border-radius: 0.25em;background-color: #f0f8ff;}#sk-container-id-11 input.sk-toggleable__control:checked~div.sk-toggleable__content {max-height: 200px;max-width: 100%;overflow: auto;}#sk-container-id-11 input.sk-toggleable__control:checked~label.sk-toggleable__label-arrow:before {content: \"▾\";}#sk-container-id-11 div.sk-estimator input.sk-toggleable__control:checked~label.sk-toggleable__label {background-color: #d4ebff;}#sk-container-id-11 div.sk-label input.sk-toggleable__control:checked~label.sk-toggleable__label {background-color: #d4ebff;}#sk-container-id-11 input.sk-hidden--visually {border: 0;clip: rect(1px 1px 1px 1px);clip: rect(1px, 1px, 1px, 1px);height: 1px;margin: -1px;overflow: hidden;padding: 0;position: absolute;width: 1px;}#sk-container-id-11 div.sk-estimator {font-family: monospace;background-color: #f0f8ff;border: 1px dotted black;border-radius: 0.25em;box-sizing: border-box;margin-bottom: 0.5em;}#sk-container-id-11 div.sk-estimator:hover {background-color: #d4ebff;}#sk-container-id-11 div.sk-parallel-item::after {content: \"\";width: 100%;border-bottom: 1px solid gray;flex-grow: 1;}#sk-container-id-11 div.sk-label:hover label.sk-toggleable__label {background-color: #d4ebff;}#sk-container-id-11 div.sk-serial::before {content: \"\";position: absolute;border-left: 1px solid gray;box-sizing: border-box;top: 0;bottom: 0;left: 50%;z-index: 0;}#sk-container-id-11 div.sk-serial {display: flex;flex-direction: column;align-items: center;background-color: white;padding-right: 0.2em;padding-left: 0.2em;position: relative;}#sk-container-id-11 div.sk-item {position: relative;z-index: 1;}#sk-container-id-11 div.sk-parallel {display: flex;align-items: stretch;justify-content: center;background-color: white;position: relative;}#sk-container-id-11 div.sk-item::before, #sk-container-id-11 div.sk-parallel-item::before {content: \"\";position: absolute;border-left: 1px solid gray;box-sizing: border-box;top: 0;bottom: 0;left: 50%;z-index: -1;}#sk-container-id-11 div.sk-parallel-item {display: flex;flex-direction: column;z-index: 1;position: relative;background-color: white;}#sk-container-id-11 div.sk-parallel-item:first-child::after {align-self: flex-end;width: 50%;}#sk-container-id-11 div.sk-parallel-item:last-child::after {align-self: flex-start;width: 50%;}#sk-container-id-11 div.sk-parallel-item:only-child::after {width: 0;}#sk-container-id-11 div.sk-dashed-wrapped {border: 1px dashed gray;margin: 0 0.4em 0.5em 0.4em;box-sizing: border-box;padding-bottom: 0.4em;background-color: white;}#sk-container-id-11 div.sk-label label {font-family: monospace;font-weight: bold;display: inline-block;line-height: 1.2em;}#sk-container-id-11 div.sk-label-container {text-align: center;}#sk-container-id-11 div.sk-container {/* jupyter's `normalize.less` sets `[hidden] { display: none; }` but bootstrap.min.css set `[hidden] { display: none !important; }` so we also need the `!important` here to be able to override the default hidden behavior on the sphinx rendered scikit-learn.org. See: https://github.com/scikit-learn/scikit-learn/issues/21755 */display: inline-block !important;position: relative;}#sk-container-id-11 div.sk-text-repr-fallback {display: none;}</style><div id=\"sk-container-id-11\" class=\"sk-top-container\"><div class=\"sk-text-repr-fallback\"><pre>LinearRegression()</pre><b>In a Jupyter environment, please rerun this cell to show the HTML representation or trust the notebook. <br />On GitHub, the HTML representation is unable to render, please try loading this page with nbviewer.org.</b></div><div class=\"sk-container\" hidden><div class=\"sk-item\"><div class=\"sk-estimator sk-toggleable\"><input class=\"sk-toggleable__control sk-hidden--visually\" id=\"sk-estimator-id-11\" type=\"checkbox\" checked><label for=\"sk-estimator-id-11\" class=\"sk-toggleable__label sk-toggleable__label-arrow\">LinearRegression</label><div class=\"sk-toggleable__content\"><pre>LinearRegression()</pre></div></div></div></div></div>"
      ],
      "text/plain": [
       "LinearRegression()"
      ]
     },
     "execution_count": 159,
     "metadata": {},
     "output_type": "execute_result"
    }
   ],
   "source": [
    "model.fit(x_train, y_train)"
   ]
  },
  {
   "cell_type": "code",
   "execution_count": 161,
   "id": "e85ef91a",
   "metadata": {
    "ExecuteTime": {
     "end_time": "2022-08-01T13:03:41.074538Z",
     "start_time": "2022-08-01T13:03:41.065725Z"
    }
   },
   "outputs": [
    {
     "data": {
      "text/html": [
       "<div>\n",
       "<style scoped>\n",
       "    .dataframe tbody tr th:only-of-type {\n",
       "        vertical-align: middle;\n",
       "    }\n",
       "\n",
       "    .dataframe tbody tr th {\n",
       "        vertical-align: top;\n",
       "    }\n",
       "\n",
       "    .dataframe thead th {\n",
       "        text-align: right;\n",
       "    }\n",
       "</style>\n",
       "<table border=\"1\" class=\"dataframe\">\n",
       "  <thead>\n",
       "    <tr style=\"text-align: right;\">\n",
       "      <th></th>\n",
       "      <th>Coeff</th>\n",
       "    </tr>\n",
       "  </thead>\n",
       "  <tbody>\n",
       "    <tr>\n",
       "      <th>500k</th>\n",
       "      <td>-0.006179</td>\n",
       "    </tr>\n",
       "    <tr>\n",
       "      <th>1k</th>\n",
       "      <td>-0.048957</td>\n",
       "    </tr>\n",
       "    <tr>\n",
       "      <th>2k</th>\n",
       "      <td>0.456740</td>\n",
       "    </tr>\n",
       "    <tr>\n",
       "      <th>4k</th>\n",
       "      <td>0.521516</td>\n",
       "    </tr>\n",
       "    <tr>\n",
       "      <th>6k</th>\n",
       "      <td>0.066387</td>\n",
       "    </tr>\n",
       "    <tr>\n",
       "      <th>8k</th>\n",
       "      <td>0.012538</td>\n",
       "    </tr>\n",
       "  </tbody>\n",
       "</table>\n",
       "</div>"
      ],
      "text/plain": [
       "         Coeff\n",
       "500k -0.006179\n",
       "1k   -0.048957\n",
       "2k    0.456740\n",
       "4k    0.521516\n",
       "6k    0.066387\n",
       "8k    0.012538"
      ]
     },
     "execution_count": 161,
     "metadata": {},
     "output_type": "execute_result"
    }
   ],
   "source": [
    "coefficients = pd.DataFrame(model.coef_, x.columns, columns=['Coeff'])\n",
    "coefficients"
   ]
  },
  {
   "cell_type": "code",
   "execution_count": 162,
   "id": "4f098736",
   "metadata": {
    "ExecuteTime": {
     "end_time": "2022-08-01T13:18:05.203166Z",
     "start_time": "2022-08-01T13:18:05.171918Z"
    }
   },
   "outputs": [],
   "source": [
    "preds = model.predict(x_test)"
   ]
  },
  {
   "cell_type": "code",
   "execution_count": 163,
   "id": "935fe006",
   "metadata": {
    "ExecuteTime": {
     "end_time": "2022-08-01T13:18:13.813315Z",
     "start_time": "2022-08-01T13:18:13.526461Z"
    }
   },
   "outputs": [],
   "source": [
    "get_5 = np.vectorize(get_closer_5_multi)\n",
    "preds = get_5(preds)"
   ]
  },
  {
   "cell_type": "code",
   "execution_count": 164,
   "id": "2ece9e9c",
   "metadata": {
    "ExecuteTime": {
     "end_time": "2022-08-01T13:18:24.608720Z",
     "start_time": "2022-08-01T13:18:24.580460Z"
    },
    "scrolled": true
   },
   "outputs": [
    {
     "name": "stdout",
     "output_type": "stream",
     "text": [
      "The Mean Absolute Error is 6\n",
      "The Mean Squared Error is 65\n",
      "The Root Mean Squared Error is 8\n",
      "The Adjusted R-Squared is 0.75\n"
     ]
    }
   ],
   "source": [
    "print(f\"The Mean Absolute Error is {round(mean_absolute_error(y_test,preds))}\")\n",
    "print(f\"The Mean Squared Error is {round(mean_squared_error(y_test,preds))}\")\n",
    "print(f\"The Root Mean Squared Error is {round(np.sqrt(mean_squared_error(y_test,preds)))}\")\n",
    "print(f\"The Adjusted R-Squared is {round(1 - (1 - r2_score(y_test, preds)) * (len(y) - 1) / (len(y) - x.shape[1] - 1),2)}\")"
   ]
  },
  {
   "cell_type": "code",
   "execution_count": null,
   "id": "80815ffd",
   "metadata": {},
   "outputs": [],
   "source": []
  },
  {
   "cell_type": "markdown",
   "id": "77a7ecbb",
   "metadata": {},
   "source": [
    "## 2 Experiment - KNN"
   ]
  },
  {
   "cell_type": "code",
   "execution_count": 162,
   "id": "224e17e2",
   "metadata": {
    "ExecuteTime": {
     "end_time": "2022-08-01T18:51:02.363107Z",
     "start_time": "2022-08-01T18:51:02.358483Z"
    }
   },
   "outputs": [],
   "source": [
    "base_cols = ['2k','4k','6k']"
   ]
  },
  {
   "cell_type": "code",
   "execution_count": 163,
   "id": "91a3c432",
   "metadata": {
    "ExecuteTime": {
     "end_time": "2022-08-01T18:51:02.812722Z",
     "start_time": "2022-08-01T18:51:02.776526Z"
    }
   },
   "outputs": [],
   "source": [
    "x = df_audio[base_cols]\n",
    "y = df_audio['3k']\n",
    "X_train, X_test, y_train, y_test = train_test_split(x, y, test_size=0.33, random_state=123, shuffle=True)"
   ]
  },
  {
   "cell_type": "code",
   "execution_count": 197,
   "id": "97477141",
   "metadata": {
    "ExecuteTime": {
     "end_time": "2022-08-01T18:54:01.266049Z",
     "start_time": "2022-08-01T18:54:01.261495Z"
    }
   },
   "outputs": [],
   "source": [
    "knn = KNeighborsRegressor(n_neighbors=7)"
   ]
  },
  {
   "cell_type": "code",
   "execution_count": 198,
   "id": "ee12bfe2",
   "metadata": {
    "ExecuteTime": {
     "end_time": "2022-08-01T18:54:02.845983Z",
     "start_time": "2022-08-01T18:54:02.707378Z"
    }
   },
   "outputs": [
    {
     "data": {
      "text/html": [
       "<style>#sk-container-id-7 {color: black;background-color: white;}#sk-container-id-7 pre{padding: 0;}#sk-container-id-7 div.sk-toggleable {background-color: white;}#sk-container-id-7 label.sk-toggleable__label {cursor: pointer;display: block;width: 100%;margin-bottom: 0;padding: 0.3em;box-sizing: border-box;text-align: center;}#sk-container-id-7 label.sk-toggleable__label-arrow:before {content: \"▸\";float: left;margin-right: 0.25em;color: #696969;}#sk-container-id-7 label.sk-toggleable__label-arrow:hover:before {color: black;}#sk-container-id-7 div.sk-estimator:hover label.sk-toggleable__label-arrow:before {color: black;}#sk-container-id-7 div.sk-toggleable__content {max-height: 0;max-width: 0;overflow: hidden;text-align: left;background-color: #f0f8ff;}#sk-container-id-7 div.sk-toggleable__content pre {margin: 0.2em;color: black;border-radius: 0.25em;background-color: #f0f8ff;}#sk-container-id-7 input.sk-toggleable__control:checked~div.sk-toggleable__content {max-height: 200px;max-width: 100%;overflow: auto;}#sk-container-id-7 input.sk-toggleable__control:checked~label.sk-toggleable__label-arrow:before {content: \"▾\";}#sk-container-id-7 div.sk-estimator input.sk-toggleable__control:checked~label.sk-toggleable__label {background-color: #d4ebff;}#sk-container-id-7 div.sk-label input.sk-toggleable__control:checked~label.sk-toggleable__label {background-color: #d4ebff;}#sk-container-id-7 input.sk-hidden--visually {border: 0;clip: rect(1px 1px 1px 1px);clip: rect(1px, 1px, 1px, 1px);height: 1px;margin: -1px;overflow: hidden;padding: 0;position: absolute;width: 1px;}#sk-container-id-7 div.sk-estimator {font-family: monospace;background-color: #f0f8ff;border: 1px dotted black;border-radius: 0.25em;box-sizing: border-box;margin-bottom: 0.5em;}#sk-container-id-7 div.sk-estimator:hover {background-color: #d4ebff;}#sk-container-id-7 div.sk-parallel-item::after {content: \"\";width: 100%;border-bottom: 1px solid gray;flex-grow: 1;}#sk-container-id-7 div.sk-label:hover label.sk-toggleable__label {background-color: #d4ebff;}#sk-container-id-7 div.sk-serial::before {content: \"\";position: absolute;border-left: 1px solid gray;box-sizing: border-box;top: 0;bottom: 0;left: 50%;z-index: 0;}#sk-container-id-7 div.sk-serial {display: flex;flex-direction: column;align-items: center;background-color: white;padding-right: 0.2em;padding-left: 0.2em;position: relative;}#sk-container-id-7 div.sk-item {position: relative;z-index: 1;}#sk-container-id-7 div.sk-parallel {display: flex;align-items: stretch;justify-content: center;background-color: white;position: relative;}#sk-container-id-7 div.sk-item::before, #sk-container-id-7 div.sk-parallel-item::before {content: \"\";position: absolute;border-left: 1px solid gray;box-sizing: border-box;top: 0;bottom: 0;left: 50%;z-index: -1;}#sk-container-id-7 div.sk-parallel-item {display: flex;flex-direction: column;z-index: 1;position: relative;background-color: white;}#sk-container-id-7 div.sk-parallel-item:first-child::after {align-self: flex-end;width: 50%;}#sk-container-id-7 div.sk-parallel-item:last-child::after {align-self: flex-start;width: 50%;}#sk-container-id-7 div.sk-parallel-item:only-child::after {width: 0;}#sk-container-id-7 div.sk-dashed-wrapped {border: 1px dashed gray;margin: 0 0.4em 0.5em 0.4em;box-sizing: border-box;padding-bottom: 0.4em;background-color: white;}#sk-container-id-7 div.sk-label label {font-family: monospace;font-weight: bold;display: inline-block;line-height: 1.2em;}#sk-container-id-7 div.sk-label-container {text-align: center;}#sk-container-id-7 div.sk-container {/* jupyter's `normalize.less` sets `[hidden] { display: none; }` but bootstrap.min.css set `[hidden] { display: none !important; }` so we also need the `!important` here to be able to override the default hidden behavior on the sphinx rendered scikit-learn.org. See: https://github.com/scikit-learn/scikit-learn/issues/21755 */display: inline-block !important;position: relative;}#sk-container-id-7 div.sk-text-repr-fallback {display: none;}</style><div id=\"sk-container-id-7\" class=\"sk-top-container\"><div class=\"sk-text-repr-fallback\"><pre>KNeighborsRegressor(n_neighbors=7)</pre><b>In a Jupyter environment, please rerun this cell to show the HTML representation or trust the notebook. <br />On GitHub, the HTML representation is unable to render, please try loading this page with nbviewer.org.</b></div><div class=\"sk-container\" hidden><div class=\"sk-item\"><div class=\"sk-estimator sk-toggleable\"><input class=\"sk-toggleable__control sk-hidden--visually\" id=\"sk-estimator-id-7\" type=\"checkbox\" checked><label for=\"sk-estimator-id-7\" class=\"sk-toggleable__label sk-toggleable__label-arrow\">KNeighborsRegressor</label><div class=\"sk-toggleable__content\"><pre>KNeighborsRegressor(n_neighbors=7)</pre></div></div></div></div></div>"
      ],
      "text/plain": [
       "KNeighborsRegressor(n_neighbors=7)"
      ]
     },
     "execution_count": 198,
     "metadata": {},
     "output_type": "execute_result"
    }
   ],
   "source": [
    "knn.fit(X_train, y_train)"
   ]
  },
  {
   "cell_type": "code",
   "execution_count": 199,
   "id": "e7c016e3",
   "metadata": {
    "ExecuteTime": {
     "end_time": "2022-08-01T18:54:07.820605Z",
     "start_time": "2022-08-01T18:54:04.120826Z"
    },
    "scrolled": true
   },
   "outputs": [
    {
     "data": {
      "text/plain": [
       "0.7650631025068291"
      ]
     },
     "execution_count": 199,
     "metadata": {},
     "output_type": "execute_result"
    }
   ],
   "source": [
    "knn.score(X_test, y_test)"
   ]
  },
  {
   "cell_type": "code",
   "execution_count": 200,
   "id": "d46edb66",
   "metadata": {
    "ExecuteTime": {
     "end_time": "2022-08-01T18:54:11.511699Z",
     "start_time": "2022-08-01T18:54:07.823272Z"
    }
   },
   "outputs": [],
   "source": [
    "preds = knn.predict(X_test)"
   ]
  },
  {
   "cell_type": "code",
   "execution_count": 201,
   "id": "730af8da",
   "metadata": {
    "ExecuteTime": {
     "end_time": "2022-08-01T18:54:11.533489Z",
     "start_time": "2022-08-01T18:54:11.513559Z"
    }
   },
   "outputs": [],
   "source": [
    "get_5 = np.vectorize(get_closer_5_multi)\n",
    "preds = get_5(preds)"
   ]
  },
  {
   "cell_type": "code",
   "execution_count": 202,
   "id": "18e8953a",
   "metadata": {
    "ExecuteTime": {
     "end_time": "2022-08-01T18:54:11.561785Z",
     "start_time": "2022-08-01T18:54:11.535508Z"
    }
   },
   "outputs": [],
   "source": [
    "count=0\n",
    "for pred, gt in zip(preds, y_test):\n",
    "    if pred==gt:\n",
    "        count+=1"
   ]
  },
  {
   "cell_type": "code",
   "execution_count": 203,
   "id": "b54f6c3e",
   "metadata": {
    "ExecuteTime": {
     "end_time": "2022-08-01T18:54:11.568112Z",
     "start_time": "2022-08-01T18:54:11.563682Z"
    }
   },
   "outputs": [
    {
     "data": {
      "text/plain": [
       "0.33105050505050504"
      ]
     },
     "execution_count": 203,
     "metadata": {},
     "output_type": "execute_result"
    }
   ],
   "source": [
    "count / len(preds)"
   ]
  },
  {
   "cell_type": "markdown",
   "id": "ce5358d8",
   "metadata": {},
   "source": [
    "## 3 Experiment - MICE"
   ]
  },
  {
   "cell_type": "code",
   "execution_count": 13,
   "id": "3f5e87ac",
   "metadata": {
    "ExecuteTime": {
     "end_time": "2022-08-01T17:13:50.552066Z",
     "start_time": "2022-08-01T17:13:50.547577Z"
    }
   },
   "outputs": [],
   "source": [
    "df_audio_t = df_audio.iloc[:,2:6]"
   ]
  },
  {
   "cell_type": "code",
   "execution_count": 14,
   "id": "cc424ffd",
   "metadata": {
    "ExecuteTime": {
     "end_time": "2022-08-01T17:13:54.150380Z",
     "start_time": "2022-08-01T17:13:54.134774Z"
    }
   },
   "outputs": [
    {
     "data": {
      "text/html": [
       "<div>\n",
       "<style scoped>\n",
       "    .dataframe tbody tr th:only-of-type {\n",
       "        vertical-align: middle;\n",
       "    }\n",
       "\n",
       "    .dataframe tbody tr th {\n",
       "        vertical-align: top;\n",
       "    }\n",
       "\n",
       "    .dataframe thead th {\n",
       "        text-align: right;\n",
       "    }\n",
       "</style>\n",
       "<table border=\"1\" class=\"dataframe\">\n",
       "  <thead>\n",
       "    <tr style=\"text-align: right;\">\n",
       "      <th></th>\n",
       "      <th>2k</th>\n",
       "      <th>3k</th>\n",
       "      <th>4k</th>\n",
       "      <th>6k</th>\n",
       "    </tr>\n",
       "  </thead>\n",
       "  <tbody>\n",
       "    <tr>\n",
       "      <th>0</th>\n",
       "      <td>0</td>\n",
       "      <td>0</td>\n",
       "      <td>5</td>\n",
       "      <td>15</td>\n",
       "    </tr>\n",
       "    <tr>\n",
       "      <th>1</th>\n",
       "      <td>10</td>\n",
       "      <td>20</td>\n",
       "      <td>10</td>\n",
       "      <td>5</td>\n",
       "    </tr>\n",
       "    <tr>\n",
       "      <th>2</th>\n",
       "      <td>0</td>\n",
       "      <td>0</td>\n",
       "      <td>0</td>\n",
       "      <td>25</td>\n",
       "    </tr>\n",
       "    <tr>\n",
       "      <th>3</th>\n",
       "      <td>5</td>\n",
       "      <td>5</td>\n",
       "      <td>10</td>\n",
       "      <td>15</td>\n",
       "    </tr>\n",
       "    <tr>\n",
       "      <th>4</th>\n",
       "      <td>5</td>\n",
       "      <td>5</td>\n",
       "      <td>0</td>\n",
       "      <td>10</td>\n",
       "    </tr>\n",
       "    <tr>\n",
       "      <th>...</th>\n",
       "      <td>...</td>\n",
       "      <td>...</td>\n",
       "      <td>...</td>\n",
       "      <td>...</td>\n",
       "    </tr>\n",
       "    <tr>\n",
       "      <th>299995</th>\n",
       "      <td>10</td>\n",
       "      <td>20</td>\n",
       "      <td>15</td>\n",
       "      <td>20</td>\n",
       "    </tr>\n",
       "    <tr>\n",
       "      <th>299996</th>\n",
       "      <td>10</td>\n",
       "      <td>50</td>\n",
       "      <td>55</td>\n",
       "      <td>50</td>\n",
       "    </tr>\n",
       "    <tr>\n",
       "      <th>299997</th>\n",
       "      <td>35</td>\n",
       "      <td>55</td>\n",
       "      <td>50</td>\n",
       "      <td>65</td>\n",
       "    </tr>\n",
       "    <tr>\n",
       "      <th>299998</th>\n",
       "      <td>5</td>\n",
       "      <td>25</td>\n",
       "      <td>65</td>\n",
       "      <td>30</td>\n",
       "    </tr>\n",
       "    <tr>\n",
       "      <th>299999</th>\n",
       "      <td>5</td>\n",
       "      <td>5</td>\n",
       "      <td>40</td>\n",
       "      <td>45</td>\n",
       "    </tr>\n",
       "  </tbody>\n",
       "</table>\n",
       "<p>300000 rows × 4 columns</p>\n",
       "</div>"
      ],
      "text/plain": [
       "        2k  3k  4k  6k\n",
       "0        0   0   5  15\n",
       "1       10  20  10   5\n",
       "2        0   0   0  25\n",
       "3        5   5  10  15\n",
       "4        5   5   0  10\n",
       "...     ..  ..  ..  ..\n",
       "299995  10  20  15  20\n",
       "299996  10  50  55  50\n",
       "299997  35  55  50  65\n",
       "299998   5  25  65  30\n",
       "299999   5   5  40  45\n",
       "\n",
       "[300000 rows x 4 columns]"
      ]
     },
     "execution_count": 14,
     "metadata": {},
     "output_type": "execute_result"
    }
   ],
   "source": [
    "df_audio_t"
   ]
  },
  {
   "cell_type": "code",
   "execution_count": 17,
   "id": "d5eaa794",
   "metadata": {
    "ExecuteTime": {
     "end_time": "2022-08-01T17:15:36.306088Z",
     "start_time": "2022-08-01T17:15:36.209378Z"
    }
   },
   "outputs": [],
   "source": [
    "df_audio_t.loc[len(df_audio_t.index)] = [5,np.nan,10,5]"
   ]
  },
  {
   "cell_type": "code",
   "execution_count": 22,
   "id": "9918c217",
   "metadata": {
    "ExecuteTime": {
     "end_time": "2022-08-01T17:17:42.351693Z",
     "start_time": "2022-08-01T17:17:41.034136Z"
    },
    "collapsed": true
   },
   "outputs": [
    {
     "ename": "IntCastingNaNError",
     "evalue": "Cannot convert non-finite values (NA or inf) to integer",
     "output_type": "error",
     "traceback": [
      "\u001b[0;31m---------------------------------------------------------------------------\u001b[0m",
      "\u001b[0;31mIntCastingNaNError\u001b[0m                        Traceback (most recent call last)",
      "Input \u001b[0;32mIn [22]\u001b[0m, in \u001b[0;36m<cell line: 2>\u001b[0;34m()\u001b[0m\n\u001b[1;32m      1\u001b[0m \u001b[38;5;66;03m# Frequencies -128/127 int8\u001b[39;00m\n\u001b[1;32m      2\u001b[0m \u001b[38;5;28;01mfor\u001b[39;00m c \u001b[38;5;129;01min\u001b[39;00m df_audio_t\u001b[38;5;241m.\u001b[39mcolumns:\n\u001b[0;32m----> 3\u001b[0m     df_audio_t[c] \u001b[38;5;241m=\u001b[39m \u001b[43mdf_audio_t\u001b[49m\u001b[43m[\u001b[49m\u001b[43mc\u001b[49m\u001b[43m]\u001b[49m\u001b[38;5;241;43m.\u001b[39;49m\u001b[43mastype\u001b[49m\u001b[43m(\u001b[49m\u001b[38;5;124;43m'\u001b[39;49m\u001b[38;5;124;43mint8\u001b[39;49m\u001b[38;5;124;43m'\u001b[39;49m\u001b[43m)\u001b[49m\n",
      "File \u001b[0;32m~/.local/lib/python3.10/site-packages/pandas/core/generic.py:5912\u001b[0m, in \u001b[0;36mNDFrame.astype\u001b[0;34m(self, dtype, copy, errors)\u001b[0m\n\u001b[1;32m   5905\u001b[0m     results \u001b[38;5;241m=\u001b[39m [\n\u001b[1;32m   5906\u001b[0m         \u001b[38;5;28mself\u001b[39m\u001b[38;5;241m.\u001b[39miloc[:, i]\u001b[38;5;241m.\u001b[39mastype(dtype, copy\u001b[38;5;241m=\u001b[39mcopy)\n\u001b[1;32m   5907\u001b[0m         \u001b[38;5;28;01mfor\u001b[39;00m i \u001b[38;5;129;01min\u001b[39;00m \u001b[38;5;28mrange\u001b[39m(\u001b[38;5;28mlen\u001b[39m(\u001b[38;5;28mself\u001b[39m\u001b[38;5;241m.\u001b[39mcolumns))\n\u001b[1;32m   5908\u001b[0m     ]\n\u001b[1;32m   5910\u001b[0m \u001b[38;5;28;01melse\u001b[39;00m:\n\u001b[1;32m   5911\u001b[0m     \u001b[38;5;66;03m# else, only a single dtype is given\u001b[39;00m\n\u001b[0;32m-> 5912\u001b[0m     new_data \u001b[38;5;241m=\u001b[39m \u001b[38;5;28;43mself\u001b[39;49m\u001b[38;5;241;43m.\u001b[39;49m\u001b[43m_mgr\u001b[49m\u001b[38;5;241;43m.\u001b[39;49m\u001b[43mastype\u001b[49m\u001b[43m(\u001b[49m\u001b[43mdtype\u001b[49m\u001b[38;5;241;43m=\u001b[39;49m\u001b[43mdtype\u001b[49m\u001b[43m,\u001b[49m\u001b[43m \u001b[49m\u001b[43mcopy\u001b[49m\u001b[38;5;241;43m=\u001b[39;49m\u001b[43mcopy\u001b[49m\u001b[43m,\u001b[49m\u001b[43m \u001b[49m\u001b[43merrors\u001b[49m\u001b[38;5;241;43m=\u001b[39;49m\u001b[43merrors\u001b[49m\u001b[43m)\u001b[49m\n\u001b[1;32m   5913\u001b[0m     \u001b[38;5;28;01mreturn\u001b[39;00m \u001b[38;5;28mself\u001b[39m\u001b[38;5;241m.\u001b[39m_constructor(new_data)\u001b[38;5;241m.\u001b[39m__finalize__(\u001b[38;5;28mself\u001b[39m, method\u001b[38;5;241m=\u001b[39m\u001b[38;5;124m\"\u001b[39m\u001b[38;5;124mastype\u001b[39m\u001b[38;5;124m\"\u001b[39m)\n\u001b[1;32m   5915\u001b[0m \u001b[38;5;66;03m# GH 33113: handle empty frame or series\u001b[39;00m\n",
      "File \u001b[0;32m~/.local/lib/python3.10/site-packages/pandas/core/internals/managers.py:419\u001b[0m, in \u001b[0;36mBaseBlockManager.astype\u001b[0;34m(self, dtype, copy, errors)\u001b[0m\n\u001b[1;32m    418\u001b[0m \u001b[38;5;28;01mdef\u001b[39;00m \u001b[38;5;21mastype\u001b[39m(\u001b[38;5;28mself\u001b[39m: T, dtype, copy: \u001b[38;5;28mbool\u001b[39m \u001b[38;5;241m=\u001b[39m \u001b[38;5;28;01mFalse\u001b[39;00m, errors: \u001b[38;5;28mstr\u001b[39m \u001b[38;5;241m=\u001b[39m \u001b[38;5;124m\"\u001b[39m\u001b[38;5;124mraise\u001b[39m\u001b[38;5;124m\"\u001b[39m) \u001b[38;5;241m-\u001b[39m\u001b[38;5;241m>\u001b[39m T:\n\u001b[0;32m--> 419\u001b[0m     \u001b[38;5;28;01mreturn\u001b[39;00m \u001b[38;5;28;43mself\u001b[39;49m\u001b[38;5;241;43m.\u001b[39;49m\u001b[43mapply\u001b[49m\u001b[43m(\u001b[49m\u001b[38;5;124;43m\"\u001b[39;49m\u001b[38;5;124;43mastype\u001b[39;49m\u001b[38;5;124;43m\"\u001b[39;49m\u001b[43m,\u001b[49m\u001b[43m \u001b[49m\u001b[43mdtype\u001b[49m\u001b[38;5;241;43m=\u001b[39;49m\u001b[43mdtype\u001b[49m\u001b[43m,\u001b[49m\u001b[43m \u001b[49m\u001b[43mcopy\u001b[49m\u001b[38;5;241;43m=\u001b[39;49m\u001b[43mcopy\u001b[49m\u001b[43m,\u001b[49m\u001b[43m \u001b[49m\u001b[43merrors\u001b[49m\u001b[38;5;241;43m=\u001b[39;49m\u001b[43merrors\u001b[49m\u001b[43m)\u001b[49m\n",
      "File \u001b[0;32m~/.local/lib/python3.10/site-packages/pandas/core/internals/managers.py:304\u001b[0m, in \u001b[0;36mBaseBlockManager.apply\u001b[0;34m(self, f, align_keys, ignore_failures, **kwargs)\u001b[0m\n\u001b[1;32m    302\u001b[0m         applied \u001b[38;5;241m=\u001b[39m b\u001b[38;5;241m.\u001b[39mapply(f, \u001b[38;5;241m*\u001b[39m\u001b[38;5;241m*\u001b[39mkwargs)\n\u001b[1;32m    303\u001b[0m     \u001b[38;5;28;01melse\u001b[39;00m:\n\u001b[0;32m--> 304\u001b[0m         applied \u001b[38;5;241m=\u001b[39m \u001b[38;5;28;43mgetattr\u001b[39;49m\u001b[43m(\u001b[49m\u001b[43mb\u001b[49m\u001b[43m,\u001b[49m\u001b[43m \u001b[49m\u001b[43mf\u001b[49m\u001b[43m)\u001b[49m\u001b[43m(\u001b[49m\u001b[38;5;241;43m*\u001b[39;49m\u001b[38;5;241;43m*\u001b[39;49m\u001b[43mkwargs\u001b[49m\u001b[43m)\u001b[49m\n\u001b[1;32m    305\u001b[0m \u001b[38;5;28;01mexcept\u001b[39;00m (\u001b[38;5;167;01mTypeError\u001b[39;00m, \u001b[38;5;167;01mNotImplementedError\u001b[39;00m):\n\u001b[1;32m    306\u001b[0m     \u001b[38;5;28;01mif\u001b[39;00m \u001b[38;5;129;01mnot\u001b[39;00m ignore_failures:\n",
      "File \u001b[0;32m~/.local/lib/python3.10/site-packages/pandas/core/internals/blocks.py:580\u001b[0m, in \u001b[0;36mBlock.astype\u001b[0;34m(self, dtype, copy, errors)\u001b[0m\n\u001b[1;32m    562\u001b[0m \u001b[38;5;124;03m\"\"\"\u001b[39;00m\n\u001b[1;32m    563\u001b[0m \u001b[38;5;124;03mCoerce to the new dtype.\u001b[39;00m\n\u001b[1;32m    564\u001b[0m \n\u001b[0;32m   (...)\u001b[0m\n\u001b[1;32m    576\u001b[0m \u001b[38;5;124;03mBlock\u001b[39;00m\n\u001b[1;32m    577\u001b[0m \u001b[38;5;124;03m\"\"\"\u001b[39;00m\n\u001b[1;32m    578\u001b[0m values \u001b[38;5;241m=\u001b[39m \u001b[38;5;28mself\u001b[39m\u001b[38;5;241m.\u001b[39mvalues\n\u001b[0;32m--> 580\u001b[0m new_values \u001b[38;5;241m=\u001b[39m \u001b[43mastype_array_safe\u001b[49m\u001b[43m(\u001b[49m\u001b[43mvalues\u001b[49m\u001b[43m,\u001b[49m\u001b[43m \u001b[49m\u001b[43mdtype\u001b[49m\u001b[43m,\u001b[49m\u001b[43m \u001b[49m\u001b[43mcopy\u001b[49m\u001b[38;5;241;43m=\u001b[39;49m\u001b[43mcopy\u001b[49m\u001b[43m,\u001b[49m\u001b[43m \u001b[49m\u001b[43merrors\u001b[49m\u001b[38;5;241;43m=\u001b[39;49m\u001b[43merrors\u001b[49m\u001b[43m)\u001b[49m\n\u001b[1;32m    582\u001b[0m new_values \u001b[38;5;241m=\u001b[39m maybe_coerce_values(new_values)\n\u001b[1;32m    583\u001b[0m newb \u001b[38;5;241m=\u001b[39m \u001b[38;5;28mself\u001b[39m\u001b[38;5;241m.\u001b[39mmake_block(new_values)\n",
      "File \u001b[0;32m~/.local/lib/python3.10/site-packages/pandas/core/dtypes/cast.py:1292\u001b[0m, in \u001b[0;36mastype_array_safe\u001b[0;34m(values, dtype, copy, errors)\u001b[0m\n\u001b[1;32m   1289\u001b[0m     dtype \u001b[38;5;241m=\u001b[39m dtype\u001b[38;5;241m.\u001b[39mnumpy_dtype\n\u001b[1;32m   1291\u001b[0m \u001b[38;5;28;01mtry\u001b[39;00m:\n\u001b[0;32m-> 1292\u001b[0m     new_values \u001b[38;5;241m=\u001b[39m \u001b[43mastype_array\u001b[49m\u001b[43m(\u001b[49m\u001b[43mvalues\u001b[49m\u001b[43m,\u001b[49m\u001b[43m \u001b[49m\u001b[43mdtype\u001b[49m\u001b[43m,\u001b[49m\u001b[43m \u001b[49m\u001b[43mcopy\u001b[49m\u001b[38;5;241;43m=\u001b[39;49m\u001b[43mcopy\u001b[49m\u001b[43m)\u001b[49m\n\u001b[1;32m   1293\u001b[0m \u001b[38;5;28;01mexcept\u001b[39;00m (\u001b[38;5;167;01mValueError\u001b[39;00m, \u001b[38;5;167;01mTypeError\u001b[39;00m):\n\u001b[1;32m   1294\u001b[0m     \u001b[38;5;66;03m# e.g. astype_nansafe can fail on object-dtype of strings\u001b[39;00m\n\u001b[1;32m   1295\u001b[0m     \u001b[38;5;66;03m#  trying to convert to float\u001b[39;00m\n\u001b[1;32m   1296\u001b[0m     \u001b[38;5;28;01mif\u001b[39;00m errors \u001b[38;5;241m==\u001b[39m \u001b[38;5;124m\"\u001b[39m\u001b[38;5;124mignore\u001b[39m\u001b[38;5;124m\"\u001b[39m:\n",
      "File \u001b[0;32m~/.local/lib/python3.10/site-packages/pandas/core/dtypes/cast.py:1237\u001b[0m, in \u001b[0;36mastype_array\u001b[0;34m(values, dtype, copy)\u001b[0m\n\u001b[1;32m   1234\u001b[0m     values \u001b[38;5;241m=\u001b[39m values\u001b[38;5;241m.\u001b[39mastype(dtype, copy\u001b[38;5;241m=\u001b[39mcopy)\n\u001b[1;32m   1236\u001b[0m \u001b[38;5;28;01melse\u001b[39;00m:\n\u001b[0;32m-> 1237\u001b[0m     values \u001b[38;5;241m=\u001b[39m \u001b[43mastype_nansafe\u001b[49m\u001b[43m(\u001b[49m\u001b[43mvalues\u001b[49m\u001b[43m,\u001b[49m\u001b[43m \u001b[49m\u001b[43mdtype\u001b[49m\u001b[43m,\u001b[49m\u001b[43m \u001b[49m\u001b[43mcopy\u001b[49m\u001b[38;5;241;43m=\u001b[39;49m\u001b[43mcopy\u001b[49m\u001b[43m)\u001b[49m\n\u001b[1;32m   1239\u001b[0m \u001b[38;5;66;03m# in pandas we don't store numpy str dtypes, so convert to object\u001b[39;00m\n\u001b[1;32m   1240\u001b[0m \u001b[38;5;28;01mif\u001b[39;00m \u001b[38;5;28misinstance\u001b[39m(dtype, np\u001b[38;5;241m.\u001b[39mdtype) \u001b[38;5;129;01mand\u001b[39;00m \u001b[38;5;28missubclass\u001b[39m(values\u001b[38;5;241m.\u001b[39mdtype\u001b[38;5;241m.\u001b[39mtype, \u001b[38;5;28mstr\u001b[39m):\n",
      "File \u001b[0;32m~/.local/lib/python3.10/site-packages/pandas/core/dtypes/cast.py:1148\u001b[0m, in \u001b[0;36mastype_nansafe\u001b[0;34m(arr, dtype, copy, skipna)\u001b[0m\n\u001b[1;32m   1145\u001b[0m     \u001b[38;5;28;01mraise\u001b[39;00m \u001b[38;5;167;01mTypeError\u001b[39;00m(\u001b[38;5;124mf\u001b[39m\u001b[38;5;124m\"\u001b[39m\u001b[38;5;124mcannot astype a timedelta from [\u001b[39m\u001b[38;5;132;01m{\u001b[39;00marr\u001b[38;5;241m.\u001b[39mdtype\u001b[38;5;132;01m}\u001b[39;00m\u001b[38;5;124m] to [\u001b[39m\u001b[38;5;132;01m{\u001b[39;00mdtype\u001b[38;5;132;01m}\u001b[39;00m\u001b[38;5;124m]\u001b[39m\u001b[38;5;124m\"\u001b[39m)\n\u001b[1;32m   1147\u001b[0m \u001b[38;5;28;01melif\u001b[39;00m np\u001b[38;5;241m.\u001b[39missubdtype(arr\u001b[38;5;241m.\u001b[39mdtype, np\u001b[38;5;241m.\u001b[39mfloating) \u001b[38;5;129;01mand\u001b[39;00m np\u001b[38;5;241m.\u001b[39missubdtype(dtype, np\u001b[38;5;241m.\u001b[39minteger):\n\u001b[0;32m-> 1148\u001b[0m     \u001b[38;5;28;01mreturn\u001b[39;00m \u001b[43mastype_float_to_int_nansafe\u001b[49m\u001b[43m(\u001b[49m\u001b[43marr\u001b[49m\u001b[43m,\u001b[49m\u001b[43m \u001b[49m\u001b[43mdtype\u001b[49m\u001b[43m,\u001b[49m\u001b[43m \u001b[49m\u001b[43mcopy\u001b[49m\u001b[43m)\u001b[49m\n\u001b[1;32m   1150\u001b[0m \u001b[38;5;28;01melif\u001b[39;00m is_object_dtype(arr\u001b[38;5;241m.\u001b[39mdtype):\n\u001b[1;32m   1151\u001b[0m \n\u001b[1;32m   1152\u001b[0m     \u001b[38;5;66;03m# work around NumPy brokenness, #1987\u001b[39;00m\n\u001b[1;32m   1153\u001b[0m     \u001b[38;5;28;01mif\u001b[39;00m np\u001b[38;5;241m.\u001b[39missubdtype(dtype\u001b[38;5;241m.\u001b[39mtype, np\u001b[38;5;241m.\u001b[39minteger):\n",
      "File \u001b[0;32m~/.local/lib/python3.10/site-packages/pandas/core/dtypes/cast.py:1193\u001b[0m, in \u001b[0;36mastype_float_to_int_nansafe\u001b[0;34m(values, dtype, copy)\u001b[0m\n\u001b[1;32m   1189\u001b[0m \u001b[38;5;124;03m\"\"\"\u001b[39;00m\n\u001b[1;32m   1190\u001b[0m \u001b[38;5;124;03mastype with a check preventing converting NaN to an meaningless integer value.\u001b[39;00m\n\u001b[1;32m   1191\u001b[0m \u001b[38;5;124;03m\"\"\"\u001b[39;00m\n\u001b[1;32m   1192\u001b[0m \u001b[38;5;28;01mif\u001b[39;00m \u001b[38;5;129;01mnot\u001b[39;00m np\u001b[38;5;241m.\u001b[39misfinite(values)\u001b[38;5;241m.\u001b[39mall():\n\u001b[0;32m-> 1193\u001b[0m     \u001b[38;5;28;01mraise\u001b[39;00m IntCastingNaNError(\n\u001b[1;32m   1194\u001b[0m         \u001b[38;5;124m\"\u001b[39m\u001b[38;5;124mCannot convert non-finite values (NA or inf) to integer\u001b[39m\u001b[38;5;124m\"\u001b[39m\n\u001b[1;32m   1195\u001b[0m     )\n\u001b[1;32m   1196\u001b[0m \u001b[38;5;28;01mreturn\u001b[39;00m values\u001b[38;5;241m.\u001b[39mastype(dtype, copy\u001b[38;5;241m=\u001b[39mcopy)\n",
      "\u001b[0;31mIntCastingNaNError\u001b[0m: Cannot convert non-finite values (NA or inf) to integer"
     ]
    }
   ],
   "source": [
    "# Frequencies -128/127 int8\n",
    "for c in df_audio_t.columns:\n",
    "    df_audio_t[c] = df_audio_t[c].astype('int8')"
   ]
  },
  {
   "cell_type": "code",
   "execution_count": 30,
   "id": "5a82c9fe",
   "metadata": {
    "ExecuteTime": {
     "end_time": "2022-08-01T17:20:56.409314Z",
     "start_time": "2022-08-01T17:20:56.406714Z"
    }
   },
   "outputs": [],
   "source": [
    "mice_imputer = IterativeImputer()"
   ]
  },
  {
   "cell_type": "code",
   "execution_count": 31,
   "id": "ba85ad5e",
   "metadata": {
    "ExecuteTime": {
     "end_time": "2022-08-01T17:21:08.970746Z",
     "start_time": "2022-08-01T17:21:08.341887Z"
    }
   },
   "outputs": [],
   "source": [
    "df = mice_imputer.fit_transform(df_audio_t)"
   ]
  },
  {
   "cell_type": "code",
   "execution_count": 37,
   "id": "39db4f57",
   "metadata": {
    "ExecuteTime": {
     "end_time": "2022-08-01T17:24:34.311411Z",
     "start_time": "2022-08-01T17:24:34.306803Z"
    }
   },
   "outputs": [
    {
     "data": {
      "text/plain": [
       "5.0"
      ]
     },
     "execution_count": 37,
     "metadata": {},
     "output_type": "execute_result"
    }
   ],
   "source": [
    "get_closer_5_multi(df[-1][1])"
   ]
  },
  {
   "cell_type": "code",
   "execution_count": 27,
   "id": "3499fdc7",
   "metadata": {
    "ExecuteTime": {
     "end_time": "2022-08-01T17:20:07.661288Z",
     "start_time": "2022-08-01T17:20:07.645349Z"
    },
    "collapsed": true
   },
   "outputs": [
    {
     "data": {
      "text/html": [
       "<div>\n",
       "<style scoped>\n",
       "    .dataframe tbody tr th:only-of-type {\n",
       "        vertical-align: middle;\n",
       "    }\n",
       "\n",
       "    .dataframe tbody tr th {\n",
       "        vertical-align: top;\n",
       "    }\n",
       "\n",
       "    .dataframe thead th {\n",
       "        text-align: right;\n",
       "    }\n",
       "</style>\n",
       "<table border=\"1\" class=\"dataframe\">\n",
       "  <thead>\n",
       "    <tr style=\"text-align: right;\">\n",
       "      <th></th>\n",
       "      <th>2k</th>\n",
       "      <th>3k</th>\n",
       "      <th>4k</th>\n",
       "      <th>6k</th>\n",
       "    </tr>\n",
       "  </thead>\n",
       "  <tbody>\n",
       "    <tr>\n",
       "      <th>290001</th>\n",
       "      <td>10</td>\n",
       "      <td>20.0</td>\n",
       "      <td>25.0</td>\n",
       "      <td>25.0</td>\n",
       "    </tr>\n",
       "    <tr>\n",
       "      <th>290002</th>\n",
       "      <td>35</td>\n",
       "      <td>35.0</td>\n",
       "      <td>60.0</td>\n",
       "      <td>45.0</td>\n",
       "    </tr>\n",
       "    <tr>\n",
       "      <th>290003</th>\n",
       "      <td>45</td>\n",
       "      <td>50.0</td>\n",
       "      <td>55.0</td>\n",
       "      <td>70.0</td>\n",
       "    </tr>\n",
       "    <tr>\n",
       "      <th>290004</th>\n",
       "      <td>25</td>\n",
       "      <td>45.0</td>\n",
       "      <td>55.0</td>\n",
       "      <td>50.0</td>\n",
       "    </tr>\n",
       "    <tr>\n",
       "      <th>290005</th>\n",
       "      <td>35</td>\n",
       "      <td>65.0</td>\n",
       "      <td>65.0</td>\n",
       "      <td>70.0</td>\n",
       "    </tr>\n",
       "    <tr>\n",
       "      <th>...</th>\n",
       "      <td>...</td>\n",
       "      <td>...</td>\n",
       "      <td>...</td>\n",
       "      <td>...</td>\n",
       "    </tr>\n",
       "    <tr>\n",
       "      <th>299996</th>\n",
       "      <td>10</td>\n",
       "      <td>50.0</td>\n",
       "      <td>55.0</td>\n",
       "      <td>50.0</td>\n",
       "    </tr>\n",
       "    <tr>\n",
       "      <th>299997</th>\n",
       "      <td>35</td>\n",
       "      <td>55.0</td>\n",
       "      <td>50.0</td>\n",
       "      <td>65.0</td>\n",
       "    </tr>\n",
       "    <tr>\n",
       "      <th>299998</th>\n",
       "      <td>5</td>\n",
       "      <td>25.0</td>\n",
       "      <td>65.0</td>\n",
       "      <td>30.0</td>\n",
       "    </tr>\n",
       "    <tr>\n",
       "      <th>299999</th>\n",
       "      <td>5</td>\n",
       "      <td>5.0</td>\n",
       "      <td>40.0</td>\n",
       "      <td>45.0</td>\n",
       "    </tr>\n",
       "    <tr>\n",
       "      <th>300000</th>\n",
       "      <td>5</td>\n",
       "      <td>NaN</td>\n",
       "      <td>10.0</td>\n",
       "      <td>5.0</td>\n",
       "    </tr>\n",
       "  </tbody>\n",
       "</table>\n",
       "<p>10000 rows × 4 columns</p>\n",
       "</div>"
      ],
      "text/plain": [
       "        2k    3k    4k    6k\n",
       "290001  10  20.0  25.0  25.0\n",
       "290002  35  35.0  60.0  45.0\n",
       "290003  45  50.0  55.0  70.0\n",
       "290004  25  45.0  55.0  50.0\n",
       "290005  35  65.0  65.0  70.0\n",
       "...     ..   ...   ...   ...\n",
       "299996  10  50.0  55.0  50.0\n",
       "299997  35  55.0  50.0  65.0\n",
       "299998   5  25.0  65.0  30.0\n",
       "299999   5   5.0  40.0  45.0\n",
       "300000   5   NaN  10.0   5.0\n",
       "\n",
       "[10000 rows x 4 columns]"
      ]
     },
     "execution_count": 27,
     "metadata": {},
     "output_type": "execute_result"
    }
   ],
   "source": [
    "df_audio_t.iloc[-10000:,:]"
   ]
  },
  {
   "cell_type": "code",
   "execution_count": 75,
   "id": "772e4f90",
   "metadata": {
    "ExecuteTime": {
     "end_time": "2022-08-01T18:04:13.174196Z",
     "start_time": "2022-08-01T18:04:13.169809Z"
    }
   },
   "outputs": [],
   "source": [
    "df_audio_full_t = df_audio_full.iloc[:,2:6]"
   ]
  },
  {
   "cell_type": "code",
   "execution_count": 87,
   "id": "ad125f0e",
   "metadata": {
    "ExecuteTime": {
     "end_time": "2022-08-01T18:06:27.540618Z",
     "start_time": "2022-08-01T18:06:27.535514Z"
    }
   },
   "outputs": [],
   "source": [
    "df_audio_full_1 = df_audio_full_t[int(len(df_audio_full_t.index)/2):]\n",
    "df_audio_full_1.reset_index(inplace=True, drop=True)\n",
    "df_audio_full_2 = df_audio_full_t[:int(len(df_audio_full_t.index)/2)]\n",
    "df_audio_full_2.reset_index(inplace=True, drop=True)"
   ]
  },
  {
   "cell_type": "code",
   "execution_count": 77,
   "id": "8fb5722c",
   "metadata": {
    "ExecuteTime": {
     "end_time": "2022-08-01T18:04:16.982164Z",
     "start_time": "2022-08-01T18:04:16.969691Z"
    },
    "collapsed": true
   },
   "outputs": [
    {
     "data": {
      "text/html": [
       "<div>\n",
       "<style scoped>\n",
       "    .dataframe tbody tr th:only-of-type {\n",
       "        vertical-align: middle;\n",
       "    }\n",
       "\n",
       "    .dataframe tbody tr th {\n",
       "        vertical-align: top;\n",
       "    }\n",
       "\n",
       "    .dataframe thead th {\n",
       "        text-align: right;\n",
       "    }\n",
       "</style>\n",
       "<table border=\"1\" class=\"dataframe\">\n",
       "  <thead>\n",
       "    <tr style=\"text-align: right;\">\n",
       "      <th></th>\n",
       "      <th>2k</th>\n",
       "      <th>3k</th>\n",
       "      <th>4k</th>\n",
       "      <th>6k</th>\n",
       "    </tr>\n",
       "  </thead>\n",
       "  <tbody>\n",
       "    <tr>\n",
       "      <th>0</th>\n",
       "      <td>5</td>\n",
       "      <td>15</td>\n",
       "      <td>10</td>\n",
       "      <td>5</td>\n",
       "    </tr>\n",
       "    <tr>\n",
       "      <th>1</th>\n",
       "      <td>5</td>\n",
       "      <td>15</td>\n",
       "      <td>5</td>\n",
       "      <td>10</td>\n",
       "    </tr>\n",
       "    <tr>\n",
       "      <th>2</th>\n",
       "      <td>20</td>\n",
       "      <td>20</td>\n",
       "      <td>15</td>\n",
       "      <td>20</td>\n",
       "    </tr>\n",
       "    <tr>\n",
       "      <th>3</th>\n",
       "      <td>15</td>\n",
       "      <td>20</td>\n",
       "      <td>20</td>\n",
       "      <td>15</td>\n",
       "    </tr>\n",
       "    <tr>\n",
       "      <th>4</th>\n",
       "      <td>15</td>\n",
       "      <td>20</td>\n",
       "      <td>35</td>\n",
       "      <td>25</td>\n",
       "    </tr>\n",
       "    <tr>\n",
       "      <th>...</th>\n",
       "      <td>...</td>\n",
       "      <td>...</td>\n",
       "      <td>...</td>\n",
       "      <td>...</td>\n",
       "    </tr>\n",
       "    <tr>\n",
       "      <th>2819693</th>\n",
       "      <td>5</td>\n",
       "      <td>10</td>\n",
       "      <td>0</td>\n",
       "      <td>20</td>\n",
       "    </tr>\n",
       "    <tr>\n",
       "      <th>2819694</th>\n",
       "      <td>5</td>\n",
       "      <td>0</td>\n",
       "      <td>5</td>\n",
       "      <td>15</td>\n",
       "    </tr>\n",
       "    <tr>\n",
       "      <th>2819695</th>\n",
       "      <td>0</td>\n",
       "      <td>10</td>\n",
       "      <td>10</td>\n",
       "      <td>15</td>\n",
       "    </tr>\n",
       "    <tr>\n",
       "      <th>2819696</th>\n",
       "      <td>5</td>\n",
       "      <td>10</td>\n",
       "      <td>30</td>\n",
       "      <td>25</td>\n",
       "    </tr>\n",
       "    <tr>\n",
       "      <th>2819697</th>\n",
       "      <td>5</td>\n",
       "      <td>15</td>\n",
       "      <td>45</td>\n",
       "      <td>15</td>\n",
       "    </tr>\n",
       "  </tbody>\n",
       "</table>\n",
       "<p>2819698 rows × 4 columns</p>\n",
       "</div>"
      ],
      "text/plain": [
       "         2k  3k  4k  6k\n",
       "0         5  15  10   5\n",
       "1         5  15   5  10\n",
       "2        20  20  15  20\n",
       "3        15  20  20  15\n",
       "4        15  20  35  25\n",
       "...      ..  ..  ..  ..\n",
       "2819693   5  10   0  20\n",
       "2819694   5   0   5  15\n",
       "2819695   0  10  10  15\n",
       "2819696   5  10  30  25\n",
       "2819697   5  15  45  15\n",
       "\n",
       "[2819698 rows x 4 columns]"
      ]
     },
     "execution_count": 77,
     "metadata": {},
     "output_type": "execute_result"
    }
   ],
   "source": [
    "df_audio_full_2"
   ]
  },
  {
   "cell_type": "code",
   "execution_count": 62,
   "id": "ad551829",
   "metadata": {
    "ExecuteTime": {
     "end_time": "2022-08-01T17:55:51.466433Z",
     "start_time": "2022-08-01T17:55:47.780876Z"
    },
    "scrolled": true
   },
   "outputs": [
    {
     "data": {
      "text/plain": [
       "5.0"
      ]
     },
     "execution_count": 62,
     "metadata": {},
     "output_type": "execute_result"
    }
   ],
   "source": [
    "df = mice_imputer.fit_transform(df_audio_full_1)\n",
    "get_closer_5_multi(df[-1][1])"
   ]
  },
  {
   "cell_type": "code",
   "execution_count": 78,
   "id": "3f5ef126",
   "metadata": {
    "ExecuteTime": {
     "end_time": "2022-08-01T18:04:21.104658Z",
     "start_time": "2022-08-01T18:04:21.074366Z"
    },
    "scrolled": true
   },
   "outputs": [
    {
     "name": "stderr",
     "output_type": "stream",
     "text": [
      "/tmp/ipykernel_127280/3931548288.py:1: SettingWithCopyWarning: \n",
      "A value is trying to be set on a copy of a slice from a DataFrame.\n",
      "Try using .loc[row_indexer,col_indexer] = value instead\n",
      "\n",
      "See the caveats in the documentation: https://pandas.pydata.org/pandas-docs/stable/user_guide/indexing.html#returning-a-view-versus-a-copy\n",
      "  df_audio_full_2['3k'] = np.nan\n"
     ]
    }
   ],
   "source": [
    "df_audio_full_2['3k'] = np.nan"
   ]
  },
  {
   "cell_type": "code",
   "execution_count": 80,
   "id": "6a2a9c6c",
   "metadata": {
    "ExecuteTime": {
     "end_time": "2022-08-01T18:04:51.330844Z",
     "start_time": "2022-08-01T18:04:51.273944Z"
    }
   },
   "outputs": [],
   "source": [
    "df_audio_full_1 = pd.concat([df_audio_full_1, df_audio_full_2])"
   ]
  },
  {
   "cell_type": "code",
   "execution_count": 81,
   "id": "cc063a56",
   "metadata": {
    "ExecuteTime": {
     "end_time": "2022-08-01T18:04:53.725552Z",
     "start_time": "2022-08-01T18:04:53.722382Z"
    }
   },
   "outputs": [],
   "source": [
    "df_audio_full_1.reset_index(inplace=True, drop=True)"
   ]
  },
  {
   "cell_type": "code",
   "execution_count": 83,
   "id": "c47caffa",
   "metadata": {
    "ExecuteTime": {
     "end_time": "2022-08-01T18:04:58.825134Z",
     "start_time": "2022-08-01T18:04:58.815326Z"
    },
    "collapsed": true
   },
   "outputs": [
    {
     "data": {
      "text/html": [
       "<div>\n",
       "<style scoped>\n",
       "    .dataframe tbody tr th:only-of-type {\n",
       "        vertical-align: middle;\n",
       "    }\n",
       "\n",
       "    .dataframe tbody tr th {\n",
       "        vertical-align: top;\n",
       "    }\n",
       "\n",
       "    .dataframe thead th {\n",
       "        text-align: right;\n",
       "    }\n",
       "</style>\n",
       "<table border=\"1\" class=\"dataframe\">\n",
       "  <thead>\n",
       "    <tr style=\"text-align: right;\">\n",
       "      <th></th>\n",
       "      <th>2k</th>\n",
       "      <th>3k</th>\n",
       "      <th>4k</th>\n",
       "      <th>6k</th>\n",
       "    </tr>\n",
       "  </thead>\n",
       "  <tbody>\n",
       "    <tr>\n",
       "      <th>0</th>\n",
       "      <td>5</td>\n",
       "      <td>5.0</td>\n",
       "      <td>45</td>\n",
       "      <td>25</td>\n",
       "    </tr>\n",
       "    <tr>\n",
       "      <th>1</th>\n",
       "      <td>25</td>\n",
       "      <td>60.0</td>\n",
       "      <td>60</td>\n",
       "      <td>60</td>\n",
       "    </tr>\n",
       "    <tr>\n",
       "      <th>2</th>\n",
       "      <td>25</td>\n",
       "      <td>60.0</td>\n",
       "      <td>65</td>\n",
       "      <td>70</td>\n",
       "    </tr>\n",
       "    <tr>\n",
       "      <th>3</th>\n",
       "      <td>10</td>\n",
       "      <td>10.0</td>\n",
       "      <td>30</td>\n",
       "      <td>15</td>\n",
       "    </tr>\n",
       "    <tr>\n",
       "      <th>4</th>\n",
       "      <td>20</td>\n",
       "      <td>25.0</td>\n",
       "      <td>40</td>\n",
       "      <td>30</td>\n",
       "    </tr>\n",
       "    <tr>\n",
       "      <th>...</th>\n",
       "      <td>...</td>\n",
       "      <td>...</td>\n",
       "      <td>...</td>\n",
       "      <td>...</td>\n",
       "    </tr>\n",
       "    <tr>\n",
       "      <th>5639391</th>\n",
       "      <td>5</td>\n",
       "      <td>NaN</td>\n",
       "      <td>0</td>\n",
       "      <td>20</td>\n",
       "    </tr>\n",
       "    <tr>\n",
       "      <th>5639392</th>\n",
       "      <td>5</td>\n",
       "      <td>NaN</td>\n",
       "      <td>5</td>\n",
       "      <td>15</td>\n",
       "    </tr>\n",
       "    <tr>\n",
       "      <th>5639393</th>\n",
       "      <td>0</td>\n",
       "      <td>NaN</td>\n",
       "      <td>10</td>\n",
       "      <td>15</td>\n",
       "    </tr>\n",
       "    <tr>\n",
       "      <th>5639394</th>\n",
       "      <td>5</td>\n",
       "      <td>NaN</td>\n",
       "      <td>30</td>\n",
       "      <td>25</td>\n",
       "    </tr>\n",
       "    <tr>\n",
       "      <th>5639395</th>\n",
       "      <td>5</td>\n",
       "      <td>NaN</td>\n",
       "      <td>45</td>\n",
       "      <td>15</td>\n",
       "    </tr>\n",
       "  </tbody>\n",
       "</table>\n",
       "<p>5639396 rows × 4 columns</p>\n",
       "</div>"
      ],
      "text/plain": [
       "         2k    3k  4k  6k\n",
       "0         5   5.0  45  25\n",
       "1        25  60.0  60  60\n",
       "2        25  60.0  65  70\n",
       "3        10  10.0  30  15\n",
       "4        20  25.0  40  30\n",
       "...      ..   ...  ..  ..\n",
       "5639391   5   NaN   0  20\n",
       "5639392   5   NaN   5  15\n",
       "5639393   0   NaN  10  15\n",
       "5639394   5   NaN  30  25\n",
       "5639395   5   NaN  45  15\n",
       "\n",
       "[5639396 rows x 4 columns]"
      ]
     },
     "execution_count": 83,
     "metadata": {},
     "output_type": "execute_result"
    }
   ],
   "source": [
    "df_audio_full_1"
   ]
  },
  {
   "cell_type": "code",
   "execution_count": 84,
   "id": "0663a48c",
   "metadata": {
    "ExecuteTime": {
     "end_time": "2022-08-01T18:05:40.564004Z",
     "start_time": "2022-08-01T18:05:34.782575Z"
    }
   },
   "outputs": [
    {
     "data": {
      "text/plain": [
       "25.0"
      ]
     },
     "execution_count": 84,
     "metadata": {},
     "output_type": "execute_result"
    }
   ],
   "source": [
    "df = mice_imputer.fit_transform(df_audio_full_1)\n",
    "get_closer_5_multi(df[-1][1])"
   ]
  },
  {
   "cell_type": "code",
   "execution_count": 93,
   "id": "f59d0811",
   "metadata": {
    "ExecuteTime": {
     "end_time": "2022-08-01T18:08:37.478180Z",
     "start_time": "2022-08-01T18:08:37.398397Z"
    }
   },
   "outputs": [],
   "source": [
    "df_pred = pd.DataFrame(df)\n",
    "pred_df_audio = df_pred[1].to_list()"
   ]
  },
  {
   "cell_type": "code",
   "execution_count": 98,
   "id": "42475b49",
   "metadata": {
    "ExecuteTime": {
     "end_time": "2022-08-01T18:09:15.756141Z",
     "start_time": "2022-08-01T18:09:15.727871Z"
    },
    "scrolled": true
   },
   "outputs": [
    {
     "data": {
      "text/plain": [
       "2819698"
      ]
     },
     "execution_count": 98,
     "metadata": {},
     "output_type": "execute_result"
    }
   ],
   "source": [
    "len(pred_df_audio[int(len(pred_df_audio)/2):])"
   ]
  },
  {
   "cell_type": "code",
   "execution_count": 107,
   "id": "db37e6cc",
   "metadata": {
    "ExecuteTime": {
     "end_time": "2022-08-01T18:11:53.303106Z",
     "start_time": "2022-08-01T18:11:52.979289Z"
    }
   },
   "outputs": [],
   "source": [
    "pred_df_audio = list(map(get_closer_5_multi, pred_df_audio[int(len(pred_df_audio)/2):]))"
   ]
  },
  {
   "cell_type": "code",
   "execution_count": 102,
   "id": "352d2d01",
   "metadata": {
    "ExecuteTime": {
     "end_time": "2022-08-01T18:10:09.495281Z",
     "start_time": "2022-08-01T18:10:09.480987Z"
    }
   },
   "outputs": [],
   "source": [
    "gt_df_audio = df_audio_full_2['3k'].to_list()"
   ]
  },
  {
   "cell_type": "code",
   "execution_count": 113,
   "id": "a964619f",
   "metadata": {
    "ExecuteTime": {
     "end_time": "2022-08-01T18:13:55.895383Z",
     "start_time": "2022-08-01T18:13:55.686661Z"
    }
   },
   "outputs": [],
   "source": [
    "count=0\n",
    "for pred, gt in zip(pred_df_audio, gt_df_audio):\n",
    "    if pred==gt:\n",
    "        count+=1"
   ]
  },
  {
   "cell_type": "code",
   "execution_count": 115,
   "id": "f3770580",
   "metadata": {
    "ExecuteTime": {
     "end_time": "2022-08-01T18:14:15.929222Z",
     "start_time": "2022-08-01T18:14:15.920170Z"
    },
    "scrolled": true
   },
   "outputs": [
    {
     "data": {
      "text/plain": [
       "0.2989688966690759"
      ]
     },
     "execution_count": 115,
     "metadata": {},
     "output_type": "execute_result"
    }
   ],
   "source": [
    "count / len(pred_df_audio)"
   ]
  },
  {
   "cell_type": "markdown",
   "id": "e8487fcf",
   "metadata": {},
   "source": [
    " "
   ]
  },
  {
   "cell_type": "markdown",
   "id": "7803ad50",
   "metadata": {},
   "source": [
    "## Machine Learning Pipeline"
   ]
  },
  {
   "cell_type": "code",
   "execution_count": 243,
   "id": "25a7da94",
   "metadata": {
    "ExecuteTime": {
     "end_time": "2022-08-01T21:47:59.459939Z",
     "start_time": "2022-08-01T21:47:59.456030Z"
    }
   },
   "outputs": [],
   "source": [
    "base_cols = ['2k','4k','6k']"
   ]
  },
  {
   "cell_type": "code",
   "execution_count": 398,
   "id": "f08bc7dc",
   "metadata": {
    "ExecuteTime": {
     "end_time": "2022-08-02T01:13:39.986660Z",
     "start_time": "2022-08-02T01:13:39.979604Z"
    }
   },
   "outputs": [],
   "source": [
    "def get_closer_5_multi(n):\n",
    "    r = n % 5\n",
    "    r = n+(5-r) if r>=2.5 else n-r\n",
    "    return int(r)"
   ]
  },
  {
   "cell_type": "code",
   "execution_count": 223,
   "id": "91a7fa1b",
   "metadata": {
    "ExecuteTime": {
     "end_time": "2022-08-01T20:18:43.714136Z",
     "start_time": "2022-08-01T20:18:43.706944Z"
    }
   },
   "outputs": [],
   "source": [
    "# Function to get correct order of Models\n",
    "def add_columns(df, cols):\n",
    "    total=0\n",
    "    count=len(cols)\n",
    "    for c in cols:\n",
    "        total+=df[c]\n",
    "    \n",
    "    return total / count\n",
    "\n",
    "def get_pred_order(df, input_cols):\n",
    "    df_corr = df.corr()\n",
    "    col_len = len(input_cols)\n",
    "    order_l = []\n",
    "    i_cols = copy.deepcopy(input_cols)\n",
    "    for i, _ in enumerate(range(col_len, 8)):\n",
    "        df_corr[f'{i}pred'] = df_corr.apply(add_columns, cols=i_cols)\n",
    "        col_order = df_corr[f'{i}pred'].sort_values(ascending=False).index\n",
    "        for c in col_order:\n",
    "            if c not in i_cols:\n",
    "                order_l.append(c)\n",
    "                i_cols.append(c)\n",
    "                break\n",
    "    \n",
    "    return order_l"
   ]
  },
  {
   "cell_type": "code",
   "execution_count": 204,
   "id": "ff6e7dfe",
   "metadata": {
    "ExecuteTime": {
     "end_time": "2022-08-01T18:57:42.773533Z",
     "start_time": "2022-08-01T18:57:42.769042Z"
    }
   },
   "outputs": [],
   "source": [
    "def train_KNN(df, x_cols, y_col):\n",
    "    x = df[x_cols]\n",
    "    y = df[y_col]\n",
    "    X_train, X_test, y_train, y_test = train_test_split(x, y, test_size=0.33, random_state=123, shuffle=True)\n",
    "    knn = KNeighborsRegressor(n_neighbors=7)\n",
    "    knn.fit(X_train, y_train)\n",
    "    return knn"
   ]
  },
  {
   "cell_type": "code",
   "execution_count": 291,
   "id": "2c1cf46e",
   "metadata": {
    "ExecuteTime": {
     "end_time": "2022-08-01T22:53:34.802017Z",
     "start_time": "2022-08-01T22:53:34.329022Z"
    }
   },
   "outputs": [],
   "source": [
    "train_comb = []\n",
    "model_targets = [c for c in df_audio.columns if c not in base_cols]\n",
    "y_t = get_pred_order(df_audio, base_cols)[0]\n",
    "combs = (base_cols, y_t)\n",
    "train_comb.append(combs)\n",
    "\n",
    "for target in model_targets:\n",
    "    new_cols = base_cols + [target]\n",
    "    while True:\n",
    "        y_t = get_pred_order(df_audio, new_cols)\n",
    "        y_t = y_t[0] if y_t else None\n",
    "        i_cols = copy.deepcopy(new_cols)\n",
    "        combs = (i_cols, y_t) if y_t else []\n",
    "        if combs:\n",
    "            flag = True\n",
    "            for _i in train_comb:\n",
    "                if new_cols == _i[0]:\n",
    "                    flag = False\n",
    "                    break\n",
    "            if flag:\n",
    "                train_comb.append(combs)\n",
    "                new_cols += [y_t]\n",
    "            else:\n",
    "                break\n",
    "        else:\n",
    "            break"
   ]
  },
  {
   "cell_type": "code",
   "execution_count": 355,
   "id": "e42825bf",
   "metadata": {
    "ExecuteTime": {
     "end_time": "2022-08-01T23:51:56.483550Z",
     "start_time": "2022-08-01T23:51:56.478946Z"
    }
   },
   "outputs": [],
   "source": [
    "pickle_models = []\n",
    "comb = train_comb[0]\n",
    "pickle_models.append({'x':comb[0], 'y':comb[1], 'model_name':'base_audio_model.joblib'})\n",
    "for i, comb in enumerate(train_comb):\n",
    "    if i==0:continue\n",
    "    model_name_l = []\n",
    "    x, y = comb\n",
    "    for i in range(len(x)-1, 2, -1):\n",
    "        model_name_l.append(x[i])\n",
    "    model_name = \"-\".join(model_name_l)\n",
    "    pickle_models.append({'x':x, 'y':y, 'model_name':f'{model_name}_audio_model.joblib'})"
   ]
  },
  {
   "cell_type": "code",
   "execution_count": 356,
   "id": "0d788bbd",
   "metadata": {
    "ExecuteTime": {
     "end_time": "2022-08-01T23:51:57.423139Z",
     "start_time": "2022-08-01T23:51:57.419156Z"
    },
    "scrolled": true
   },
   "outputs": [
    {
     "data": {
      "text/plain": [
       "[{'x': ['2k', '4k', '6k'], 'y': '3k', 'model_name': 'base_audio_model.joblib'},\n",
       " {'x': ['2k', '4k', '6k', '500k'],\n",
       "  'y': '3k',\n",
       "  'model_name': '500k_audio_model.joblib'},\n",
       " {'x': ['2k', '4k', '6k', '500k', '3k'],\n",
       "  'y': '1k',\n",
       "  'model_name': '3k-500k_audio_model.joblib'},\n",
       " {'x': ['2k', '4k', '6k', '500k', '3k', '1k'],\n",
       "  'y': '8k',\n",
       "  'model_name': '1k-3k-500k_audio_model.joblib'},\n",
       " {'x': ['2k', '4k', '6k', '1k'],\n",
       "  'y': '3k',\n",
       "  'model_name': '1k_audio_model.joblib'},\n",
       " {'x': ['2k', '4k', '6k', '1k', '3k'],\n",
       "  'y': '500k',\n",
       "  'model_name': '3k-1k_audio_model.joblib'},\n",
       " {'x': ['2k', '4k', '6k', '3k'],\n",
       "  'y': '1k',\n",
       "  'model_name': '3k_audio_model.joblib'},\n",
       " {'x': ['2k', '4k', '6k', '8k'],\n",
       "  'y': '3k',\n",
       "  'model_name': '8k_audio_model.joblib'},\n",
       " {'x': ['2k', '4k', '6k', '8k', '3k'],\n",
       "  'y': '1k',\n",
       "  'model_name': '3k-8k_audio_model.joblib'},\n",
       " {'x': ['2k', '4k', '6k', '8k', '3k', '1k'],\n",
       "  'y': '500k',\n",
       "  'model_name': '1k-3k-8k_audio_model.joblib'}]"
      ]
     },
     "execution_count": 356,
     "metadata": {},
     "output_type": "execute_result"
    }
   ],
   "source": [
    "pickle_models"
   ]
  },
  {
   "cell_type": "code",
   "execution_count": 357,
   "id": "505a04f7",
   "metadata": {
    "ExecuteTime": {
     "end_time": "2022-08-01T23:52:01.276327Z",
     "start_time": "2022-08-01T23:52:01.272834Z"
    }
   },
   "outputs": [],
   "source": [
    "with open(m_path / 'models.pkl', 'wb') as f:\n",
    "    pickle.dump(pickle_models, f)"
   ]
  },
  {
   "cell_type": "code",
   "execution_count": 363,
   "id": "ce6a1350",
   "metadata": {
    "ExecuteTime": {
     "end_time": "2022-08-02T00:00:25.735271Z",
     "start_time": "2022-08-02T00:00:25.726252Z"
    }
   },
   "outputs": [],
   "source": [
    "with open(m_path / 'models.pkl', 'rb') as f:\n",
    "    pickle_models = pickle.load(f)\n",
    "\n",
    "def find_audio_model(comb):\n",
    "    for model in pickle_models:\n",
    "        x, y, model_name = [model['x'], model['y'], model['model_name']]\n",
    "        if len(comb)!=len(x):continue\n",
    "        if all((i in x) for i in comb):\n",
    "            return x, y, model_name\n",
    "    \n",
    "    return None"
   ]
  },
  {
   "cell_type": "code",
   "execution_count": 360,
   "id": "2d19cefd",
   "metadata": {
    "ExecuteTime": {
     "end_time": "2022-08-01T23:52:18.216518Z",
     "start_time": "2022-08-01T23:52:16.031008Z"
    }
   },
   "outputs": [],
   "source": [
    "for i in train_comb:\n",
    "    comb = i[0]\n",
    "    model_inf = find_audio_model(comb)\n",
    "    model = train_KNN(df_audio, model_inf['x'], model_inf['y'])\n",
    "    joblib.dump(model, m_path / model_inf['model_name'])"
   ]
  },
  {
   "cell_type": "markdown",
   "id": "bb42deca",
   "metadata": {},
   "source": [
    "## Application"
   ]
  },
  {
   "cell_type": "code",
   "execution_count": 430,
   "id": "cc510d4b",
   "metadata": {
    "ExecuteTime": {
     "end_time": "2022-08-02T01:50:40.893677Z",
     "start_time": "2022-08-02T01:50:40.890509Z"
    }
   },
   "outputs": [],
   "source": [
    "_input = (['2k','4k','6k'], [20,10,5])"
   ]
  },
  {
   "cell_type": "code",
   "execution_count": 432,
   "id": "8eff1684",
   "metadata": {
    "ExecuteTime": {
     "end_time": "2022-08-02T01:50:54.949028Z",
     "start_time": "2022-08-02T01:50:54.944203Z"
    }
   },
   "outputs": [],
   "source": [
    "orig_col = ['500k', '1k', '2k', '3k', '4k', '6k', '8k']\n",
    "\n",
    "def get_predictions(_input):\n",
    "    comb, freqs = _input\n",
    "    comb_s = len(comb)\n",
    "    preds = []\n",
    "    for i in range(comb_s, 7):\n",
    "        model_inf = find_audio_model(comb)\n",
    "        if model_inf:\n",
    "            x, y, model_name = find_audio_model(comb)\n",
    "        else:\n",
    "            print('Combination not accepted')\n",
    "            return None\n",
    "        model = joblib.load(m_path / model_name)\n",
    "        pred = get_closer_5_multi(model.predict(np.array([freqs]))[0])\n",
    "        comb += [y]\n",
    "        freqs += [pred]\n",
    "        \n",
    "    orig_idx = [orig_col.index(i) for i in comb]\n",
    "    res = [i for _,i in sorted(zip(orig_idx,freqs))]\n",
    "    return res"
   ]
  },
  {
   "cell_type": "code",
   "execution_count": 433,
   "id": "75bec98c",
   "metadata": {
    "ExecuteTime": {
     "end_time": "2022-08-02T01:50:56.036847Z",
     "start_time": "2022-08-02T01:50:56.028003Z"
    }
   },
   "outputs": [
    {
     "data": {
      "text/plain": [
       "[15, 15, 20, 15, 10, 5, 10]"
      ]
     },
     "execution_count": 433,
     "metadata": {},
     "output_type": "execute_result"
    }
   ],
   "source": [
    "get_predictions(_input)"
   ]
  },
  {
   "cell_type": "code",
   "execution_count": 436,
   "id": "6115b3d8",
   "metadata": {
    "ExecuteTime": {
     "end_time": "2022-08-02T01:54:39.913387Z",
     "start_time": "2022-08-02T01:54:39.909786Z"
    }
   },
   "outputs": [],
   "source": [
    "_input = (['2k','4k','6k','8k'], [20,10,5,10])"
   ]
  },
  {
   "cell_type": "code",
   "execution_count": 439,
   "id": "dcde41f5",
   "metadata": {
    "ExecuteTime": {
     "end_time": "2022-08-02T02:03:57.567015Z",
     "start_time": "2022-08-02T02:03:57.560699Z"
    }
   },
   "outputs": [
    {
     "data": {
      "text/plain": [
       "[10, 10, 20, 15, 10, 5, 10]"
      ]
     },
     "execution_count": 439,
     "metadata": {},
     "output_type": "execute_result"
    }
   ],
   "source": [
    "get_predictions(_input)"
   ]
  },
  {
   "cell_type": "code",
   "execution_count": 440,
   "id": "6acf2b2c",
   "metadata": {
    "ExecuteTime": {
     "end_time": "2022-08-02T02:07:10.425202Z",
     "start_time": "2022-08-02T02:07:10.422423Z"
    }
   },
   "outputs": [],
   "source": [
    "_input = (['2k','4k','6k','8k','10k'], [20,10,5,10,8])"
   ]
  },
  {
   "cell_type": "code",
   "execution_count": 441,
   "id": "14eb8799",
   "metadata": {
    "ExecuteTime": {
     "end_time": "2022-08-02T02:07:13.916655Z",
     "start_time": "2022-08-02T02:07:13.911661Z"
    }
   },
   "outputs": [
    {
     "name": "stdout",
     "output_type": "stream",
     "text": [
      "Combination not accepted\n"
     ]
    }
   ],
   "source": [
    "get_predictions(_input)"
   ]
  }
 ],
 "metadata": {
  "kernelspec": {
   "display_name": "Python 3 (ipykernel)",
   "language": "python",
   "name": "python3"
  },
  "language_info": {
   "codemirror_mode": {
    "name": "ipython",
    "version": 3
   },
   "file_extension": ".py",
   "mimetype": "text/x-python",
   "name": "python",
   "nbconvert_exporter": "python",
   "pygments_lexer": "ipython3",
   "version": "3.10.4"
  }
 },
 "nbformat": 4,
 "nbformat_minor": 5
}
